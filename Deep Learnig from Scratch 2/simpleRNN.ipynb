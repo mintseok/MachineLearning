{
  "nbformat": 4,
  "nbformat_minor": 0,
  "metadata": {
    "colab": {
      "name": "simpleRNN.ipynb",
      "provenance": [],
      "authorship_tag": "ABX9TyORqVj10M75qtxCzuyz9gsn",
      "include_colab_link": true
    },
    "kernelspec": {
      "name": "python3",
      "display_name": "Python 3"
    },
    "language_info": {
      "name": "python"
    }
  },
  "cells": [
    {
      "cell_type": "markdown",
      "metadata": {
        "id": "view-in-github",
        "colab_type": "text"
      },
      "source": [
        "<a href=\"https://colab.research.google.com/github/mintseok/MachineLearning/blob/main/Deep%20Learnig%20from%20Scratch%202/simpleRNN.ipynb\" target=\"_parent\"><img src=\"https://colab.research.google.com/assets/colab-badge.svg\" alt=\"Open In Colab\"/></a>"
      ]
    },
    {
      "cell_type": "markdown",
      "metadata": {
        "id": "uxk4cAHNwEI9"
      },
      "source": [
        "# 구글 드라이브 마운트 시키기"
      ]
    },
    {
      "cell_type": "code",
      "metadata": {
        "colab": {
          "base_uri": "https://localhost:8080/"
        },
        "id": "xuTUYIfCujK7",
        "outputId": "80d2d7c2-7f84-4396-fe07-6746e7d30d6a"
      },
      "source": [
        "from google.colab import drive\n",
        "drive.mount('/content/drive')"
      ],
      "execution_count": null,
      "outputs": [
        {
          "output_type": "stream",
          "text": [
            "Drive already mounted at /content/drive; to attempt to forcibly remount, call drive.mount(\"/content/drive\", force_remount=True).\n"
          ],
          "name": "stdout"
        }
      ]
    },
    {
      "cell_type": "code",
      "metadata": {
        "colab": {
          "base_uri": "https://localhost:8080/"
        },
        "id": "bKfzHCCov9-Y",
        "outputId": "319f8700-4706-43b1-e269-6fb7a21fb50e"
      },
      "source": [
        "cd /content/drive/MyDrive/밑시딥2/DLFromScratch2"
      ],
      "execution_count": null,
      "outputs": [
        {
          "output_type": "stream",
          "text": [
            "/content/drive/MyDrive/밑시딥2/DLFromScratch2\n"
          ],
          "name": "stdout"
        }
      ]
    },
    {
      "cell_type": "markdown",
      "metadata": {
        "id": "eLW1FJfowJCM"
      },
      "source": [
        "# RNN 계층 만들기"
      ]
    },
    {
      "cell_type": "code",
      "metadata": {
        "id": "ySc7Rrx3wKr4"
      },
      "source": [
        "import numpy as np\n",
        "\n",
        "class RNN:\n",
        "  def __init__(self, Wx, Wh, b):\n",
        "    self.params = [Wx, Wh, b]\n",
        "    self.grads = [np.zeros_like(Wx), np.zeros_like(Wh), np.zeros_like(b)]\n",
        "    self.cache = None\n",
        "\n",
        "  def forward(self, x, h_prev):\n",
        "    Wx, Wh, b = self.params\n",
        "    t = np.matmul(h_prev, Wh) + np.matmul(x, Wx) + b\n",
        "    h_next = np.tanh(t)\n",
        "\n",
        "    self.cache = (x, h_prev, h_next)\n",
        "    return h_next\n",
        "\n",
        "  def backward(self, dh_next):\n",
        "    Wx, Wh, b = self.params\n",
        "    x, h_prev, h_next = self.cache\n",
        "\n",
        "    dt = dh_next * (1 - h_next ** 2)\n",
        "    db = np.sum(dt, axis=0)\n",
        "    dWh = np.matmul(h_prev.T, dt)\n",
        "    dh_prev = np.matmul(dt, Wh.t)\n",
        "    dWx = np.matmul(x.T, dt)\n",
        "    dx = np.matmul(dt, Wx.t)\n",
        "\n",
        "    self.grads[0][...] = dWx\n",
        "    self.grads[1][...] = dWh\n",
        "    self.grads[2][...] = db\n",
        "\n",
        "    return dx, dh_prev"
      ],
      "execution_count": null,
      "outputs": []
    },
    {
      "cell_type": "markdown",
      "metadata": {
        "id": "C6H9B3sO2hzn"
      },
      "source": [
        "# Time RNN 계층 구현"
      ]
    },
    {
      "cell_type": "code",
      "metadata": {
        "id": "fTU1T6_t0hom"
      },
      "source": [
        "class TimeRNN:\n",
        "  def __init__(self, Wx, Wh, b, stateful=False):\n",
        "    self.params = [Wx, Wh, b]\n",
        "    self.grads = [np.zeros_like(Wx), np.zeros_like(Wh), np.zeros_like(b)]\n",
        "    self.layers = None\n",
        "    \n",
        "    self.h, self.dh = None, None\n",
        "    self.statefull = stateful\n",
        "\n",
        "  def set_state(self, h):\n",
        "    self.h = h\n",
        "\n",
        "  def reset_state(self):\n",
        "    self.h = None\n",
        "\n",
        "  def forward(self, xs):\n",
        "    Wx, Wh, b = self.params\n",
        "    N, T, D = xs.shape\n",
        "    D, H = Wx.shape\n",
        "\n",
        "    self.layers = []\n",
        "    hs = np.empty((N, T, H), dtype='f')\n",
        "\n",
        "    if not self.stateful or self.h is None:\n",
        "      self.h = np.zeros((N, H), dtype='f')\n",
        "\n",
        "    for t in range(T):\n",
        "      layer = RNN(*self.params)\n",
        "      self.h = layer.forward(xs[:, t, :], self.h)\n",
        "      hs[:, t, :] = self.h\n",
        "      self.layers.append(layer)\n",
        "\n",
        "    return hs\n",
        "\n",
        "  def backward(self, dhs):\n",
        "    Wx, Wh, b = self.params\n",
        "    N, T, H = dhs.shape\n",
        "    D, H = Wx.shape\n",
        "\n",
        "    dxs = np.empty((N, T, D), dype='f')\n",
        "    dh = 0\n",
        "    grads = [0, 0, 0]\n",
        "    for t in reversed(range(T)):\n",
        "      layer = self.layers[t]\n",
        "      dx, dh = layer.backward(dhs[:, t, :] + dh)\n",
        "      dxs[:, t, :] = dx\n",
        "\n",
        "      for i, grad in enumerate(layer.grads):\n",
        "        grads[i] += grads\n",
        "\n",
        "    for i, grad in enumerate(grads):\n",
        "      self.grads[i][...] = grad\n",
        "    self.dh = dh\n",
        "\n",
        "    return dxs"
      ],
      "execution_count": null,
      "outputs": []
    },
    {
      "cell_type": "code",
      "metadata": {
        "colab": {
          "base_uri": "https://localhost:8080/"
        },
        "id": "sW_E7NZI51YG",
        "outputId": "ddde36f9-dc05-4395-b64f-3651b77ca384"
      },
      "source": [
        "!cd /content/drive/MyDrive/밑시딥2/DLFromScratch2/common\n",
        "!cd /content/drive/MyDrive/밑시딥2/DLFromScratch2\n",
        "!dir"
      ],
      "execution_count": null,
      "outputs": [
        {
          "output_type": "stream",
          "text": [
            "cbow_params.pkl\t\t\t\t\t\tChap07-Seq2Seq\n",
            "Chap01-Neural_Networks_Review\t\t\t\tChap08-Attention\n",
            "Chap02-Natural_Language_and_Distributed_Representation\tcommon\n",
            "Chap03-Word2Vec\t\t\t\t\t\tcover.jpg\n",
            "Chap04_Word2Vec_Improved\t\t\t\tdataset\n",
            "Chap05-Recurrent_Neural_Network\t\t\t\tequations_and_figures_2\n",
            "Chap06-Fancy_RNN\t\t\t\t\tREADME.md\n"
          ],
          "name": "stdout"
        }
      ]
    },
    {
      "cell_type": "markdown",
      "metadata": {
        "id": "FJwMvnPT4rvh"
      },
      "source": [
        "# simpleRNNlm (language model)"
      ]
    },
    {
      "cell_type": "code",
      "metadata": {
        "id": "leY4UI--3mDF"
      },
      "source": [
        "import sys\n",
        "sys.path.append('..')\n",
        "import numpy as np\n",
        "from common.time_layers import *\n",
        "\n",
        "class SimpleRnnlm:\n",
        "  def __init__(self, vocab_size, wordvec_size, hidden_size):\n",
        "    V, D, H  = vocab_size, wordvec_size, hidden_size\n",
        "    rn = np.random.randn\n",
        "\n",
        "    # 가중치 초기화\n",
        "    embed_W = (rn(V, D) / 100).astype('f')\n",
        "    rnn_Wx = (rn(D, H) / np.sqrt(D)).astype('f')\n",
        "    rnn_Wh = (rn(H, D) / np.sqrt(H)).astype('f')\n",
        "    rnn_b = np.zeros(H).astype('f')\n",
        "    affine_W = (rn(H, V) / np.sqrt(H)).astype('f')\n",
        "    affine_b = np.zeros(V).astype('f')\n",
        "\n",
        "    # 계층 생성\n",
        "    self.layers = [\n",
        "                   TimeEmbedding(embed_W),\n",
        "                   TimeRNN(rnn_Wx, rnn_Wh, rnn_b, stateful=True),\n",
        "                   TimeAffine(affine_W, affine_b)\n",
        "    ]\n",
        "    self.loss_layer = TimeSoftmaxWithLoss()\n",
        "    self.rnn_layer = self.layers[1]\n",
        "\n",
        "    # 모든 가중치와 기울기를 리스트에 모은다\n",
        "    self.params, self.grads = [], []\n",
        "    for layer in self.layers:\n",
        "      self.params += layer.params\n",
        "      self.grads += layer.grads\n",
        "  \n",
        "  def forward(self, xs, ts):\n",
        "        for layer in self.layers:\n",
        "            xs = layer.forward(xs)\n",
        "        loss = self.loss_layer.forward(xs, ts)\n",
        "        return loss\n",
        "    \n",
        "  def backward(self, dout=1):\n",
        "      dout = self.loss_layer.backward(dout)\n",
        "      for layer in reversed(self.layers):\n",
        "          dout = layer.backward(dout)\n",
        "      return dout\n",
        "  \n",
        "  def reset_state(self):\n",
        "      self.rnn_layer.reset_state()"
      ],
      "execution_count": null,
      "outputs": []
    },
    {
      "cell_type": "markdown",
      "metadata": {
        "id": "_JjzokcD7JfB"
      },
      "source": [
        "# 학습 시키기"
      ]
    },
    {
      "cell_type": "code",
      "metadata": {
        "colab": {
          "base_uri": "https://localhost:8080/",
          "height": 1000
        },
        "id": "X7gRKNTH6_h9",
        "outputId": "99ee645b-bc22-463d-f7f5-70a0bece195b"
      },
      "source": [
        "import sys\n",
        "sys.path.append('..')\n",
        "import matplotlib.pyplot as plt\n",
        "import numpy as np\n",
        "from common.optimizer import SGD\n",
        "from dataset import ptb\n",
        "# from simple_rnnlm import SimpleRnnlm\n",
        "\n",
        "\n",
        "# 하이퍼파라미터 설정\n",
        "batch_size = 10\n",
        "wordvec_size = 100\n",
        "hidden_size = 100 # RNN의 은닉 상태 벡터의 원소 수\n",
        "time_size = 5     # Truncated BPTT가 한 번에 펼치는 시간 크기\n",
        "lr = 0.1\n",
        "max_epoch = 100\n",
        "\n",
        "# 학습 데이터 읽기(전체 중 1000개만)\n",
        "corpus, word_to_id, id_to_word = ptb.load_data('train')\n",
        "corpus_size = 1000\n",
        "corpus = corpus[:corpus_size]\n",
        "vocab_size = int(max(corpus) + 1)\n",
        "\n",
        "xs = corpus[:-1]  # 입력\n",
        "ts = corpus[1:]   # 출력(정답 레이블)\n",
        "data_size = len(xs)\n",
        "print('말뭉치 크기: %d, 어휘 수: %d' % (corpus_size, vocab_size))\n",
        "\n",
        "# 학습 시 사용하는 변수\n",
        "max_iters = data_size // (batch_size * time_size)\n",
        "time_idx = 0\n",
        "total_loss = 0\n",
        "loss_count = 0\n",
        "ppl_list = []\n",
        "\n",
        "# 모델 생성\n",
        "model = SimpleRnnlm(vocab_size, wordvec_size, hidden_size)\n",
        "optimizer = SGD(lr)\n",
        "\n",
        "# 미니배치의 각 샘플의 읽기 시작 위치를 계산\n",
        "jump = (corpus_size - 1) // batch_size\n",
        "offsets = [i * jump for i in range(batch_size)]\n",
        "\n",
        "for epoch in range(max_epoch):\n",
        "    for iter in range(max_iters):\n",
        "        # 미니배치 취득\n",
        "        batch_x = np.empty((batch_size, time_size), dtype='i')\n",
        "        batch_t = np.empty((batch_size, time_size), dtype='i')\n",
        "        for t in range(time_size):\n",
        "            for i, offset in enumerate(offsets):\n",
        "                batch_x[i, t] = xs[(offset + time_idx) % data_size]\n",
        "                batch_t[i, t] = ts[(offset + time_idx) % data_size]\n",
        "            time_idx += 1\n",
        "\n",
        "        # 기울기를 구하여 매개변수 갱신\n",
        "        loss = model.forward(batch_x, batch_t)\n",
        "        model.backward()\n",
        "        optimizer.update(model.params, model.grads)\n",
        "        total_loss += loss\n",
        "        loss_count += 1\n",
        "\n",
        "    # 에폭마다 퍼플렉서티 평가\n",
        "    ppl = np.exp(total_loss / loss_count)\n",
        "    print('| 에폭 %d | 퍼플렉서티 %.2f'\n",
        "          % (epoch+1, ppl))\n",
        "    ppl_list.append(float(ppl))\n",
        "    total_loss, loss_count = 0, 0\n",
        "\n",
        "# 그래프 그리기\n",
        "x = np.arange(len(ppl_list))\n",
        "plt.plot(x, ppl_list, label='train')\n",
        "plt.xlabel('epochs')\n",
        "plt.ylabel('perplexity')\n",
        "plt.show()"
      ],
      "execution_count": null,
      "outputs": [
        {
          "output_type": "stream",
          "text": [
            "말뭉치 크기: 1000, 어휘 수: 418\n",
            "| 에폭 1 | 퍼플렉서티 379.01\n",
            "| 에폭 2 | 퍼플렉서티 248.61\n",
            "| 에폭 3 | 퍼플렉서티 221.04\n",
            "| 에폭 4 | 퍼플렉서티 212.62\n",
            "| 에폭 5 | 퍼플렉서티 205.01\n",
            "| 에폭 6 | 퍼플렉서티 201.74\n",
            "| 에폭 7 | 퍼플렉서티 197.77\n",
            "| 에폭 8 | 퍼플렉서티 195.74\n",
            "| 에폭 9 | 퍼플렉서티 192.07\n",
            "| 에폭 10 | 퍼플렉서티 192.71\n",
            "| 에폭 11 | 퍼플렉서티 188.67\n",
            "| 에폭 12 | 퍼플렉서티 192.53\n",
            "| 에폭 13 | 퍼플렉서티 190.08\n",
            "| 에폭 14 | 퍼플렉서티 190.97\n",
            "| 에폭 15 | 퍼플렉서티 191.21\n",
            "| 에폭 16 | 퍼플렉서티 186.90\n",
            "| 에폭 17 | 퍼플렉서티 184.37\n",
            "| 에폭 18 | 퍼플렉서티 182.08\n",
            "| 에폭 19 | 퍼플렉서티 183.13\n",
            "| 에폭 20 | 퍼플렉서티 185.16\n",
            "| 에폭 21 | 퍼플렉서티 182.37\n",
            "| 에폭 22 | 퍼플렉서티 178.76\n",
            "| 에폭 23 | 퍼플렉서티 175.23\n",
            "| 에폭 24 | 퍼플렉서티 177.29\n",
            "| 에폭 25 | 퍼플렉서티 175.29\n",
            "| 에폭 26 | 퍼플렉서티 174.23\n",
            "| 에폭 27 | 퍼플렉서티 169.08\n",
            "| 에폭 28 | 퍼플렉서티 167.33\n",
            "| 에폭 29 | 퍼플렉서티 164.15\n",
            "| 에폭 30 | 퍼플렉서티 161.06\n",
            "| 에폭 31 | 퍼플렉서티 160.68\n",
            "| 에폭 32 | 퍼플렉서티 156.34\n",
            "| 에폭 33 | 퍼플렉서티 155.23\n",
            "| 에폭 34 | 퍼플렉서티 149.99\n",
            "| 에폭 35 | 퍼플렉서티 148.82\n",
            "| 에폭 36 | 퍼플렉서티 143.05\n",
            "| 에폭 37 | 퍼플렉서티 138.31\n",
            "| 에폭 38 | 퍼플렉서티 135.69\n",
            "| 에폭 39 | 퍼플렉서티 128.59\n",
            "| 에폭 40 | 퍼플렉서티 124.76\n",
            "| 에폭 41 | 퍼플렉서티 122.62\n",
            "| 에폭 42 | 퍼플렉서티 117.45\n",
            "| 에폭 43 | 퍼플렉서티 112.71\n",
            "| 에폭 44 | 퍼플렉서티 106.22\n",
            "| 에폭 45 | 퍼플렉서티 102.28\n",
            "| 에폭 46 | 퍼플렉서티 101.51\n",
            "| 에폭 47 | 퍼플렉서티 95.68\n",
            "| 에폭 48 | 퍼플렉서티 90.43\n",
            "| 에폭 49 | 퍼플렉서티 86.80\n",
            "| 에폭 50 | 퍼플렉서티 84.06\n",
            "| 에폭 51 | 퍼플렉서티 79.37\n",
            "| 에폭 52 | 퍼플렉서티 76.39\n",
            "| 에폭 53 | 퍼플렉서티 72.60\n",
            "| 에폭 54 | 퍼플렉서티 70.21\n",
            "| 에폭 55 | 퍼플렉서티 66.95\n",
            "| 에폭 56 | 퍼플렉서티 62.54\n",
            "| 에폭 57 | 퍼플렉서티 59.23\n",
            "| 에폭 58 | 퍼플렉서티 56.54\n",
            "| 에폭 59 | 퍼플렉서티 53.71\n",
            "| 에폭 60 | 퍼플렉서티 50.80\n",
            "| 에폭 61 | 퍼플렉서티 47.79\n",
            "| 에폭 62 | 퍼플렉서티 45.29\n",
            "| 에폭 63 | 퍼플렉서티 43.10\n",
            "| 에폭 64 | 퍼플렉서티 39.89\n",
            "| 에폭 65 | 퍼플렉서티 38.19\n",
            "| 에폭 66 | 퍼플렉서티 35.96\n",
            "| 에폭 67 | 퍼플렉서티 34.58\n",
            "| 에폭 68 | 퍼플렉서티 31.77\n",
            "| 에폭 69 | 퍼플렉서티 30.36\n",
            "| 에폭 70 | 퍼플렉서티 29.73\n",
            "| 에폭 71 | 퍼플렉서티 27.42\n",
            "| 에폭 72 | 퍼플렉서티 25.87\n",
            "| 에폭 73 | 퍼플렉서티 23.96\n",
            "| 에폭 74 | 퍼플렉서티 22.93\n",
            "| 에폭 75 | 퍼플렉서티 21.52\n",
            "| 에폭 76 | 퍼플렉서티 20.09\n",
            "| 에폭 77 | 퍼플렉서티 19.24\n",
            "| 에폭 78 | 퍼플렉서티 17.77\n",
            "| 에폭 79 | 퍼플렉서티 16.81\n",
            "| 에폭 80 | 퍼플렉서티 16.04\n",
            "| 에폭 81 | 퍼플렉서티 15.22\n",
            "| 에폭 82 | 퍼플렉서티 15.28\n",
            "| 에폭 83 | 퍼플렉서티 13.04\n",
            "| 에폭 84 | 퍼플렉서티 12.79\n",
            "| 에폭 85 | 퍼플렉서티 12.19\n",
            "| 에폭 86 | 퍼플렉서티 11.92\n",
            "| 에폭 87 | 퍼플렉서티 10.96\n",
            "| 에폭 88 | 퍼플렉서티 10.12\n",
            "| 에폭 89 | 퍼플렉서티 9.74\n",
            "| 에폭 90 | 퍼플렉서티 9.27\n",
            "| 에폭 91 | 퍼플렉서티 8.75\n",
            "| 에폭 92 | 퍼플렉서티 8.45\n",
            "| 에폭 93 | 퍼플렉서티 8.48\n",
            "| 에폭 94 | 퍼플렉서티 7.84\n",
            "| 에폭 95 | 퍼플렉서티 7.92\n",
            "| 에폭 96 | 퍼플렉서티 6.93\n",
            "| 에폭 97 | 퍼플렉서티 6.83\n",
            "| 에폭 98 | 퍼플렉서티 6.39\n",
            "| 에폭 99 | 퍼플렉서티 6.00\n",
            "| 에폭 100 | 퍼플렉서티 5.56\n"
          ],
          "name": "stdout"
        },
        {
          "output_type": "display_data",
          "data": {
            "image/png": "[encoded data removed]",
            "text/plain": [
              "<Figure size 432x288 with 1 Axes>"
            ]
          },
          "metadata": {
            "tags": [],
            "needs_background": "light"
          }
        }
      ]
    },
    {
      "cell_type": "code",
      "metadata": {
        "id": "QwufgO0A42YL"
      },
      "source": [
        ""
      ],
      "execution_count": null,
      "outputs": []
    }
  ]
}