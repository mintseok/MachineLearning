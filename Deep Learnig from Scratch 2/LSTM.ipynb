{
  "nbformat": 4,
  "nbformat_minor": 0,
  "metadata": {
    "colab": {
      "name": "LSTM.ipynb",
      "provenance": [],
      "collapsed_sections": [],
      "authorship_tag": "ABX9TyPBRcDdchvh7bJj+3sYfrgL",
      "include_colab_link": true
    },
    "kernelspec": {
      "name": "python3",
      "display_name": "Python 3"
    },
    "language_info": {
      "name": "python"
    }
  },
  "cells": [
    {
      "cell_type": "markdown",
      "metadata": {
        "id": "view-in-github",
        "colab_type": "text"
      },
      "source": [
        "<a href=\"https://colab.research.google.com/github/mintseok/MachineLearning/blob/main/Deep%20Learnig%20from%20Scratch%202/LSTM.ipynb\" target=\"_parent\"><img src=\"https://colab.research.google.com/assets/colab-badge.svg\" alt=\"Open In Colab\"/></a>"
      ]
    },
    {
      "cell_type": "markdown",
      "metadata": {
        "id": "sWyXDT60E_QF"
      },
      "source": [
        "# Google Drive Mount"
      ]
    },
    {
      "cell_type": "code",
      "metadata": {
        "colab": {
          "base_uri": "https://localhost:8080/"
        },
        "id": "uuR8vjV2E1wB",
        "outputId": "0a2425a6-b0c8-4208-a64a-87e29c6dff22"
      },
      "source": [
        "from google.colab import drive\n",
        "drive.mount('/content/drive')"
      ],
      "execution_count": 2,
      "outputs": [
        {
          "output_type": "stream",
          "text": [
            "Drive already mounted at /content/drive; to attempt to forcibly remount, call drive.mount(\"/content/drive\", force_remount=True).\n"
          ],
          "name": "stdout"
        }
      ]
    },
    {
      "cell_type": "code",
      "metadata": {
        "colab": {
          "base_uri": "https://localhost:8080/"
        },
        "id": "yr4z0rdVFcWl",
        "outputId": "c835e8dd-0574-4410-e752-aba8660c9dc4"
      },
      "source": [
        "cd /content/drive/MyDrive/밑시딥2/DLFromScratch2"
      ],
      "execution_count": 3,
      "outputs": [
        {
          "output_type": "stream",
          "text": [
            "/content/drive/MyDrive/밑시딥2/DLFromScratch2\n"
          ],
          "name": "stdout"
        }
      ]
    },
    {
      "cell_type": "markdown",
      "metadata": {
        "id": "LTsWgnyzF6mC"
      },
      "source": [
        "# LSTM 계층 구현하기"
      ]
    },
    {
      "cell_type": "code",
      "metadata": {
        "id": "lpJtze2GFzCu"
      },
      "source": [
        "# 게이트가 추가된 RNN -> LSTM\n",
        "class LSTM:\n",
        "  def __init__(self, Wx, Wh, b):\n",
        "    self.params = [Wx, Wh, b]\n",
        "    self.grads = [np.zeros_like(Wx), np.zeros_like(Wh), np.zeros_like(b)]\n",
        "    self.cache = None\n",
        "\n",
        "  def forward(self, x, h_prev, c_prev):\n",
        "    Wx, Wh, b = self.params\n",
        "    N, H = h_prev.shape\n",
        "\n",
        "    A = np.matmul(x, Wx) + np.matmul(h_prev, Wh) + b\n",
        "\n",
        "    #slice\n",
        "    f = A[:, :H]\n",
        "    g = A[:, H:2*H]\n",
        "    i = A[:, 2*H:3*H]\n",
        "    o = A[:, 3*H:]\n",
        "\n",
        "    f = sigmoid(f)\n",
        "    g = np.tanh(g)\n",
        "    i = sigmoid(i)\n",
        "    o = sigmoid(o)\n",
        "\n",
        "    c_next = f * c_prev + g * i\n",
        "    h_next = o * np.tanh(c_next)\n",
        "\n",
        "    self.cache = (x, h_prev, c_prev, i , f, g, o, c_next)\n",
        "    return h_next, c_next\n",
        "\n",
        "  def backward(self, dh_next, dc_next): # 역전파 좀 복잡쓰;;\n",
        "    Wx, Wh, b = self.params\n",
        "    x, h_prev, c_prev, i, f, g, o, c_next = self.cache\n",
        "    \n",
        "    tanh_c_next = np.tanh(c_next)\n",
        "    \n",
        "    ds = dc_next + (dh_next * o) * (1 - tanh_c_next ** 2)\n",
        "    \n",
        "    dc_prev = ds * f\n",
        "    \n",
        "    di = ds * g\n",
        "    df = ds * c_prev\n",
        "    do = dh_next * tanh_c_next\n",
        "    dg = ds * i\n",
        "    \n",
        "    di *= i * (1 - i)\n",
        "    df *= f * (1 - f)\n",
        "    do *= o * (1 - o)\n",
        "    dg *= (1 - g ** 2)\n",
        "    \n",
        "    dA = np.hstack((df, dg, di, do))\n",
        "    \n",
        "    dWh = np.dot(h_prev.T, dA)\n",
        "    dWx = np.dot(x.T, dA)\n",
        "    db = dA.sum(axis=0)\n",
        "    \n",
        "    self.grads[0][...] = dWx\n",
        "    self.grads[1][...] = dWh\n",
        "    self.grads[2][...] = db\n",
        "    \n",
        "    dx = np.dot(dA, Wx.T)\n",
        "    dh_prev = np.dot(dA, Wh.T)\n",
        "    \n",
        "    return dx, dh_prev, dc_prev"
      ],
      "execution_count": 4,
      "outputs": []
    },
    {
      "cell_type": "markdown",
      "metadata": {
        "id": "yCETuB0dLYqe"
      },
      "source": [
        "# Time LSTM 계층 구현하기"
      ]
    },
    {
      "cell_type": "code",
      "metadata": {
        "id": "w81TpjHWLXow"
      },
      "source": [
        "class TimeLSTM:\n",
        "  def __init__(self, Wx, Wh, b, stateful=False):\n",
        "    self.params = [Wx, Wh, b]\n",
        "    self.grads = [np.zeros_like(Wx), np.zeros_like(Wh), np.zeros_like(b)]\n",
        "    self.layers = None\n",
        "    \n",
        "    self.h, self.c = None, None\n",
        "    self.dh = None\n",
        "    self.stateful = stateful\n",
        "      \n",
        "  def forward(self, xs):\n",
        "    Wx, Wh, b = self.params\n",
        "    N, T, D = xs.shape\n",
        "    H = Wh.shape[0]\n",
        "\n",
        "    self.layers = []\n",
        "    hs = np.empty((N, T, H), dtype='f')\n",
        "\n",
        "    if not self.stateful or self.h is None:\n",
        "      self.h = np.zeros((N, H), dtype='f')\n",
        "    if not self.stateful or self.c is None:\n",
        "      self.c = np.zeros((N, H), dtype='f')\n",
        "\n",
        "    for t in range(T):\n",
        "      layer = LSTM(*self.params)\n",
        "      self.h, self.c = layer.forward(xs[:, t, :], self.h, self.c)\n",
        "      hs[:, t, :] = self.h\n",
        "\n",
        "      self.layers.append(layer)\n",
        "\n",
        "    return hs\n",
        "\n",
        "  def backward(self, dhs):\n",
        "    Wx, Wh, b = self.params\n",
        "    N, T, H = dhs.shape\n",
        "    D = Wx.shape[0]\n",
        "\n",
        "    dxs = np.empty((N, T, D), dtype='f')\n",
        "    dh, dc = 0, 0\n",
        "\n",
        "    grads = [0, 0, 0]\n",
        "    for t in reversed(range(T)):\n",
        "      layer = self.layers[t]\n",
        "      dx, dh, dc = layer.backward(dhs[:, t, :] + dh, dc)\n",
        "      dxs[:, t, :] = dx\n",
        "      for i, grad in enumerate(layer.grads):\n",
        "        grads[i] += grad\n",
        "\n",
        "    for i, grad in enumerate(grads):\n",
        "      self.grads[i][...] = grad\n",
        "    self.dh = dh\n",
        "    return dxs\n",
        "\n",
        "  def set_state(self, h, c=None):\n",
        "    self.h, self.c = h, c\n",
        "\n",
        "  def reset_state(self):\n",
        "    self.h, self.c = None, None"
      ],
      "execution_count": 5,
      "outputs": []
    },
    {
      "cell_type": "markdown",
      "metadata": {
        "id": "qYbseOulMn1l"
      },
      "source": [
        "# Rnnlm 모델"
      ]
    },
    {
      "cell_type": "code",
      "metadata": {
        "id": "rhfawzDYLzre"
      },
      "source": [
        "import sys\n",
        "sys.path.append('..')\n",
        "from common.time_layers import *\n",
        "from common.base_model import BaseModel\n",
        "\n",
        "# 보면, 여기서 구현을 안 다룬 계층들이 존재하지만, 다 개념은 같기에 안 다루고 import 해서 사용..\n",
        "class Rnnlm(BaseModel):\n",
        "  def __init__(self, vocab_size=10000, wordvec_size=100, hidden_size=100):\n",
        "    V, D, H = vocab_size, wordvec_size, hidden_size\n",
        "    rn = np.random.randn\n",
        "\n",
        "    # 가중치 초기화\n",
        "    embed_W = (rn(V, D) / 100).astype('f')\n",
        "    lstm_Wx = (rn(D, 4 * H) / np.sqrt(D)).astype('f')\n",
        "    lstm_Wh = (rn(H, 4 * H) / np.sqrt(H)).astype('f')\n",
        "    lstm_b = np.zeros(4 * H).astype('f')\n",
        "    affine_W = (rn(H, V) / np.sqrt(H)).astype('f')\n",
        "    affine_b = np.zeros(V).astype('f')\n",
        "\n",
        "    # 계층 생성\n",
        "    self.layers = [\n",
        "      TimeEmbedding(embed_W),\n",
        "      TimeLSTM(lstm_Wx, lstm_Wh, lstm_b, stateful=True),\n",
        "      TimeAffine(affine_W, affine_b)\n",
        "    ]\n",
        "    self.loss_layer = TimeSoftmaxWithLoss()\n",
        "    self.lstm_layer = self.layers[1]\n",
        "\n",
        "    # 모든 가중치와 기울기를 리스트에 모은다.\n",
        "    self.params, self.grads = [], []\n",
        "    for layer in self.layers:\n",
        "      self.params += layer.params\n",
        "      self.grads += layer.grads\n",
        "\n",
        "  def predict(self, xs):\n",
        "    for layer in self.layers:\n",
        "        xs = layer.forward(xs)\n",
        "    return xs\n",
        "\n",
        "  def forward(self, xs, ts):\n",
        "    score = self.predict(xs)\n",
        "    loss = self.loss_layer.forward(score, ts)\n",
        "    return loss\n",
        "\n",
        "  def backward(self, dout=1):\n",
        "    dout = self.loss_layer.backward(dout)\n",
        "    for layer in reversed(self.layers):\n",
        "      dout = layer.backward(dout)\n",
        "    return dout\n",
        "\n",
        "  def reset_state(self):\n",
        "    self.lstm_layer.reset_state()"
      ],
      "execution_count": 6,
      "outputs": []
    },
    {
      "cell_type": "markdown",
      "metadata": {
        "id": "bofZFLrGNBYW"
      },
      "source": [
        "# 모델 학습시켜주기"
      ]
    },
    {
      "cell_type": "code",
      "metadata": {
        "colab": {
          "base_uri": "https://localhost:8080/",
          "height": 1000
        },
        "id": "WWuUcwIbM--2",
        "outputId": "d55ca3b1-b8c8-431e-b345-7050e7e251a1"
      },
      "source": [
        "import sys\n",
        "sys.path.append('..')\n",
        "from common.optimizer import SGD\n",
        "from common.trainer import RnnlmTrainer\n",
        "from common.util import eval_perplexity\n",
        "from dataset import ptb\n",
        "from Chap06_Fancy_RNN.rnnlm import Rnnlm\n",
        "\n",
        "\n",
        "# 하이퍼파라미터 설정\n",
        "batch_size = 20\n",
        "wordvec_size = 100\n",
        "hidden_size = 100  # RNN의 은닉 상태 벡터의 원소 수\n",
        "time_size = 35     # RNN을 펼치는 크기\n",
        "lr = 20.0\n",
        "max_epoch = 2      # 원래 4번 수행이 적혀있었으나, 2번으로 단축시킴\n",
        "max_grad = 0.25\n",
        "\n",
        "# 학습 데이터 읽기\n",
        "corpus, word_to_id, id_to_word = ptb.load_data('train')\n",
        "corpus_test, _, _ = ptb.load_data('test')\n",
        "vocab_size = len(word_to_id)\n",
        "xs = corpus[:-1]\n",
        "ts = corpus[1:]\n",
        "\n",
        "# 모델 생성\n",
        "model = Rnnlm(vocab_size, wordvec_size, hidden_size)\n",
        "optimizer = SGD(lr)\n",
        "trainer = RnnlmTrainer(model, optimizer)\n",
        "\n",
        "# 기울기 클리핑을 적용하여 학습\n",
        "trainer.fit(xs, ts, max_epoch, batch_size, time_size, max_grad,\n",
        "            eval_interval=20)\n",
        "trainer.plot(ylim=(0, 500))\n",
        "\n",
        "# 테스트 데이터로 평가\n",
        "model.reset_state()\n",
        "ppl_test = eval_perplexity(model, corpus_test)\n",
        "print('테스트 퍼플렉서티: ', ppl_test)\n",
        "\n",
        "# 매개변수 저장\n",
        "model.save_params()"
      ],
      "execution_count": 7,
      "outputs": [
        {
          "output_type": "stream",
          "text": [
            "| 에폭 1 |  반복 1 / 1327 | 시간 0[s] | 퍼플렉서티 10000.11\n",
            "| 에폭 1 |  반복 21 / 1327 | 시간 7[s] | 퍼플렉서티 2856.40\n",
            "| 에폭 1 |  반복 41 / 1327 | 시간 14[s] | 퍼플렉서티 1250.29\n",
            "| 에폭 1 |  반복 61 / 1327 | 시간 21[s] | 퍼플렉서티 953.09\n",
            "| 에폭 1 |  반복 81 / 1327 | 시간 27[s] | 퍼플렉서티 819.30\n",
            "| 에폭 1 |  반복 101 / 1327 | 시간 34[s] | 퍼플렉서티 654.19\n",
            "| 에폭 1 |  반복 121 / 1327 | 시간 41[s] | 퍼플렉서티 654.02\n",
            "| 에폭 1 |  반복 141 / 1327 | 시간 48[s] | 퍼플렉서티 606.81\n",
            "| 에폭 1 |  반복 161 / 1327 | 시간 54[s] | 퍼플렉서티 576.05\n",
            "| 에폭 1 |  반복 181 / 1327 | 시간 61[s] | 퍼플렉서티 593.53\n",
            "| 에폭 1 |  반복 201 / 1327 | 시간 68[s] | 퍼플렉서티 511.01\n",
            "| 에폭 1 |  반복 221 / 1327 | 시간 74[s] | 퍼플렉서티 496.03\n",
            "| 에폭 1 |  반복 241 / 1327 | 시간 81[s] | 퍼플렉서티 444.26\n",
            "| 에폭 1 |  반복 261 / 1327 | 시간 88[s] | 퍼플렉서티 468.93\n",
            "| 에폭 1 |  반복 281 / 1327 | 시간 94[s] | 퍼플렉서티 455.43\n",
            "| 에폭 1 |  반복 301 / 1327 | 시간 101[s] | 퍼플렉서티 391.98\n",
            "| 에폭 1 |  반복 321 / 1327 | 시간 107[s] | 퍼플렉서티 340.96\n",
            "| 에폭 1 |  반복 341 / 1327 | 시간 114[s] | 퍼플렉서티 399.05\n",
            "| 에폭 1 |  반복 361 / 1327 | 시간 121[s] | 퍼플렉서티 408.25\n",
            "| 에폭 1 |  반복 381 / 1327 | 시간 127[s] | 퍼플렉서티 335.51\n",
            "| 에폭 1 |  반복 401 / 1327 | 시간 134[s] | 퍼플렉서티 346.23\n",
            "| 에폭 1 |  반복 421 / 1327 | 시간 141[s] | 퍼플렉서티 343.89\n",
            "| 에폭 1 |  반복 441 / 1327 | 시간 147[s] | 퍼플렉서티 333.76\n",
            "| 에폭 1 |  반복 461 / 1327 | 시간 154[s] | 퍼플렉서티 323.56\n",
            "| 에폭 1 |  반복 481 / 1327 | 시간 161[s] | 퍼플렉서티 304.88\n",
            "| 에폭 1 |  반복 501 / 1327 | 시간 167[s] | 퍼플렉서티 314.60\n",
            "| 에폭 1 |  반복 521 / 1327 | 시간 174[s] | 퍼플렉서티 303.51\n",
            "| 에폭 1 |  반복 541 / 1327 | 시간 181[s] | 퍼플렉서티 312.98\n",
            "| 에폭 1 |  반복 561 / 1327 | 시간 187[s] | 퍼플렉서티 286.20\n",
            "| 에폭 1 |  반복 581 / 1327 | 시간 194[s] | 퍼플렉서티 256.01\n",
            "| 에폭 1 |  반복 601 / 1327 | 시간 200[s] | 퍼플렉서티 336.98\n",
            "| 에폭 1 |  반복 621 / 1327 | 시간 207[s] | 퍼플렉서티 313.66\n",
            "| 에폭 1 |  반복 641 / 1327 | 시간 214[s] | 퍼플렉서티 283.38\n",
            "| 에폭 1 |  반복 661 / 1327 | 시간 220[s] | 퍼플렉서티 268.01\n",
            "| 에폭 1 |  반복 681 / 1327 | 시간 227[s] | 퍼플렉서티 226.51\n",
            "| 에폭 1 |  반복 701 / 1327 | 시간 234[s] | 퍼플렉서티 250.17\n",
            "| 에폭 1 |  반복 721 / 1327 | 시간 240[s] | 퍼플렉서티 258.69\n",
            "| 에폭 1 |  반복 741 / 1327 | 시간 247[s] | 퍼플렉서티 222.17\n",
            "| 에폭 1 |  반복 761 / 1327 | 시간 253[s] | 퍼플렉서티 231.82\n",
            "| 에폭 1 |  반복 781 / 1327 | 시간 260[s] | 퍼플렉서티 219.48\n",
            "| 에폭 1 |  반복 801 / 1327 | 시간 266[s] | 퍼플렉서티 240.68\n",
            "| 에폭 1 |  반복 821 / 1327 | 시간 273[s] | 퍼플렉서티 224.74\n",
            "| 에폭 1 |  반복 841 / 1327 | 시간 279[s] | 퍼플렉서티 228.14\n",
            "| 에폭 1 |  반복 861 / 1327 | 시간 286[s] | 퍼플렉서티 222.49\n",
            "| 에폭 1 |  반복 881 / 1327 | 시간 293[s] | 퍼플렉서티 206.20\n",
            "| 에폭 1 |  반복 901 / 1327 | 시간 299[s] | 퍼플렉서티 255.24\n",
            "| 에폭 1 |  반복 921 / 1327 | 시간 306[s] | 퍼플렉서티 224.57\n",
            "| 에폭 1 |  반복 941 / 1327 | 시간 312[s] | 퍼플렉서티 229.16\n",
            "| 에폭 1 |  반복 961 / 1327 | 시간 319[s] | 퍼플렉서티 243.33\n",
            "| 에폭 1 |  반복 981 / 1327 | 시간 325[s] | 퍼플렉서티 228.90\n",
            "| 에폭 1 |  반복 1001 / 1327 | 시간 332[s] | 퍼플렉서티 193.33\n",
            "| 에폭 1 |  반복 1021 / 1327 | 시간 339[s] | 퍼플렉서티 226.95\n",
            "| 에폭 1 |  반복 1041 / 1327 | 시간 345[s] | 퍼플렉서티 205.00\n",
            "| 에폭 1 |  반복 1061 / 1327 | 시간 352[s] | 퍼플렉서티 197.91\n",
            "| 에폭 1 |  반복 1081 / 1327 | 시간 358[s] | 퍼플렉서티 169.13\n",
            "| 에폭 1 |  반복 1101 / 1327 | 시간 365[s] | 퍼플렉서티 192.49\n",
            "| 에폭 1 |  반복 1121 / 1327 | 시간 371[s] | 퍼플렉서티 230.54\n",
            "| 에폭 1 |  반복 1141 / 1327 | 시간 378[s] | 퍼플렉서티 208.30\n",
            "| 에폭 1 |  반복 1161 / 1327 | 시간 384[s] | 퍼플렉서티 200.29\n",
            "| 에폭 1 |  반복 1181 / 1327 | 시간 391[s] | 퍼플렉서티 190.44\n",
            "| 에폭 1 |  반복 1201 / 1327 | 시간 397[s] | 퍼플렉서티 163.30\n",
            "| 에폭 1 |  반복 1221 / 1327 | 시간 404[s] | 퍼플렉서티 160.31\n",
            "| 에폭 1 |  반복 1241 / 1327 | 시간 410[s] | 퍼플렉서티 189.00\n",
            "| 에폭 1 |  반복 1261 / 1327 | 시간 417[s] | 퍼플렉서티 171.66\n",
            "| 에폭 1 |  반복 1281 / 1327 | 시간 423[s] | 퍼플렉서티 180.75\n",
            "| 에폭 1 |  반복 1301 / 1327 | 시간 430[s] | 퍼플렉서티 223.71\n",
            "| 에폭 1 |  반복 1321 / 1327 | 시간 436[s] | 퍼플렉서티 209.04\n",
            "| 에폭 2 |  반복 1 / 1327 | 시간 439[s] | 퍼플렉서티 223.08\n",
            "| 에폭 2 |  반복 21 / 1327 | 시간 445[s] | 퍼플렉서티 204.74\n",
            "| 에폭 2 |  반복 41 / 1327 | 시간 452[s] | 퍼플렉서티 190.17\n",
            "| 에폭 2 |  반복 61 / 1327 | 시간 458[s] | 퍼플렉서티 178.70\n",
            "| 에폭 2 |  반복 81 / 1327 | 시간 465[s] | 퍼플렉서티 159.16\n",
            "| 에폭 2 |  반복 101 / 1327 | 시간 472[s] | 퍼플렉서티 154.04\n",
            "| 에폭 2 |  반복 121 / 1327 | 시간 478[s] | 퍼플렉서티 162.03\n",
            "| 에폭 2 |  반복 141 / 1327 | 시간 485[s] | 퍼플렉서티 178.36\n",
            "| 에폭 2 |  반복 161 / 1327 | 시간 492[s] | 퍼플렉서티 193.68\n",
            "| 에폭 2 |  반복 181 / 1327 | 시간 499[s] | 퍼플렉서티 200.03\n",
            "| 에폭 2 |  반복 201 / 1327 | 시간 505[s] | 퍼플렉서티 186.62\n",
            "| 에폭 2 |  반복 221 / 1327 | 시간 512[s] | 퍼플렉서티 186.36\n",
            "| 에폭 2 |  반복 241 / 1327 | 시간 518[s] | 퍼플렉서티 176.17\n",
            "| 에폭 2 |  반복 261 / 1327 | 시간 525[s] | 퍼플렉서티 187.58\n",
            "| 에폭 2 |  반복 281 / 1327 | 시간 531[s] | 퍼플렉서티 185.52\n",
            "| 에폭 2 |  반복 301 / 1327 | 시간 538[s] | 퍼플렉서티 168.80\n",
            "| 에폭 2 |  반복 321 / 1327 | 시간 545[s] | 퍼플렉서티 138.91\n",
            "| 에폭 2 |  반복 341 / 1327 | 시간 552[s] | 퍼플렉서티 172.71\n",
            "| 에폭 2 |  반복 361 / 1327 | 시간 559[s] | 퍼플렉서티 197.33\n",
            "| 에폭 2 |  반복 381 / 1327 | 시간 565[s] | 퍼플렉서티 153.69\n",
            "| 에폭 2 |  반복 401 / 1327 | 시간 572[s] | 퍼플렉서티 169.25\n",
            "| 에폭 2 |  반복 421 / 1327 | 시간 578[s] | 퍼플렉서티 155.56\n",
            "| 에폭 2 |  반복 441 / 1327 | 시간 585[s] | 퍼플렉서티 163.60\n",
            "| 에폭 2 |  반복 461 / 1327 | 시간 591[s] | 퍼플렉서티 157.86\n",
            "| 에폭 2 |  반복 481 / 1327 | 시간 598[s] | 퍼플렉서티 157.42\n",
            "| 에폭 2 |  반복 501 / 1327 | 시간 604[s] | 퍼플렉서티 169.17\n",
            "| 에폭 2 |  반복 521 / 1327 | 시간 611[s] | 퍼플렉서티 172.62\n",
            "| 에폭 2 |  반복 541 / 1327 | 시간 618[s] | 퍼플렉서티 175.02\n",
            "| 에폭 2 |  반복 561 / 1327 | 시간 624[s] | 퍼플렉서티 155.61\n",
            "| 에폭 2 |  반복 581 / 1327 | 시간 631[s] | 퍼플렉서티 138.82\n",
            "| 에폭 2 |  반복 601 / 1327 | 시간 637[s] | 퍼플렉서티 190.73\n",
            "| 에폭 2 |  반복 621 / 1327 | 시간 644[s] | 퍼플렉서티 182.20\n",
            "| 에폭 2 |  반복 641 / 1327 | 시간 650[s] | 퍼플렉서티 165.64\n",
            "| 에폭 2 |  반복 661 / 1327 | 시간 657[s] | 퍼플렉서티 155.06\n",
            "| 에폭 2 |  반복 681 / 1327 | 시간 663[s] | 퍼플렉서티 131.52\n",
            "| 에폭 2 |  반복 701 / 1327 | 시간 670[s] | 퍼플렉서티 149.88\n",
            "| 에폭 2 |  반복 721 / 1327 | 시간 676[s] | 퍼플렉서티 161.30\n",
            "| 에폭 2 |  반복 741 / 1327 | 시간 683[s] | 퍼플렉서티 133.50\n",
            "| 에폭 2 |  반복 761 / 1327 | 시간 689[s] | 퍼플렉서티 132.12\n",
            "| 에폭 2 |  반복 781 / 1327 | 시간 696[s] | 퍼플렉서티 136.73\n",
            "| 에폭 2 |  반복 801 / 1327 | 시간 702[s] | 퍼플렉서티 146.76\n",
            "| 에폭 2 |  반복 821 / 1327 | 시간 709[s] | 퍼플렉서티 144.43\n",
            "| 에폭 2 |  반복 841 / 1327 | 시간 715[s] | 퍼플렉서티 145.77\n",
            "| 에폭 2 |  반복 861 / 1327 | 시간 721[s] | 퍼플렉서티 145.41\n",
            "| 에폭 2 |  반복 881 / 1327 | 시간 728[s] | 퍼플렉서티 130.64\n",
            "| 에폭 2 |  반복 901 / 1327 | 시간 734[s] | 퍼플렉서티 167.78\n",
            "| 에폭 2 |  반복 921 / 1327 | 시간 741[s] | 퍼플렉서티 147.11\n",
            "| 에폭 2 |  반복 941 / 1327 | 시간 747[s] | 퍼플렉서티 155.34\n",
            "| 에폭 2 |  반복 961 / 1327 | 시간 754[s] | 퍼플렉서티 164.05\n",
            "| 에폭 2 |  반복 981 / 1327 | 시간 760[s] | 퍼플렉서티 154.68\n",
            "| 에폭 2 |  반복 1001 / 1327 | 시간 767[s] | 퍼플렉서티 133.81\n",
            "| 에폭 2 |  반복 1021 / 1327 | 시간 773[s] | 퍼플렉서티 156.97\n",
            "| 에폭 2 |  반복 1041 / 1327 | 시간 780[s] | 퍼플렉서티 144.10\n",
            "| 에폭 2 |  반복 1061 / 1327 | 시간 786[s] | 퍼플렉서티 129.42\n",
            "| 에폭 2 |  반복 1081 / 1327 | 시간 793[s] | 퍼플렉서티 111.81\n",
            "| 에폭 2 |  반복 1101 / 1327 | 시간 800[s] | 퍼플렉서티 119.58\n",
            "| 에폭 2 |  반복 1121 / 1327 | 시간 806[s] | 퍼플렉서티 155.94\n",
            "| 에폭 2 |  반복 1141 / 1327 | 시간 812[s] | 퍼플렉서티 143.14\n",
            "| 에폭 2 |  반복 1161 / 1327 | 시간 819[s] | 퍼플렉서티 133.38\n",
            "| 에폭 2 |  반복 1181 / 1327 | 시간 826[s] | 퍼플렉서티 134.55\n",
            "| 에폭 2 |  반복 1201 / 1327 | 시간 832[s] | 퍼플렉서티 113.39\n",
            "| 에폭 2 |  반복 1221 / 1327 | 시간 839[s] | 퍼플렉서티 110.70\n",
            "| 에폭 2 |  반복 1241 / 1327 | 시간 845[s] | 퍼플렉서티 130.58\n",
            "| 에폭 2 |  반복 1261 / 1327 | 시간 852[s] | 퍼플렉서티 123.56\n",
            "| 에폭 2 |  반복 1281 / 1327 | 시간 858[s] | 퍼플렉서티 124.52\n",
            "| 에폭 2 |  반복 1301 / 1327 | 시간 865[s] | 퍼플렉서티 159.11\n",
            "| 에폭 2 |  반복 1321 / 1327 | 시간 872[s] | 퍼플렉서티 152.68\n"
          ],
          "name": "stdout"
        },
        {
          "output_type": "display_data",
          "data": {
            "image/png": "[encoded data removed]",
            "text/plain": [
              "<Figure size 432x288 with 1 Axes>"
            ]
          },
          "metadata": {
            "tags": [],
            "needs_background": "light"
          }
        },
        {
          "output_type": "stream",
          "text": [
            "퍼플렉서티 평가 중 ...\n",
            "234 / 235\n",
            "테스트 퍼플렉서티:  158.0022111756785\n"
          ],
          "name": "stdout"
        }
      ]
    },
    {
      "cell_type": "code",
      "metadata": {
        "id": "7vy945ikNE21"
      },
      "source": [
        ""
      ],
      "execution_count": 7,
      "outputs": []
    }
  ]
}