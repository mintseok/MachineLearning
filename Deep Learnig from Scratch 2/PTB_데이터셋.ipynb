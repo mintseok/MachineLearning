{
  "nbformat": 4,
  "nbformat_minor": 0,
  "metadata": {
    "colab": {
      "name": "PTB-데이터셋.ipynb",
      "provenance": [],
      "collapsed_sections": [],
      "authorship_tag": "ABX9TyOwcAW6dAkWizwIsfYcNK0I",
      "include_colab_link": true
    },
    "kernelspec": {
      "name": "python3",
      "display_name": "Python 3"
    },
    "language_info": {
      "name": "python"
    }
  },
  "cells": [
    {
      "cell_type": "markdown",
      "metadata": {
        "id": "view-in-github",
        "colab_type": "text"
      },
      "source": [
        "<a href=\"https://colab.research.google.com/github/mintseok/MachineLearning/blob/main/Deep%20Learnig%20from%20Scratch%202/PTB_%EB%8D%B0%EC%9D%B4%ED%84%B0%EC%85%8B.ipynb\" target=\"_parent\"><img src=\"https://colab.research.google.com/assets/colab-badge.svg\" alt=\"Open In Colab\"/></a>"
      ]
    },
    {
      "cell_type": "markdown",
      "metadata": {
        "id": "1kugxyxod3fA"
      },
      "source": [
        "# 구글 드라이브 mount하기"
      ]
    },
    {
      "cell_type": "code",
      "metadata": {
        "colab": {
          "base_uri": "https://localhost:8080/"
        },
        "id": "MW4onUXddqNq",
        "outputId": "4b5a6720-f0c3-4b31-f885-6cb3a5db9288"
      },
      "source": [
        "from google.colab import drive\n",
        "drive.mount('/content/drive')"
      ],
      "execution_count": 1,
      "outputs": [
        {
          "output_type": "stream",
          "text": [
            "Drive already mounted at /content/drive; to attempt to forcibly remount, call drive.mount(\"/content/drive\", force_remount=True).\n"
          ],
          "name": "stdout"
        }
      ]
    },
    {
      "cell_type": "code",
      "metadata": {
        "colab": {
          "base_uri": "https://localhost:8080/"
        },
        "id": "AEdIx0jQePO1",
        "outputId": "ac97fc73-9600-49f2-ca78-4a8139c11ad7"
      },
      "source": [
        "cd /content/drive/MyDrive/밑시딥2/deep-learning-from-scratch-2"
      ],
      "execution_count": 2,
      "outputs": [
        {
          "output_type": "stream",
          "text": [
            "/content/drive/MyDrive/밑시딥2/deep-learning-from-scratch-2\n"
          ],
          "name": "stdout"
        }
      ]
    },
    {
      "cell_type": "markdown",
      "metadata": {
        "id": "Kfwlfd7Yfmh_"
      },
      "source": [
        "# 예제를 통해 알아보는 text 분석"
      ]
    },
    {
      "cell_type": "code",
      "metadata": {
        "id": "ulaGyFR3e89k"
      },
      "source": [
        "text = 'You say goodbye and I say hello.'"
      ],
      "execution_count": 3,
      "outputs": []
    },
    {
      "cell_type": "code",
      "metadata": {
        "id": "FVrrA-sZgNtV"
      },
      "source": [
        "import numpy as np\n",
        "\n",
        "# text 정리\n",
        "def preprocess(text):\n",
        "  text = text.lower()\n",
        "  text = text.replace('.', ' .') # '.'을 ' .'으로 replace\n",
        "  words = text.split(' ') # 공백을 기준으로 text 분리하기\n",
        "  # words = ['you', 'say', 'goodbye', 'and', 'i', 'say', 'hello', '.']\n",
        "\n",
        "  word_to_id = {}\n",
        "  id_to_word = {}\n",
        "\n",
        "  for word in words:\n",
        "    if word not in word_to_id:\n",
        "      new_id = len(word_to_id)\n",
        "      word_to_id[word] = new_id # {'.': 6, 'and': 3, 'goodbye': 2, 'hello': 5, 'i': 4, 'say': 1, 'you': 0}\n",
        "      id_to_word[new_id] = word # {0: 'you', 1: 'say', 2: 'goodbye', 3: 'and', 4: 'i', 5: 'hello', 6: '.'}\n",
        "\n",
        "  corpus = np.array([word_to_id[w] for w in words]) # 말뭉치에 대한 index\n",
        "  \n",
        "  return corpus, word_to_id, id_to_word"
      ],
      "execution_count": 4,
      "outputs": []
    },
    {
      "cell_type": "code",
      "metadata": {
        "id": "uC6gEt1qix01"
      },
      "source": [
        "corpus, word_to_id, id_to_word = preprocess(text)\n",
        "# corpus: array([0, 1, 2, 3, 4, 1, 5, 6])"
      ],
      "execution_count": 5,
      "outputs": []
    },
    {
      "cell_type": "markdown",
      "metadata": {
        "id": "OvsZWE83lKSE"
      },
      "source": [
        "# 통계 기반 기법 Statistical Based"
      ]
    },
    {
      "cell_type": "code",
      "metadata": {
        "id": "1vnMOuSYkquU"
      },
      "source": [
        "# 동시 발생 행렬 생성\n",
        "def create_co_matrix(corpus, vocab_size, window_size=1):\n",
        "  corpus_size = len(corpus)\n",
        "  co_matrix = np.zeros((vocab_size, vocab_size), dtype=np.int32) # n x n 크기의 초기화된 matrix\n",
        "\n",
        "  for idx, word_id in enumerate(corpus): # idx word_id를 반환해줌\n",
        "    for i in range(1, window_size + 1): # window_size에 따라 유동적으로 idx를 따져줄 수 있음\n",
        "      left_idx = idx - i\n",
        "      right_idx = idx + 1\n",
        "\n",
        "      if left_idx >= 0:\n",
        "        left_word_id = corpus[left_idx]\n",
        "        co_matrix[word_id, left_word_id] += 1\n",
        "\n",
        "      if right_idx < corpus_size:\n",
        "        right_word_id = corpus[right_idx]\n",
        "        co_matrix[word_id, right_word_id] += 1\n",
        "\n",
        "  return co_matrix"
      ],
      "execution_count": 6,
      "outputs": []
    },
    {
      "cell_type": "code",
      "metadata": {
        "id": "SZi-Gyokm8z9"
      },
      "source": [
        "# 벡터간 유사도\n",
        "def cos_similarity(x, y, eps=1e-8):\n",
        "  nx = x / np.sqrt(np.sum(x**2)+ eps) # x의 정규화\n",
        "  ny = y / np.sqrt(np.sum(y**2)+ eps) # y의 정규화\n",
        "  return np.dot(nx, ny)"
      ],
      "execution_count": 7,
      "outputs": []
    },
    {
      "cell_type": "code",
      "metadata": {
        "colab": {
          "base_uri": "https://localhost:8080/"
        },
        "id": "WvUHxfi1nxMA",
        "outputId": "18ab5b39-12b4-41e1-deb0-78058db23a0e"
      },
      "source": [
        "vocab_size = len(word_to_id) # 7\n",
        "C = create_co_matrix(corpus, vocab_size)\n",
        "# array([[0, 1, 0, 0, 0, 0, 0],\n",
        "#      [1, 0, 1, 0, 1, 1, 0],\n",
        "#      [0, 1, 0, 1, 0, 0, 0],\n",
        "#      [0, 0, 1, 0, 1, 0, 0],\n",
        "#      [0, 1, 0, 1, 0, 0, 0],\n",
        "#      [0, 1, 0, 0, 0, 0, 1],\n",
        "#      [0, 0, 0, 0, 0, 1, 0]], dtype=int32)\n",
        "\n",
        "c0 = C[word_to_id['you']] # you의 단어 벡터\n",
        "c1 = C[word_to_id['i']]   # i의 단어 벡터\n",
        "print(cos_similarity(c0, c1)) # 0.7071067758832467"
      ],
      "execution_count": 8,
      "outputs": [
        {
          "output_type": "stream",
          "text": [
            "0.7071067758832467\n"
          ],
          "name": "stdout"
        }
      ]
    },
    {
      "cell_type": "markdown",
      "metadata": {
        "id": "KV-0HhipolyO"
      },
      "source": [
        "# 유사도 순위"
      ]
    },
    {
      "cell_type": "code",
      "metadata": {
        "id": "ztNE1hUxoKig"
      },
      "source": [
        "def most_similar(query, word_to_id, id_to_word, word_matrix, top=5):\n",
        "  # 검색어 꺼내기\n",
        "  if query not in word_to_id:\n",
        "    print('%s(을)를 찾을 수 없습니다.' %query)\n",
        "    return\n",
        "  \n",
        "  print('/n[query] '+ query)\n",
        "  query_id = word_to_id[query]\n",
        "  query_vec = word_matrix[query_id]\n",
        "\n",
        "  # 코사인 유사도 계산\n",
        "  vocab_size = len(id_to_word)\n",
        "  similarity = np.zeros(vocab_size) # 선언 및 초기화\n",
        "  for i in range(vocab_size):\n",
        "    similarity[i] = cos_similarity(word_matrix[i], query_vec) # vector에 대한 유사도 반환\n",
        "  \n",
        "  # 코사인 유사도를 기준으로 내림차순으로 출력\n",
        "  count = 0\n",
        "  for i in (-1*similarity).argsort(): # np.argsort()는 오름차순으로 정렬 -> -1을 곱해 내림차순\n",
        "    if id_to_word[i] == query:\n",
        "      continue\n",
        "    print(' %s: %s' %(id_to_word[i], similarity[i]))\n",
        "\n",
        "    count += 1\n",
        "    if count >= top:\n",
        "      return"
      ],
      "execution_count": 9,
      "outputs": []
    },
    {
      "cell_type": "code",
      "metadata": {
        "colab": {
          "base_uri": "https://localhost:8080/"
        },
        "id": "zvqNjwPtqJob",
        "outputId": "fda2077b-6e80-4c38-cfaf-aebdf167c2b7"
      },
      "source": [
        "most_similar('you', word_to_id, id_to_word, C, top=5)\n",
        "# 문제점 -> goodbye와 hello와의 유사도가 i와 비슷한건 우리의 직관과는 멀다\n",
        "# 개선점 -> PMI, PPMI (pointwise mutual information, positive PMI)"
      ],
      "execution_count": 10,
      "outputs": [
        {
          "output_type": "stream",
          "text": [
            "/n[query] you\n",
            " goodbye: 0.7071067758832467\n",
            " i: 0.7071067758832467\n",
            " hello: 0.7071067758832467\n",
            " say: 0.0\n",
            " and: 0.0\n"
          ],
          "name": "stdout"
        }
      ]
    },
    {
      "cell_type": "code",
      "metadata": {
        "id": "Jp8nnVazqn9e"
      },
      "source": [
        "def ppmi(C, verbose=False, eps=1e-8):\n",
        "  M = np.zeros_like(C, dtype=np.float32) #C와 같은 형태의 array 형성\n",
        "  N = np.sum(C)\n",
        "  S = np.sum(C, axis=0)\n",
        "  total = C.shape[0] * C.shape[1]\n",
        "  cnt = 0\n",
        "  \n",
        "  for i in range(C.shape[0]):\n",
        "    for j in range(C.shape[1]):\n",
        "      pmi = np.log2(C[i,j] * N / (S[j]*S[i]) + eps)\n",
        "      M[i,j] = max(0, pmi)\n",
        "\n",
        "      if verbose:\n",
        "        cnt += 1\n",
        "        if(cnt % (total//100) == 0):\n",
        "          print('%.1f%% 완료' %(100*cnt/total))\n",
        "  return M"
      ],
      "execution_count": 11,
      "outputs": []
    },
    {
      "cell_type": "code",
      "metadata": {
        "colab": {
          "base_uri": "https://localhost:8080/"
        },
        "id": "JgHvD-bqsyFu",
        "outputId": "cb11af0f-1743-4b62-e929-36072d23e64d"
      },
      "source": [
        "W = ppmi(C)\n",
        "\n",
        "np.set_printoptions(precision=3) # 유효 자릿수를 세 자리로 표시\n",
        "print('동시발생 행렬')\n",
        "print(C)\n",
        "print('-'*50)\n",
        "print('PPMI')\n",
        "print(W)"
      ],
      "execution_count": 12,
      "outputs": [
        {
          "output_type": "stream",
          "text": [
            "동시발생 행렬\n",
            "[[0 1 0 0 0 0 0]\n",
            " [1 0 1 0 1 1 0]\n",
            " [0 1 0 1 0 0 0]\n",
            " [0 0 1 0 1 0 0]\n",
            " [0 1 0 1 0 0 0]\n",
            " [0 1 0 0 0 0 1]\n",
            " [0 0 0 0 0 1 0]]\n",
            "--------------------------------------------------\n",
            "PPMI\n",
            "[[0.    1.807 0.    0.    0.    0.    0.   ]\n",
            " [1.807 0.    0.807 0.    0.807 0.807 0.   ]\n",
            " [0.    0.807 0.    1.807 0.    0.    0.   ]\n",
            " [0.    0.    1.807 0.    1.807 0.    0.   ]\n",
            " [0.    0.807 0.    1.807 0.    0.    0.   ]\n",
            " [0.    0.807 0.    0.    0.    0.    2.807]\n",
            " [0.    0.    0.    0.    0.    2.807 0.   ]]\n"
          ],
          "name": "stdout"
        }
      ]
    },
    {
      "cell_type": "markdown",
      "metadata": {
        "id": "THDEej-4tNtM"
      },
      "source": [
        "# 차원 감소"
      ]
    },
    {
      "cell_type": "code",
      "metadata": {
        "colab": {
          "base_uri": "https://localhost:8080/"
        },
        "id": "N4ISzzxVtEQF",
        "outputId": "760eda1b-068d-47d5-eef5-01b35679c2d2"
      },
      "source": [
        "# SVD를 이용한 차원 감소 -> np.linalg.svd(X) 메서드 활용 \n",
        "#                           ㄴ> linear algebra를 의미\n",
        "\n",
        "U, S, V = np.linalg.svd(W)\n",
        "print(W[0]) # [0.    1.807 0.    0.    0.    0.    0.   ]\n",
        "print(U[0]) # [-1.110e-16  3.409e-01 -4.163e-16 -1.205e-01 -1.110e-16 -9.323e-01 -1.086e-16]\n",
        "# 희소벡터에서 밀집벡터로!!\n",
        "# 밀집벡터의 차원감소 -> 2차원으로\n",
        "print(U[0, :2])"
      ],
      "execution_count": 13,
      "outputs": [
        {
          "output_type": "stream",
          "text": [
            "[0.    1.807 0.    0.    0.    0.    0.   ]\n",
            "[-1.110e-16  3.409e-01 -4.163e-16 -1.205e-01 -1.110e-16 -9.323e-01\n",
            " -1.086e-16]\n",
            "[-1.110e-16  3.409e-01]\n"
          ],
          "name": "stdout"
        }
      ]
    },
    {
      "cell_type": "code",
      "metadata": {
        "id": "rIz7U0nmws-m"
      },
      "source": [
        "text = 'You say goodbye and I say hello.'\n",
        "corpus, word_to_id, id_to_word = preprocess(text)\n",
        "vocab_size = len(id_to_word)\n",
        "C = create_co_matrix(corpus, vocab_size, window_size=1)\n",
        "W = ppmi(C)\n",
        "\n",
        "# SVD\n",
        "U, S, V = np.linalg.svd(W)"
      ],
      "execution_count": 14,
      "outputs": []
    },
    {
      "cell_type": "markdown",
      "metadata": {
        "id": "9s8cqsFGu4kT"
      },
      "source": [
        "# SVD를 적용한 후 단어간 관계 표시"
      ]
    },
    {
      "cell_type": "code",
      "metadata": {
        "colab": {
          "base_uri": "https://localhost:8080/",
          "height": 265
        },
        "id": "5ElwjRYfuoXZ",
        "outputId": "dbc1516f-994a-4af5-cce2-e56fc3d945c6"
      },
      "source": [
        "import matplotlib.pyplot as plt\n",
        "\n",
        "for word, word_id in word_to_id.items():\n",
        "  plt.annotate(word, (U[word_id, 0], U[word_id, 1]))\n",
        "\n",
        "plt.scatter(U[:,0], U[:,1], alpha=0.5)\n",
        "plt.show()"
      ],
      "execution_count": 15,
      "outputs": [
        {
          "output_type": "display_data",
          "data": {
            "image/png": "[encoded data removed]",
            "text/plain": [
              "<Figure size 432x288 with 1 Axes>"
            ]
          },
          "metadata": {
            "tags": [],
            "needs_background": "light"
          }
        }
      ]
    },
    {
      "cell_type": "markdown",
      "metadata": {
        "id": "RRhCojW5xTdv"
      },
      "source": [
        "# PTB 데이터셋 다뤄보기"
      ]
    },
    {
      "cell_type": "code",
      "metadata": {
        "colab": {
          "base_uri": "https://localhost:8080/"
        },
        "id": "1wIHIkn91opw",
        "outputId": "71da5760-dab2-4ab1-8937-35ddc4971ae5"
      },
      "source": [
        "cd /content/drive/MyDrive/밑시딥2/deep-learning-from-scratch-2"
      ],
      "execution_count": 29,
      "outputs": [
        {
          "output_type": "stream",
          "text": [
            "/content/drive/MyDrive/밑시딥2/deep-learning-from-scratch-2\n"
          ],
          "name": "stdout"
        }
      ]
    },
    {
      "cell_type": "code",
      "metadata": {
        "colab": {
          "base_uri": "https://localhost:8080/"
        },
        "id": "DdVISfIdv4GN",
        "outputId": "282ee3a8-3a0e-42aa-a96f-6513d0f10691"
      },
      "source": [
        "import sys\n",
        "sys.path.append('..')\n",
        "from dataset import ptb\n",
        "\n",
        "corpus, word_to_id, id_to_word = ptb.load_data('train')\n",
        "\n",
        "print('말뭉치 크기: ', len(corpus))\n",
        "print('corpus[:30]: ', corpus[:30])\n",
        "print()\n",
        "print('id_to_word[0]: ', id_to_word[0])\n",
        "print('id_to_word[1]: ', id_to_word[1])\n",
        "print('id_to_word[2]: ', id_to_word[2])\n",
        "print()\n",
        "print(\"word_to_id['car']: \", word_to_id['car'])\n",
        "print(\"word_to_id['happy']: \", word_to_id['happy'])\n",
        "print(\"word_to_id['lexus']: \", word_to_id['lexus'])"
      ],
      "execution_count": 30,
      "outputs": [
        {
          "output_type": "stream",
          "text": [
            "말뭉치 크기:  929589\n",
            "corpus[:30]:  [ 0  1  2  3  4  5  6  7  8  9 10 11 12 13 14 15 16 17 18 19 20 21 22 23\n",
            " 24 25 26 27 28 29]\n",
            "\n",
            "id_to_word[0]:  aer\n",
            "id_to_word[1]:  banknote\n",
            "id_to_word[2]:  berlitz\n",
            "\n",
            "word_to_id['car']:  3856\n",
            "word_to_id['happy']:  4428\n",
            "word_to_id['lexus']:  7426\n"
          ],
          "name": "stdout"
        }
      ]
    },
    {
      "cell_type": "code",
      "metadata": {
        "colab": {
          "base_uri": "https://localhost:8080/"
        },
        "id": "Np3mZ49A1DuD",
        "outputId": "2f084f48-2574-4818-eba5-7c63f62c4f92"
      },
      "source": [
        "import numpy as np\n",
        "from dataset import ptb\n",
        "\n",
        "window_size = 2\n",
        "wordvec_size = 100\n",
        "\n",
        "corpus, word_to_id, id_to_word = ptb.load_data('train')\n",
        "vocab_size = len(word_to_id)\n",
        "print(\"동시발생 수 계산 ...\")\n",
        "C = create_co_matrix(corpus, vocab_size, window_size)\n",
        "print(\"PPMI 계산 ...\")\n",
        "W = ppmi(C, verbose=True)\n",
        "\n",
        "print(\"SVD 계산 ...\")\n",
        "try:\n",
        "  #truncated SVD -> 빠르다고 한다\n",
        "  from sklearn.utils.extmath import randomized_svd\n",
        "  U, S, V = randomized_svd(W, n_components=wordvec_size, n_iter=5, random_state=None)\n",
        "\n",
        "except ImportError:\n",
        "  # SVD -> 보다 느리다고 한다\n",
        "  U, S, V = np.linalg.svd(W)\n",
        "\n",
        "word_vecs = U[:, :wordvec_size]\n",
        "\n",
        "querys = ['you', 'year', 'car', 'toyota']\n",
        "for query in querys:\n",
        "  most_similar(query, word_to_id, id_to_word, word_vecs, top=5)"
      ],
      "execution_count": 35,
      "outputs": [
        {
          "output_type": "stream",
          "text": [
            "동시발생 수 계산 ...\n",
            "PPMI 계산 ...\n",
            "1.0% 완료\n",
            "2.0% 완료\n",
            "3.0% 완료\n",
            "4.0% 완료\n",
            "5.0% 완료\n",
            "6.0% 완료\n",
            "7.0% 완료\n",
            "8.0% 완료\n",
            "9.0% 완료\n",
            "10.0% 완료\n",
            "11.0% 완료\n",
            "12.0% 완료\n",
            "13.0% 완료\n",
            "14.0% 완료\n",
            "15.0% 완료\n",
            "16.0% 완료\n",
            "17.0% 완료\n",
            "18.0% 완료\n",
            "19.0% 완료\n",
            "20.0% 완료\n",
            "21.0% 완료\n",
            "22.0% 완료\n",
            "23.0% 완료\n",
            "24.0% 완료\n",
            "25.0% 완료\n",
            "26.0% 완료\n",
            "27.0% 완료\n",
            "28.0% 완료\n",
            "29.0% 완료\n",
            "30.0% 완료\n",
            "31.0% 완료\n",
            "32.0% 완료\n",
            "33.0% 완료\n",
            "34.0% 완료\n",
            "35.0% 완료\n",
            "36.0% 완료\n",
            "37.0% 완료\n",
            "38.0% 완료\n",
            "39.0% 완료\n",
            "40.0% 완료\n",
            "41.0% 완료\n",
            "42.0% 완료\n",
            "43.0% 완료\n",
            "44.0% 완료\n",
            "45.0% 완료\n",
            "46.0% 완료\n",
            "47.0% 완료\n",
            "48.0% 완료\n",
            "49.0% 완료\n",
            "50.0% 완료\n",
            "51.0% 완료\n",
            "52.0% 완료\n",
            "53.0% 완료\n",
            "54.0% 완료\n",
            "55.0% 완료\n",
            "56.0% 완료\n",
            "57.0% 완료\n",
            "58.0% 완료\n",
            "59.0% 완료\n",
            "60.0% 완료\n",
            "61.0% 완료\n",
            "62.0% 완료\n",
            "63.0% 완료\n",
            "64.0% 완료\n",
            "65.0% 완료\n",
            "66.0% 완료\n",
            "67.0% 완료\n",
            "68.0% 완료\n",
            "69.0% 완료\n",
            "70.0% 완료\n",
            "71.0% 완료\n",
            "72.0% 완료\n",
            "73.0% 완료\n",
            "74.0% 완료\n",
            "75.0% 완료\n",
            "76.0% 완료\n",
            "77.0% 완료\n",
            "78.0% 완료\n",
            "79.0% 완료\n",
            "80.0% 완료\n",
            "81.0% 완료\n",
            "82.0% 완료\n",
            "83.0% 완료\n",
            "84.0% 완료\n",
            "85.0% 완료\n",
            "86.0% 완료\n",
            "87.0% 완료\n",
            "88.0% 완료\n",
            "89.0% 완료\n",
            "90.0% 완료\n",
            "91.0% 완료\n",
            "92.0% 완료\n",
            "93.0% 완료\n",
            "94.0% 완료\n",
            "95.0% 완료\n",
            "96.0% 완료\n",
            "97.0% 완료\n",
            "98.0% 완료\n",
            "99.0% 완료\n",
            "100.0% 완료\n",
            "SVD 계산 ...\n",
            "/n[query] you\n",
            " i: 0.7411095499992371\n",
            " we: 0.717390775680542\n",
            " 'll: 0.5532193779945374\n",
            " 'd: 0.548970103263855\n",
            " they: 0.4847620725631714\n",
            "/n[query] year\n",
            " week: 0.709536612033844\n",
            " month: 0.6449846625328064\n",
            " july: 0.6077678799629211\n",
            " quarter: 0.5984027981758118\n",
            " day: 0.5893932580947876\n",
            "/n[query] car\n",
            " auto: 0.6449816823005676\n",
            " luxury-car: 0.6027604937553406\n",
            " truck: 0.5904921889305115\n",
            " cereal: 0.5109111070632935\n",
            " luxury: 0.5031014680862427\n",
            "/n[query] toyota\n",
            " nissan: 0.5581974387168884\n",
            " laptop: 0.5395647883415222\n",
            " equipped: 0.4907034635543823\n",
            " marble: 0.4847756624221802\n",
            " teller: 0.4757215976715088\n"
          ],
          "name": "stdout"
        }
      ]
    },
    {
      "cell_type": "code",
      "metadata": {
        "id": "X_bj29aE4keM"
      },
      "source": [
        ""
      ],
      "execution_count": null,
      "outputs": []
    }
  ]
}