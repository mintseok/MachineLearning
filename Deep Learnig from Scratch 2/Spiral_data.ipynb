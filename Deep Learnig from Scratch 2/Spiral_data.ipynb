{
  "nbformat": 4,
  "nbformat_minor": 0,
  "metadata": {
    "colab": {
      "name": "Spiral_data.ipynb",
      "provenance": [],
      "collapsed_sections": [],
      "mount_file_id": "1YW-m4d7tuU_Mfn8rWCyDJnsc1SnjKR-Q",
      "authorship_tag": "ABX9TyMigEEjnmNhUpWk6X209grY",
      "include_colab_link": true
    },
    "kernelspec": {
      "name": "python3",
      "display_name": "Python 3"
    },
    "language_info": {
      "name": "python"
    }
  },
  "cells": [
    {
      "cell_type": "markdown",
      "metadata": {
        "id": "view-in-github",
        "colab_type": "text"
      },
      "source": [
        "<a href=\"https://colab.research.google.com/github/mintseok/MachineLearning/blob/main/Deep%20Learnig%20from%20Scratch%202/Spiral_data.ipynb\" target=\"_parent\"><img src=\"https://colab.research.google.com/assets/colab-badge.svg\" alt=\"Open In Colab\"/></a>"
      ]
    },
    {
      "cell_type": "markdown",
      "metadata": {
        "id": "Kkh7B-CZjoWr"
      },
      "source": [
        "# Google Drive Mount 시키기 + 디렉토리 만들기"
      ]
    },
    {
      "cell_type": "code",
      "metadata": {
        "colab": {
          "base_uri": "https://localhost:8080/"
        },
        "id": "DcM5uZWUUMTS",
        "outputId": "c28583e1-4713-44b2-ed97-bca6298697ca"
      },
      "source": [
        "from google.colab import drive\n",
        "drive.mount('/content/drive')"
      ],
      "execution_count": 1,
      "outputs": [
        {
          "output_type": "stream",
          "text": [
            "Drive already mounted at /content/drive; to attempt to forcibly remount, call drive.mount(\"/content/drive\", force_remount=True).\n"
          ],
          "name": "stdout"
        }
      ]
    },
    {
      "cell_type": "code",
      "metadata": {
        "colab": {
          "base_uri": "https://localhost:8080/"
        },
        "id": "Fg2ToU4zUkmh",
        "outputId": "bfc503fd-9e4d-4df2-84fd-d87eeb9342a7"
      },
      "source": [
        "cd \"/content/drive/My Drive\""
      ],
      "execution_count": 2,
      "outputs": [
        {
          "output_type": "stream",
          "text": [
            "/content/drive/My Drive\n"
          ],
          "name": "stdout"
        }
      ]
    },
    {
      "cell_type": "code",
      "metadata": {
        "colab": {
          "base_uri": "https://localhost:8080/"
        },
        "id": "NtLy9WFuVzh6",
        "outputId": "4f05e7d9-f161-4423-ed0f-9539dbc29149"
      },
      "source": [
        "mkdir \"밑시딥2\""
      ],
      "execution_count": 3,
      "outputs": [
        {
          "output_type": "stream",
          "text": [
            "mkdir: cannot create directory ‘밑시딥2’: File exists\n"
          ],
          "name": "stdout"
        }
      ]
    },
    {
      "cell_type": "code",
      "metadata": {
        "colab": {
          "base_uri": "https://localhost:8080/"
        },
        "id": "N8f946qLV3Qg",
        "outputId": "f1fd12b0-f315-444d-a2c9-f88ffa67f582"
      },
      "source": [
        "cd \"밑시딥2\""
      ],
      "execution_count": 4,
      "outputs": [
        {
          "output_type": "stream",
          "text": [
            "/content/drive/My Drive/밑시딥2\n"
          ],
          "name": "stdout"
        }
      ]
    },
    {
      "cell_type": "markdown",
      "metadata": {
        "id": "1ofXSuUijyPC"
      },
      "source": [
        "# 밑시딥 2 클론 해오기"
      ]
    },
    {
      "cell_type": "code",
      "metadata": {
        "colab": {
          "base_uri": "https://localhost:8080/"
        },
        "id": "ENbJp1zUWAG3",
        "outputId": "eda17bae-8588-4680-ab8a-0b2f94b92e9f"
      },
      "source": [
        "!git clone https://github.com/deeplearningfromscratch2/deep-learning-from-scratch-2.git"
      ],
      "execution_count": 5,
      "outputs": [
        {
          "output_type": "stream",
          "text": [
            "fatal: destination path 'deep-learning-from-scratch-2' already exists and is not an empty directory.\n"
          ],
          "name": "stdout"
        }
      ]
    },
    {
      "cell_type": "code",
      "metadata": {
        "colab": {
          "base_uri": "https://localhost:8080/"
        },
        "id": "aFQ7UE6oWFsB",
        "outputId": "a2cac059-0a19-432e-8a2f-9a165e4c17d7"
      },
      "source": [
        "cd /content/drive/MyDrive/밑시딥2/deep-learning-from-scratch-2"
      ],
      "execution_count": 6,
      "outputs": [
        {
          "output_type": "stream",
          "text": [
            "/content/drive/MyDrive/밑시딥2/deep-learning-from-scratch-2\n"
          ],
          "name": "stdout"
        }
      ]
    },
    {
      "cell_type": "markdown",
      "metadata": {
        "id": "OoRvkWmcj3nh"
      },
      "source": [
        "# Spiral.py 불러오기 + 시각화"
      ]
    },
    {
      "cell_type": "code",
      "metadata": {
        "colab": {
          "base_uri": "https://localhost:8080/"
        },
        "id": "mKw2WsD_W3Yp",
        "outputId": "aea36734-2f40-47f7-c33f-09f4b44f72e2"
      },
      "source": [
        "from dataset import spiral\n",
        "\n",
        "import matplotlib.pyplot as plt\n",
        "x, t = spiral.load_data() # x가 data, t가 label\n",
        "print('x', x.shape) # (300, 2)\n",
        "print('t', t.shape) # (300, 3)"
      ],
      "execution_count": 7,
      "outputs": [
        {
          "output_type": "stream",
          "text": [
            "x (300, 2)\n",
            "t (300, 3)\n"
          ],
          "name": "stdout"
        }
      ]
    },
    {
      "cell_type": "markdown",
      "metadata": {
        "id": "HEuHzDpDpbJ-"
      },
      "source": [
        "one-hot encoding에서 inverse로 -> meshgrid에서 활용하기 위해서"
      ]
    },
    {
      "cell_type": "code",
      "metadata": {
        "colab": {
          "base_uri": "https://localhost:8080/",
          "height": 374
        },
        "id": "TkLPPbEPXADX",
        "outputId": "8a92a702-fb3a-4727-ab7d-c1597fa26a52"
      },
      "source": [
        "import numpy as np\n",
        "x, t = spiral.load_data() # x가 data, t가 label\n",
        "N = 100\n",
        "CLS_NUM = 3\n",
        "markers = ['o', 'x', '^']\n",
        "plt.figure(figsize=(6,6))\n",
        "for i in range(CLS_NUM):\n",
        "    plt.scatter(x[i*N:(i+1)*N, 0], x[i*N:(i+1)*N, 1], s=40, marker=markers[i])\n",
        "plt.show()"
      ],
      "execution_count": 8,
      "outputs": [
        {
          "output_type": "display_data",
          "data": {
            "image/png": "[encoded data removed]",
            "text/plain": [
              "<Figure size 432x432 with 1 Axes>"
            ]
          },
          "metadata": {
            "tags": [],
            "needs_background": "light"
          }
        }
      ]
    },
    {
      "cell_type": "markdown",
      "metadata": {
        "id": "8Ravx0T6jnaG"
      },
      "source": [
        "# 이 데이터셋을 학습시킬 신경망 구현하기: TwoLayerNet -- SoftmaxWithLoss"
      ]
    },
    {
      "cell_type": "code",
      "metadata": {
        "id": "2wfAYmTNYGNs"
      },
      "source": [
        "from common.layers import Affine, Sigmoid, SoftmaxWithLoss\n",
        "from collections import OrderedDict\n",
        "\n",
        "class TwoLayerNet:\n",
        "  def __init__(self, input_size, hidden_size, output_size):\n",
        "    I, H, O = input_size, hidden_size, output_size # 뉴런 수를 의미한다\n",
        "\n",
        "    # 가중치와 편향 초기화\n",
        "    W1 = 0.01 * np.random.randn(I,H) # input_size, hidden_size의 dimension에 맞춰서 random 행렬 생성\n",
        "    b1 = np.zeros(H)\n",
        "    W2 = 0.01 * np.random.randn(H,O)\n",
        "    b2 = np.zeros(O)\n",
        "\n",
        "    # 계층 생성\n",
        "    self.layers = [\n",
        "        Affine(W1,b1),\n",
        "        Sigmoid(),\n",
        "        Affine(W2,b2)\n",
        "    ]\n",
        "    self.loss_layer = SoftmaxWithLoss() # SoftmaxWithLoss()는 layers 바깥쪽에 저장해준다.\n",
        "\n",
        "    # 모든 가중치와 기울기를 리스트에 모은다\n",
        "    self.params, self.grads = [], []\n",
        "    for layer in self.layers:\n",
        "      self.params += layer.params\n",
        "      self.grads += layer.grads\n",
        "\n",
        "  def predict(self, x):\n",
        "    for layer in self.layers:\n",
        "      x = layer.forward(x)\n",
        "    return x\n",
        "  \n",
        "  def forward(self, x, t):\n",
        "    score = self.predict(x)\n",
        "    loss = self.loss_layer.forward(score, t)\n",
        "    return loss\n",
        "\n",
        "  def backward(self, dout=1):\n",
        "    dout = self.loss_layer.backward(dout)\n",
        "    for layer in reversed(self.layers):\n",
        "      dout = layer.backward(dout)\n",
        "    return dout\n",
        "\n",
        "  def accuracy(self, x, t):\n",
        "    y = self.predict(x)\n",
        "    y = np.argmax(y, axis=1)\n",
        "    if t.ndim != 1 : t = np.argmax(t, axis=1)\n",
        "    \n",
        "    accuracy = np.sum(y == t) / float(x.shape[0])\n",
        "    return accuracy"
      ],
      "execution_count": 9,
      "outputs": []
    },
    {
      "cell_type": "markdown",
      "metadata": {
        "id": "xyzkfzfNna7d"
      },
      "source": [
        "# 학습시키기"
      ]
    },
    {
      "cell_type": "code",
      "metadata": {
        "id": "bR89gG8wnZKg"
      },
      "source": [
        "from common.optimizer import SGD\n",
        "\n",
        "# 하이퍼파라미터 설정\n",
        "max_epoch = 300\n",
        "batch_size = 30\n",
        "hidden_size = 10\n",
        "learning_rate = 1.0\n",
        "\n",
        "# 데이터 읽기, 모델과 옵티마이저 생성\n",
        "x, t = spiral.load_data() # x가 data, t가 label\n",
        "#t = np.argmax(t, axis=1) # one-hot label에서 정답 label로 변환\n",
        "model = TwoLayerNet(input_size=2, hidden_size=hidden_size, output_size=3)\n",
        "optimizer = SGD(lr=learning_rate)\n",
        "\n",
        "# 학습에 사용하는 변수\n",
        "data_size = len(x)\n",
        "max_iters = data_size // batch_size\n",
        "total_loss = 0\n",
        "loss_count = 0\n",
        "loss_list = []\n",
        "\n",
        "for epoch in range(max_epoch):\n",
        "  # 데이터 뒤섞기\n",
        "  idx = np.random.permutation(data_size)\n",
        "  x = x[idx]\n",
        "  t = t[idx]\n",
        "\n",
        "  for iters in range(max_iters):\n",
        "    batch_x = x[iters*batch_size:(iters+1)*batch_size]\n",
        "    batch_t = t[iters*batch_size:(iters+1)*batch_size]\n",
        "\n",
        "    # 기울기를 구해 매개변수 갱신\n",
        "    #print(batch_x.size, batch_t.size, model)\n",
        "    loss = model.forward(batch_x, batch_t)\n",
        "    model.backward()\n",
        "    optimizer.update(model.params, model.grads)\n",
        "\n",
        "    total_loss += loss\n",
        "    loss_count += 1\n",
        "\n",
        "    # 정기적으로 학습 결과 출력\n",
        "    if(iters+1) % 10 == 0:\n",
        "      avg_loss = total_loss / loss_count\n",
        "      print(\"epoch %d  |  iter %d / %d  |  loss %.2f\" %(epoch+1, iters+1, max_iters, avg_loss))\n",
        "      loss_list.append(avg_loss)\n",
        "      total_loss, loss_count = 0, 0"
      ],
      "execution_count": null,
      "outputs": []
    },
    {
      "cell_type": "markdown",
      "metadata": {
        "id": "mCGPIuNmthVZ"
      },
      "source": [
        "# loss 값 시각화하기"
      ]
    },
    {
      "cell_type": "code",
      "metadata": {
        "id": "y3nulmbauPTp",
        "colab": {
          "base_uri": "https://localhost:8080/"
        },
        "outputId": "0bd9e5db-c6db-4278-fd3d-db7fae9b0c5e"
      },
      "source": [
        "np.asarray(loss_list).shape"
      ],
      "execution_count": 11,
      "outputs": [
        {
          "output_type": "execute_result",
          "data": {
            "text/plain": [
              "(300,)"
            ]
          },
          "metadata": {
            "tags": []
          },
          "execution_count": 11
        }
      ]
    },
    {
      "cell_type": "code",
      "metadata": {
        "id": "llZtsgxkp4vx",
        "colab": {
          "base_uri": "https://localhost:8080/",
          "height": 500
        },
        "outputId": "9d4cb3a1-a62b-436e-d084-da4f786ea34a"
      },
      "source": [
        "plt.figure(figsize=(10, 8))\n",
        "plt.plot(loss_list, color='black')\n",
        "plt.xlabel(\"iterations (x10)\", fontsize=12)\n",
        "plt.ylabel(\"avg loss\", fontsize=12)\n",
        "plt.show()"
      ],
      "execution_count": 12,
      "outputs": [
        {
          "output_type": "display_data",
          "data": {
            "image/png": "[encoded data removed]",
            "text/plain": [
              "<Figure size 720x576 with 1 Axes>"
            ]
          },
          "metadata": {
            "tags": [],
            "needs_background": "light"
          }
        }
      ]
    },
    {
      "cell_type": "markdown",
      "metadata": {
        "id": "eYADjEH53U5J"
      },
      "source": [
        "# Meshgrid를 이용해서 decision boundary 시각화하기"
      ]
    },
    {
      "cell_type": "code",
      "metadata": {
        "id": "cU37bHVa8gHF",
        "colab": {
          "base_uri": "https://localhost:8080/"
        },
        "outputId": "748ead93-be03-489f-cadf-b642325c5419"
      },
      "source": [
        "t.shape"
      ],
      "execution_count": 13,
      "outputs": [
        {
          "output_type": "execute_result",
          "data": {
            "text/plain": [
              "(300, 3)"
            ]
          },
          "metadata": {
            "tags": []
          },
          "execution_count": 13
        }
      ]
    },
    {
      "cell_type": "code",
      "metadata": {
        "id": "GcV-B1Zk3UaJ",
        "colab": {
          "base_uri": "https://localhost:8080/"
        },
        "outputId": "648ca52d-1a76-42e3-c76b-d055fe617169"
      },
      "source": [
        "# x,y 축의 경계 정해주기\n",
        "min1, max1 = x[:, 0].min(), x[:, 0].max()\n",
        "min2, max2 = x[:, 1].min(), x[:, 1].max()\n",
        "\n",
        "x1 = np.linspace(min1, max1)\n",
        "x2 = np.linspace(min2, max2)\n",
        "\n",
        "# meshgrid를 이용해서 figure 위에 놓을 grid 생성해주기\n",
        "xx, yy = np.meshgrid(x1, x2)\n",
        "\n",
        "# model.predict에 넣을 데이터 합쳐주기\n",
        "grid = np.c_[xx.ravel(), yy.ravel()]\n",
        "\n",
        "# 예측시키기\n",
        "yhat = model.predict(grid)\n",
        "yhat = np.argmax(yhat, axis=1)\n",
        "print(grid.shape, yhat.shape, xx.shape)\n",
        "\n",
        "# 학습시긴 값을 grid에 reshape 하기\n",
        "print(yhat)\n",
        "zz = yhat.reshape(xx.shape)"
      ],
      "execution_count": 17,
      "outputs": [
        {
          "output_type": "stream",
          "text": [
            "(2500, 2) (2500,) (50, 50)\n",
            "[0 0 0 ... 1 1 1]\n"
          ],
          "name": "stdout"
        }
      ]
    },
    {
      "cell_type": "code",
      "metadata": {
        "id": "8DRlUEfVtxhN",
        "colab": {
          "base_uri": "https://localhost:8080/",
          "height": 357
        },
        "outputId": "1033f871-de03-4b43-a675-65f8daad5f0d"
      },
      "source": [
        "import numpy as np\n",
        "x, t = spiral.load_data() # x가 data, t가 label\n",
        "N = 100\n",
        "CLS_NUM = 3\n",
        "markers = ['o', 'x', '^']\n",
        "plt.figure(figsize=(6,6))\n",
        "for i in range(CLS_NUM):\n",
        "    plt.scatter(x[i*N:(i+1)*N, 0], x[i*N:(i+1)*N, 1], s=40, marker=markers[i])\n",
        "\n",
        "plt.contourf(xx, yy, zz, alpha=0.1)\n",
        "plt.axis('off')\n",
        "plt.show()"
      ],
      "execution_count": 22,
      "outputs": [
        {
          "output_type": "display_data",
          "data": {
            "image/png": "[encoded data removed]",
            "text/plain": [
              "<Figure size 432x432 with 1 Axes>"
            ]
          },
          "metadata": {
            "tags": [],
            "needs_background": "light"
          }
        }
      ]
    },
    {
      "cell_type": "code",
      "metadata": {
        "id": "77t_9YLLwBcv"
      },
      "source": [
        ""
      ],
      "execution_count": null,
      "outputs": []
    }
  ]
}