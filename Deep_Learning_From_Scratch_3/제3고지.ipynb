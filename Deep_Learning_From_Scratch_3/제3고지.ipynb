{
  "nbformat": 4,
  "nbformat_minor": 0,
  "metadata": {
    "colab": {
      "name": "제3고지.ipynb",
      "provenance": [],
      "collapsed_sections": [],
      "authorship_tag": "ABX9TyOC19z83drC3RDW4gY7a6/t",
      "include_colab_link": true
    },
    "kernelspec": {
      "name": "python3",
      "display_name": "Python 3"
    },
    "language_info": {
      "name": "python"
    }
  },
  "cells": [
    {
      "cell_type": "markdown",
      "metadata": {
        "id": "view-in-github",
        "colab_type": "text"
      },
      "source": [
        "<a href=\"https://colab.research.google.com/github/mintseok/MachineLearning/blob/main/Deep_Learning_From_Scratch_3/%EC%A0%9C3%EA%B3%A0%EC%A7%80.ipynb\" target=\"_parent\"><img src=\"https://colab.research.google.com/assets/colab-badge.svg\" alt=\"Open In Colab\"/></a>"
      ]
    },
    {
      "cell_type": "markdown",
      "metadata": {
        "id": "NHVukPXaBDRX"
      },
      "source": [
        "# 구글 드라이브 마운트"
      ]
    },
    {
      "cell_type": "code",
      "metadata": {
        "colab": {
          "base_uri": "https://localhost:8080/"
        },
        "id": "gjPrUzgcxySR",
        "outputId": "6a47c4e7-d45e-4a98-b751-f28118e605b2"
      },
      "source": [
        "from google.colab import drive\n",
        "drive.mount('/content/drive')"
      ],
      "execution_count": 1,
      "outputs": [
        {
          "output_type": "stream",
          "name": "stdout",
          "text": [
            "Mounted at /content/drive\n"
          ]
        }
      ]
    },
    {
      "cell_type": "code",
      "metadata": {
        "colab": {
          "base_uri": "https://localhost:8080/"
        },
        "id": "jUNn2OJiBDAV",
        "outputId": "03ca23cb-a652-4651-a607-af87aea192c2"
      },
      "source": [
        "cd /content/drive/MyDrive/밑시딥3/deep-learning-from-scratch-3"
      ],
      "execution_count": 2,
      "outputs": [
        {
          "output_type": "stream",
          "name": "stdout",
          "text": [
            "/content/drive/MyDrive/밑시딥3/deep-learning-from-scratch-3\n"
          ]
        }
      ]
    },
    {
      "cell_type": "markdown",
      "metadata": {
        "id": "iPamSjfrBkLY"
      },
      "source": [
        "# step 24까지의 내용부터 따라하기"
      ]
    },
    {
      "cell_type": "code",
      "metadata": {
        "colab": {
          "base_uri": "https://localhost:8080/"
        },
        "id": "5ltHBrmmBpBi",
        "outputId": "39e2f19e-cc5a-4da6-b75d-e531e12e2487"
      },
      "source": [
        "import weakref\n",
        "import numpy as np\n",
        "import contextlib\n",
        "\n",
        "\n",
        "class Config:\n",
        "    enable_backprop = True\n",
        "\n",
        "\n",
        "@contextlib.contextmanager\n",
        "def using_config(name, value):\n",
        "    old_value = getattr(Config, name)\n",
        "    setattr(Config, name, value)\n",
        "    try:\n",
        "        yield\n",
        "    finally:\n",
        "        setattr(Config, name, old_value)\n",
        "\n",
        "\n",
        "def no_grad():\n",
        "    return using_config('enable_backprop', False)\n",
        "\n",
        "\n",
        "class Variable:\n",
        "    __array_priority__ = 200\n",
        "\n",
        "    def __init__(self, data, name=None):\n",
        "        if data is not None:\n",
        "            if not isinstance(data, np.ndarray):\n",
        "                raise TypeError('{} is not supported'.format(type(data)))\n",
        "\n",
        "        self.data = data\n",
        "        self.name = name\n",
        "        self.grad = None\n",
        "        self.creator = None\n",
        "        self.generation = 0\n",
        "\n",
        "    @property\n",
        "    def shape(self):\n",
        "        return self.data.shape\n",
        "\n",
        "    @property\n",
        "    def ndim(self):\n",
        "        return self.data.ndim\n",
        "\n",
        "    @property\n",
        "    def size(self):\n",
        "        return self.data.size\n",
        "\n",
        "    @property\n",
        "    def dtype(self):\n",
        "        return self.data.dtype\n",
        "\n",
        "    def __len__(self):\n",
        "        return len(self.data)\n",
        "\n",
        "    def __repr__(self):\n",
        "        if self.data is None:\n",
        "            return 'variable(None)'\n",
        "        p = str(self.data).replace('\\n', '\\n' + ' ' * 9)\n",
        "        return 'variable(' + p + ')'\n",
        "\n",
        "    def set_creator(self, func):\n",
        "        self.creator = func\n",
        "        self.generation = func.generation + 1\n",
        "\n",
        "    def cleargrad(self):\n",
        "        self.grad = None\n",
        "\n",
        "    def backward(self, retain_grad=False):\n",
        "        if self.grad is None:\n",
        "            self.grad = np.ones_like(self.data)\n",
        "\n",
        "        funcs = []\n",
        "        seen_set = set()\n",
        "\n",
        "        def add_func(f):\n",
        "            if f not in seen_set:\n",
        "                funcs.append(f)\n",
        "                seen_set.add(f)\n",
        "                funcs.sort(key=lambda x: x.generation)\n",
        "\n",
        "        add_func(self.creator)\n",
        "\n",
        "        while funcs:\n",
        "            f = funcs.pop()\n",
        "            gys = [output().grad for output in f.outputs]  # output is weakref\n",
        "            gxs = f.backward(*gys)\n",
        "            if not isinstance(gxs, tuple):\n",
        "                gxs = (gxs,)\n",
        "\n",
        "            for x, gx in zip(f.inputs, gxs):\n",
        "                if x.grad is None:\n",
        "                    x.grad = gx\n",
        "                else:\n",
        "                    x.grad = x.grad + gx\n",
        "\n",
        "                if x.creator is not None:\n",
        "                    add_func(x.creator)\n",
        "\n",
        "            if not retain_grad:\n",
        "                for y in f.outputs:\n",
        "                    y().grad = None  # y is weakref\n",
        "\n",
        "\n",
        "def as_variable(obj):\n",
        "    if isinstance(obj, Variable):\n",
        "        return obj\n",
        "    return Variable(obj)\n",
        "\n",
        "\n",
        "def as_array(x):\n",
        "    if np.isscalar(x):\n",
        "        return np.array(x)\n",
        "    return x\n",
        "\n",
        "\n",
        "class Function:\n",
        "    def __call__(self, *inputs):\n",
        "        inputs = [as_variable(x) for x in inputs]\n",
        "\n",
        "        xs = [x.data for x in inputs]\n",
        "        ys = self.forward(*xs)\n",
        "        if not isinstance(ys, tuple):\n",
        "            ys = (ys,)\n",
        "        outputs = [Variable(as_array(y)) for y in ys]\n",
        "\n",
        "        if Config.enable_backprop:\n",
        "            self.generation = max([x.generation for x in inputs])\n",
        "            for output in outputs:\n",
        "                output.set_creator(self)\n",
        "            self.inputs = inputs\n",
        "            self.outputs = [weakref.ref(output) for output in outputs]\n",
        "\n",
        "        return outputs if len(outputs) > 1 else outputs[0]\n",
        "\n",
        "    def forward(self, xs):\n",
        "        raise NotImplementedError()\n",
        "\n",
        "    def backward(self, gys):\n",
        "        raise NotImplementedError()\n",
        "\n",
        "\n",
        "class Add(Function):\n",
        "    def forward(self, x0, x1):\n",
        "        y = x0 + x1\n",
        "        return y\n",
        "\n",
        "    def backward(self, gy):\n",
        "        return gy, gy\n",
        "\n",
        "\n",
        "def add(x0, x1):\n",
        "    x1 = as_array(x1)\n",
        "    return Add()(x0, x1)\n",
        "\n",
        "\n",
        "class Mul(Function):\n",
        "    def forward(self, x0, x1):\n",
        "        y = x0 * x1\n",
        "        return y\n",
        "\n",
        "    def backward(self, gy):\n",
        "        x0, x1 = self.inputs[0].data, self.inputs[1].data\n",
        "        return gy * x1, gy * x0\n",
        "\n",
        "\n",
        "def mul(x0, x1):\n",
        "    x1 = as_array(x1)\n",
        "    return Mul()(x0, x1)\n",
        "\n",
        "\n",
        "class Neg(Function):\n",
        "    def forward(self, x):\n",
        "        return -x\n",
        "\n",
        "    def backward(self, gy):\n",
        "        return -gy\n",
        "\n",
        "\n",
        "def neg(x):\n",
        "    return Neg()(x)\n",
        "\n",
        "\n",
        "class Sub(Function):\n",
        "    def forward(self, x0, x1):\n",
        "        y = x0 - x1\n",
        "        return y\n",
        "\n",
        "    def backward(self, gy):\n",
        "        return gy, -gy\n",
        "\n",
        "\n",
        "def sub(x0, x1):\n",
        "    x1 = as_array(x1)\n",
        "    return Sub()(x0, x1)\n",
        "\n",
        "\n",
        "def rsub(x0, x1):\n",
        "    x1 = as_array(x1)\n",
        "    return sub(x1, x0)\n",
        "\n",
        "\n",
        "class Div(Function):\n",
        "    def forward(self, x0, x1):\n",
        "        y = x0 / x1\n",
        "        return y\n",
        "\n",
        "    def backward(self, gy):\n",
        "        x0, x1 = self.inputs[0].data, self.inputs[1].data\n",
        "        gx0 = gy / x1\n",
        "        gx1 = gy * (-x0 / x1 ** 2)\n",
        "        return gx0, gx1\n",
        "\n",
        "\n",
        "def div(x0, x1):\n",
        "    x1 = as_array(x1)\n",
        "    return Div()(x0, x1)\n",
        "\n",
        "\n",
        "def rdiv(x0, x1):\n",
        "    x1 = as_array(x1)\n",
        "    return div(x1, x0)\n",
        "\n",
        "\n",
        "class Pow(Function):\n",
        "    def __init__(self, c):\n",
        "        self.c = c\n",
        "\n",
        "    def forward(self, x):\n",
        "        y = x ** self.c\n",
        "        return y\n",
        "\n",
        "    def backward(self, gy):\n",
        "        x = self.inputs[0].data\n",
        "        c = self.c\n",
        "\n",
        "        gx = c * x ** (c - 1) * gy\n",
        "        return gx\n",
        "\n",
        "\n",
        "def pow(x, c):\n",
        "    return Pow(c)(x)\n",
        "\n",
        "\n",
        "Variable.__add__ = add\n",
        "Variable.__radd__ = add\n",
        "Variable.__mul__ = mul\n",
        "Variable.__rmul__ = mul\n",
        "Variable.__neg__ = neg\n",
        "Variable.__sub__ = sub\n",
        "Variable.__rsub__ = rsub\n",
        "Variable.__truediv__ = div\n",
        "Variable.__rtruediv__ = rdiv\n",
        "Variable.__pow__ = pow\n",
        "\n",
        "x = Variable(np.array(2.0))\n",
        "y = -x\n",
        "print(y)  # variable(-2.0)\n",
        "\n",
        "y1 = 2.0 - x\n",
        "y2 = x - 1.0\n",
        "print(y1)  # variable(0.0)\n",
        "print(y2)  # variable(1.0)\n",
        "\n",
        "y = 3.0 / x\n",
        "print(y)  # variable(1.5)\n",
        "\n",
        "y = x ** 3\n",
        "y.backward()\n",
        "print(y)  # variable(8.0)"
      ],
      "execution_count": 3,
      "outputs": [
        {
          "output_type": "stream",
          "name": "stdout",
          "text": [
            "variable(-2.0)\n",
            "variable(0.0)\n",
            "variable(1.0)\n",
            "variable(1.5)\n",
            "variable(8.0)\n"
          ]
        }
      ]
    },
    {
      "cell_type": "code",
      "metadata": {
        "colab": {
          "base_uri": "https://localhost:8080/"
        },
        "id": "l_3xiyhZBbJK",
        "outputId": "b02858f3-3884-4c9c-d2c5-81e773dbd87d"
      },
      "source": [
        "if '__file__' in globals():\n",
        "    import os, sys\n",
        "    sys.path.append(os.path.join(os.path.dirname(__file__), '..'))\n",
        "import numpy as np\n",
        "from dezero import Variable\n",
        "\n",
        "\n",
        "def sphere(x, y):\n",
        "    z = x ** 2 + y ** 2\n",
        "    return z\n",
        "\n",
        "\n",
        "def matyas(x, y):\n",
        "    z = 0.26 * (x ** 2 + y ** 2) - 0.48 * x * y\n",
        "    return z\n",
        "\n",
        "\n",
        "def goldstein(x, y):\n",
        "    z = (1 + (x + y + 1)**2 * (19 - 14*x + 3*x**2 - 14*y + 6*x*y + 3*y**2)) * \\\n",
        "        (30 + (2*x - 3*y)**2 * (18 - 32*x + 12*x**2 + 48*y - 36*x*y + 27*y**2))\n",
        "    return z\n",
        "\n",
        "\n",
        "x = Variable(np.array(1.0))\n",
        "y = Variable(np.array(1.0))\n",
        "z = goldstein(x, y)  # sphere(x, y) / matyas(x, y)\n",
        "z.backward()\n",
        "print(x.grad, y.grad)"
      ],
      "execution_count": 4,
      "outputs": [
        {
          "output_type": "stream",
          "name": "stdout",
          "text": [
            "variable(-5376.0) variable(8064.0)\n"
          ]
        }
      ]
    },
    {
      "cell_type": "markdown",
      "metadata": {
        "id": "f5MoOpXICzAf"
      },
      "source": [
        "# graphviz"
      ]
    },
    {
      "cell_type": "code",
      "metadata": {
        "colab": {
          "base_uri": "https://localhost:8080/",
          "height": 150
        },
        "id": "tvD94am8IYu7",
        "outputId": "01bd2c48-aad3-44dc-ee27-72836c2fa16a"
      },
      "source": [
        "import graphviz \n",
        "\n",
        "def save_graph_as_svg(dot_string, output_file_name):\n",
        "    if type(dot_string) is str:\n",
        "        g = graphviz.Source(dot_string)\n",
        "    elif isinstance(dot_string, (graphviz.dot.Digraph, graphviz.dot.Graph)):\n",
        "        g = dot_string\n",
        "    g.format='svg'\n",
        "    g.filename = output_file_name\n",
        "    g.directory = '../../assets/images/markdown_img/'\n",
        "    g.render(view=False)\n",
        "    return g\n",
        "dot_graph = \"\"\"\n",
        "graph graphname {\n",
        "    rankdir=LR;\n",
        "     a -- b -- c;\n",
        "     b -- d;\n",
        "}\"\"\"\n",
        "save_graph_as_svg(dot_graph, 'simple_dot_example1')"
      ],
      "execution_count": 41,
      "outputs": [
        {
          "output_type": "execute_result",
          "data": {
            "text/plain": [
              "<graphviz.files.Source at 0x7f188e050c50>"
            ],
            "image/svg+xml": "<?xml version=\"1.0\" encoding=\"UTF-8\" standalone=\"no\"?>\n<!DOCTYPE svg PUBLIC \"-//W3C//DTD SVG 1.1//EN\"\n \"http://www.w3.org/Graphics/SVG/1.1/DTD/svg11.dtd\">\n<!-- Generated by graphviz version 2.40.1 (20161225.0304)\n -->\n<!-- Title: graphname Pages: 1 -->\n<svg width=\"242pt\" height=\"98pt\"\n viewBox=\"0.00 0.00 242.00 98.00\" xmlns=\"http://www.w3.org/2000/svg\" xmlns:xlink=\"http://www.w3.org/1999/xlink\">\n<g id=\"graph0\" class=\"graph\" transform=\"scale(1 1) rotate(0) translate(4 94)\">\n<title>graphname</title>\n<polygon fill=\"#ffffff\" stroke=\"transparent\" points=\"-4,4 -4,-94 238,-94 238,4 -4,4\"/>\n<!-- a -->\n<g id=\"node1\" class=\"node\">\n<title>a</title>\n<ellipse fill=\"none\" stroke=\"#000000\" cx=\"27\" cy=\"-45\" rx=\"27\" ry=\"18\"/>\n<text text-anchor=\"middle\" x=\"27\" y=\"-41.3\" font-family=\"Times,serif\" font-size=\"14.00\" fill=\"#000000\">a</text>\n</g>\n<!-- b -->\n<g id=\"node2\" class=\"node\">\n<title>b</title>\n<ellipse fill=\"none\" stroke=\"#000000\" cx=\"117\" cy=\"-45\" rx=\"27\" ry=\"18\"/>\n<text text-anchor=\"middle\" x=\"117\" y=\"-41.3\" font-family=\"Times,serif\" font-size=\"14.00\" fill=\"#000000\">b</text>\n</g>\n<!-- a&#45;&#45;b -->\n<g id=\"edge1\" class=\"edge\">\n<title>a&#45;&#45;b</title>\n<path fill=\"none\" stroke=\"#000000\" d=\"M54.003,-45C65.2905,-45 78.3867,-45 89.705,-45\"/>\n</g>\n<!-- c -->\n<g id=\"node3\" class=\"node\">\n<title>c</title>\n<ellipse fill=\"none\" stroke=\"#000000\" cx=\"207\" cy=\"-72\" rx=\"27\" ry=\"18\"/>\n<text text-anchor=\"middle\" x=\"207\" y=\"-68.3\" font-family=\"Times,serif\" font-size=\"14.00\" fill=\"#000000\">c</text>\n</g>\n<!-- b&#45;&#45;c -->\n<g id=\"edge2\" class=\"edge\">\n<title>b&#45;&#45;c</title>\n<path fill=\"none\" stroke=\"#000000\" d=\"M142.07,-52.521C154.657,-56.2971 169.8509,-60.8553 182.3755,-64.6126\"/>\n</g>\n<!-- d -->\n<g id=\"node4\" class=\"node\">\n<title>d</title>\n<ellipse fill=\"none\" stroke=\"#000000\" cx=\"207\" cy=\"-18\" rx=\"27\" ry=\"18\"/>\n<text text-anchor=\"middle\" x=\"207\" y=\"-14.3\" font-family=\"Times,serif\" font-size=\"14.00\" fill=\"#000000\">d</text>\n</g>\n<!-- b&#45;&#45;d -->\n<g id=\"edge3\" class=\"edge\">\n<title>b&#45;&#45;d</title>\n<path fill=\"none\" stroke=\"#000000\" d=\"M142.07,-37.479C154.657,-33.7029 169.8509,-29.1447 182.3755,-25.3874\"/>\n</g>\n</g>\n</svg>\n"
          },
          "metadata": {},
          "execution_count": 41
        }
      ]
    },
    {
      "cell_type": "code",
      "metadata": {
        "colab": {
          "base_uri": "https://localhost:8080/",
          "height": 270
        },
        "id": "kK7GbPrTGno3",
        "outputId": "eb07a6fd-3636-461b-becd-01ebdbbe6e88"
      },
      "source": [
        "dot_digraph = \"\"\"\n",
        "digraph graphname {\n",
        "  1 [label=\"x\", color=orange, style=filled]\n",
        "  2 [label=\"y\", color=orange, style=filled]\n",
        "  3 [label=\"Exp\", color=lightblue, style=filled, shape=box]\n",
        "  1 -> 3\n",
        "  3 -> 2\n",
        "}\n",
        "\"\"\"\n",
        "save_graph_as_svg(dot_digraph, 'simple_digraph')"
      ],
      "execution_count": 44,
      "outputs": [
        {
          "output_type": "execute_result",
          "data": {
            "text/plain": [
              "<graphviz.files.Source at 0x7f188dfe1710>"
            ],
            "image/svg+xml": "<?xml version=\"1.0\" encoding=\"UTF-8\" standalone=\"no\"?>\n<!DOCTYPE svg PUBLIC \"-//W3C//DTD SVG 1.1//EN\"\n \"http://www.w3.org/Graphics/SVG/1.1/DTD/svg11.dtd\">\n<!-- Generated by graphviz version 2.40.1 (20161225.0304)\n -->\n<!-- Title: graphname Pages: 1 -->\n<svg width=\"62pt\" height=\"188pt\"\n viewBox=\"0.00 0.00 62.00 188.00\" xmlns=\"http://www.w3.org/2000/svg\" xmlns:xlink=\"http://www.w3.org/1999/xlink\">\n<g id=\"graph0\" class=\"graph\" transform=\"scale(1 1) rotate(0) translate(4 184)\">\n<title>graphname</title>\n<polygon fill=\"#ffffff\" stroke=\"transparent\" points=\"-4,4 -4,-184 58,-184 58,4 -4,4\"/>\n<!-- 1 -->\n<g id=\"node1\" class=\"node\">\n<title>1</title>\n<ellipse fill=\"#ffa500\" stroke=\"#ffa500\" cx=\"27\" cy=\"-162\" rx=\"27\" ry=\"18\"/>\n<text text-anchor=\"middle\" x=\"27\" y=\"-158.3\" font-family=\"Times,serif\" font-size=\"14.00\" fill=\"#000000\">x</text>\n</g>\n<!-- 3 -->\n<g id=\"node3\" class=\"node\">\n<title>3</title>\n<polygon fill=\"#add8e6\" stroke=\"#add8e6\" points=\"54,-108 0,-108 0,-72 54,-72 54,-108\"/>\n<text text-anchor=\"middle\" x=\"27\" y=\"-86.3\" font-family=\"Times,serif\" font-size=\"14.00\" fill=\"#000000\">Exp</text>\n</g>\n<!-- 1&#45;&gt;3 -->\n<g id=\"edge1\" class=\"edge\">\n<title>1&#45;&gt;3</title>\n<path fill=\"none\" stroke=\"#000000\" d=\"M27,-143.8314C27,-136.131 27,-126.9743 27,-118.4166\"/>\n<polygon fill=\"#000000\" stroke=\"#000000\" points=\"30.5001,-118.4132 27,-108.4133 23.5001,-118.4133 30.5001,-118.4132\"/>\n</g>\n<!-- 2 -->\n<g id=\"node2\" class=\"node\">\n<title>2</title>\n<ellipse fill=\"#ffa500\" stroke=\"#ffa500\" cx=\"27\" cy=\"-18\" rx=\"27\" ry=\"18\"/>\n<text text-anchor=\"middle\" x=\"27\" y=\"-14.3\" font-family=\"Times,serif\" font-size=\"14.00\" fill=\"#000000\">y</text>\n</g>\n<!-- 3&#45;&gt;2 -->\n<g id=\"edge2\" class=\"edge\">\n<title>3&#45;&gt;2</title>\n<path fill=\"none\" stroke=\"#000000\" d=\"M27,-71.8314C27,-64.131 27,-54.9743 27,-46.4166\"/>\n<polygon fill=\"#000000\" stroke=\"#000000\" points=\"30.5001,-46.4132 27,-36.4133 23.5001,-46.4133 30.5001,-46.4132\"/>\n</g>\n</g>\n</svg>\n"
          },
          "metadata": {},
          "execution_count": 44
        }
      ]
    },
    {
      "cell_type": "code",
      "metadata": {
        "colab": {
          "base_uri": "https://localhost:8080/",
          "height": 429
        },
        "id": "RrG7td4JMyle",
        "outputId": "9f15d308-350b-4f7e-e5b4-100b9a0a205d"
      },
      "source": [
        "import numpy as np\n",
        "from dezero import Variable\n",
        "from dezero.utils import get_dot_graph\n",
        "\n",
        "x0 = Variable(np.array(1.0))\n",
        "x1 = Variable(np.array(1.0))\n",
        "y = x0 + x1\n",
        "\n",
        "x0.name = 'x0'\n",
        "x1.name = 'x1'\n",
        "y.name = 'y'\n",
        "\n",
        "txt = get_dot_graph(y, verbose=False)\n",
        "print(txt)\n",
        "\n",
        "with open('sample.dot', 'w') as o:\n",
        "  o.write(txt)\n",
        "  \n",
        "with open('sample.dot') as o:\n",
        "  dotGraph = o.read()\n",
        "graphviz.Source(dotGraph)"
      ],
      "execution_count": 49,
      "outputs": [
        {
          "output_type": "stream",
          "name": "stdout",
          "text": [
            "digraph g {\n",
            "139743438117584 [label=\"y\", color=orange, style=filled]\n",
            "139743438118736 [label=\"Add\", color=lightblue, style=filled, shape=box]\n",
            "139743436461840 -> 139743438118736\n",
            "139743436690896 -> 139743438118736\n",
            "139743438118736 -> 139743438117584\n",
            "139743436461840 [label=\"x0\", color=orange, style=filled]\n",
            "139743436690896 [label=\"x1\", color=orange, style=filled]\n",
            "}\n"
          ]
        },
        {
          "output_type": "execute_result",
          "data": {
            "text/plain": [
              "<graphviz.files.Source at 0x7f188dfd1a50>"
            ],
            "image/svg+xml": "<?xml version=\"1.0\" encoding=\"UTF-8\" standalone=\"no\"?>\n<!DOCTYPE svg PUBLIC \"-//W3C//DTD SVG 1.1//EN\"\n \"http://www.w3.org/Graphics/SVG/1.1/DTD/svg11.dtd\">\n<!-- Generated by graphviz version 2.40.1 (20161225.0304)\n -->\n<!-- Title: g Pages: 1 -->\n<svg width=\"134pt\" height=\"188pt\"\n viewBox=\"0.00 0.00 134.00 188.00\" xmlns=\"http://www.w3.org/2000/svg\" xmlns:xlink=\"http://www.w3.org/1999/xlink\">\n<g id=\"graph0\" class=\"graph\" transform=\"scale(1 1) rotate(0) translate(4 184)\">\n<title>g</title>\n<polygon fill=\"#ffffff\" stroke=\"transparent\" points=\"-4,4 -4,-184 130,-184 130,4 -4,4\"/>\n<!-- 139743438117584 -->\n<g id=\"node1\" class=\"node\">\n<title>139743438117584</title>\n<ellipse fill=\"#ffa500\" stroke=\"#ffa500\" cx=\"63\" cy=\"-18\" rx=\"27\" ry=\"18\"/>\n<text text-anchor=\"middle\" x=\"63\" y=\"-14.3\" font-family=\"Times,serif\" font-size=\"14.00\" fill=\"#000000\">y</text>\n</g>\n<!-- 139743438118736 -->\n<g id=\"node2\" class=\"node\">\n<title>139743438118736</title>\n<polygon fill=\"#add8e6\" stroke=\"#add8e6\" points=\"90,-108 36,-108 36,-72 90,-72 90,-108\"/>\n<text text-anchor=\"middle\" x=\"63\" y=\"-86.3\" font-family=\"Times,serif\" font-size=\"14.00\" fill=\"#000000\">Add</text>\n</g>\n<!-- 139743438118736&#45;&gt;139743438117584 -->\n<g id=\"edge3\" class=\"edge\">\n<title>139743438118736&#45;&gt;139743438117584</title>\n<path fill=\"none\" stroke=\"#000000\" d=\"M63,-71.8314C63,-64.131 63,-54.9743 63,-46.4166\"/>\n<polygon fill=\"#000000\" stroke=\"#000000\" points=\"66.5001,-46.4132 63,-36.4133 59.5001,-46.4133 66.5001,-46.4132\"/>\n</g>\n<!-- 139743436461840 -->\n<g id=\"node3\" class=\"node\">\n<title>139743436461840</title>\n<ellipse fill=\"#ffa500\" stroke=\"#ffa500\" cx=\"27\" cy=\"-162\" rx=\"27\" ry=\"18\"/>\n<text text-anchor=\"middle\" x=\"27\" y=\"-158.3\" font-family=\"Times,serif\" font-size=\"14.00\" fill=\"#000000\">x0</text>\n</g>\n<!-- 139743436461840&#45;&gt;139743438118736 -->\n<g id=\"edge1\" class=\"edge\">\n<title>139743436461840&#45;&gt;139743438118736</title>\n<path fill=\"none\" stroke=\"#000000\" d=\"M35.7146,-144.5708C39.8228,-136.3544 44.8196,-126.3608 49.4089,-117.1821\"/>\n<polygon fill=\"#000000\" stroke=\"#000000\" points=\"52.648,-118.5301 53.9897,-108.0206 46.387,-115.3996 52.648,-118.5301\"/>\n</g>\n<!-- 139743436690896 -->\n<g id=\"node4\" class=\"node\">\n<title>139743436690896</title>\n<ellipse fill=\"#ffa500\" stroke=\"#ffa500\" cx=\"99\" cy=\"-162\" rx=\"27\" ry=\"18\"/>\n<text text-anchor=\"middle\" x=\"99\" y=\"-158.3\" font-family=\"Times,serif\" font-size=\"14.00\" fill=\"#000000\">x1</text>\n</g>\n<!-- 139743436690896&#45;&gt;139743438118736 -->\n<g id=\"edge2\" class=\"edge\">\n<title>139743436690896&#45;&gt;139743438118736</title>\n<path fill=\"none\" stroke=\"#000000\" d=\"M90.2854,-144.5708C86.1772,-136.3544 81.1804,-126.3608 76.5911,-117.1821\"/>\n<polygon fill=\"#000000\" stroke=\"#000000\" points=\"79.613,-115.3996 72.0103,-108.0206 73.352,-118.5301 79.613,-115.3996\"/>\n</g>\n</g>\n</svg>\n"
          },
          "metadata": {},
          "execution_count": 49
        }
      ]
    },
    {
      "cell_type": "code",
      "metadata": {
        "id": "5kQoFR6wkP28"
      },
      "source": [
        "def _dot_var(v, verbose=False):\n",
        "  dot_var = '{} [label=\"{}\", color=orange, style=filled]\\n'\n",
        "\n",
        "  name = '' if v.name is None else v.name\n",
        "  if verbose and v.data is not None:\n",
        "    if v.name is not None:\n",
        "      name += ': '\n",
        "    name += str(v.shape) + ' ' + str(v.dtype)\n",
        "  return dot_var.format(id(v), name)"
      ],
      "execution_count": 54,
      "outputs": []
    },
    {
      "cell_type": "code",
      "metadata": {
        "colab": {
          "base_uri": "https://localhost:8080/"
        },
        "id": "9E3pEXNznKyp",
        "outputId": "54e8f89a-747f-4ffe-fb0d-046b6d75f600"
      },
      "source": [
        "x = Variable(np.random.randn(2, 3))\n",
        "x.name = 'x'\n",
        "print(_dot_var(x))\n",
        "print(_dot_var(x, verbose=True))"
      ],
      "execution_count": 55,
      "outputs": [
        {
          "output_type": "stream",
          "name": "stdout",
          "text": [
            "139743368250960 [label=\"x\", color=orange, style=filled]\n",
            "\n",
            "139743368250960 [label=\"x: (2, 3) float64\", color=orange, style=filled]\n",
            "\n"
          ]
        }
      ]
    },
    {
      "cell_type": "code",
      "metadata": {
        "id": "A69iz36bnaOW"
      },
      "source": [
        "def _dot_func(f):\n",
        "  dot_func = '{} [label=\"{}\", color=lightblue, style=filled, shape=box]\\n'\n",
        "  txt = dot_func.format(id(f), f.__class__.__name__)\n",
        "\n",
        "  dot_edge = '{} -> {}\\n'\n",
        "  for x in f.inputs:\n",
        "    txt += dot_edge.format(id(x), id(f))\n",
        "  for y in f.outputs:\n",
        "    txt += dot_edge.format(id(f), id(y)) # y는 약한 참조 weakref\n",
        "  return txt"
      ],
      "execution_count": 59,
      "outputs": []
    },
    {
      "cell_type": "code",
      "metadata": {
        "colab": {
          "base_uri": "https://localhost:8080/"
        },
        "id": "3g6evYALoBZn",
        "outputId": "165e5991-e1aa-473a-989d-c03f0d7b4e9e"
      },
      "source": [
        "x0 = Variable(np.array(1.0))\n",
        "x1 = Variable(np.array(1.0))\n",
        "y = x0 + x1\n",
        "txt = _dot_func(y.creator)\n",
        "print(txt)"
      ],
      "execution_count": 60,
      "outputs": [
        {
          "output_type": "stream",
          "name": "stdout",
          "text": [
            "139743367710352 [label=\"Add\", color=lightblue, style=filled, shape=box]\n",
            "139743367712400 -> 139743367710352\n",
            "139743367709392 -> 139743367710352\n",
            "139743367710352 -> 139743367713712\n",
            "\n"
          ]
        }
      ]
    },
    {
      "cell_type": "code",
      "metadata": {
        "id": "ihfIcbAAPWrv"
      },
      "source": [
        "def get_dot_graph(output, verbose=True):\n",
        "  txt = ''\n",
        "  funcs = []\n",
        "  seen_set = set()\n",
        "\n",
        "  def add_func(f):\n",
        "    if f not in seen_set:\n",
        "      funcs.append(f)\n",
        "      seen_set.add(f)\n",
        "\n",
        "  add_func(output.creator)\n",
        "  txt += _dot_var(output, verbose)\n",
        "\n",
        "  while funcs:\n",
        "    func = funcs.pop()\n",
        "    txt += _dot_func(func)\n",
        "    for x in func.inputs:\n",
        "      txt += _dot_var(x, verbose)\n",
        "\n",
        "      if x.creator is not None:\n",
        "        add_func(x.creator)\n",
        "  return 'digraph graphname {\\n' + txt + '}'"
      ],
      "execution_count": 71,
      "outputs": []
    },
    {
      "cell_type": "code",
      "metadata": {
        "id": "Xl7VMnAuhRMj"
      },
      "source": [
        "def plot_dot_graph(output, verbose=True, to_file=\"step26\"):\n",
        "  dot_graph= get_dot_graph(output, verbose)\n",
        "  save_graph_as_svg(dot_graph, to_file)\n",
        "  g = graphviz.Source(dot_graph)\n",
        "  return g"
      ],
      "execution_count": 81,
      "outputs": []
    },
    {
      "cell_type": "code",
      "metadata": {
        "colab": {
          "base_uri": "https://localhost:8080/",
          "height": 290
        },
        "id": "4R9n3tZfihNA",
        "outputId": "d0628607-8f73-4307-b29b-d6cbe12aa0b1"
      },
      "source": [
        "import numpy as np\n",
        "from dezero import Variable\n",
        "# from dezero.utils import plot_dot_graph\n",
        "\n",
        "def goldstein(x, y):\n",
        "    z = (1 + (x + y + 1)**2 * (19 - 14*x + 3*x**2 - 14*y + 6*x*y + 3*y**2)) * \\\n",
        "        (30 + (2*x - 3*y)**2 * (18 - 32*x + 12*x**2 + 48*y - 36*x*y + 27*y**2))\n",
        "    return z\n",
        "\n",
        "x = Variable(np.array(1.0))\n",
        "y = Variable(np.array(1.0))\n",
        "z = goldstein(x, y)\n",
        "z.backward()\n",
        "\n",
        "x.name = 'x'\n",
        "y.name = 'y'\n",
        "z.name = 'z'\n",
        "plot_dot_graph(z, verbose=False, to_file='goldstein.svg')"
      ],
      "execution_count": 82,
      "outputs": [
        {
          "output_type": "execute_result",
          "data": {
            "text/plain": [
              "<graphviz.files.Source at 0x7f1889c17f10>"
            ],
            "image/svg+xml": "<?xml version=\"1.0\" encoding=\"UTF-8\" standalone=\"no\"?>\n<!DOCTYPE svg PUBLIC \"-//W3C//DTD SVG 1.1//EN\"\n \"http://www.w3.org/Graphics/SVG/1.1/DTD/svg11.dtd\">\n<!-- Generated by graphviz version 2.40.1 (20161225.0304)\n -->\n<!-- Title: graphname Pages: 1 -->\n<svg width=\"7184pt\" height=\"188pt\"\n viewBox=\"0.00 0.00 7183.84 188.00\" xmlns=\"http://www.w3.org/2000/svg\" xmlns:xlink=\"http://www.w3.org/1999/xlink\">\n<g id=\"graph0\" class=\"graph\" transform=\"scale(1 1) rotate(0) translate(4 184)\">\n<title>graphname</title>\n<polygon fill=\"#ffffff\" stroke=\"transparent\" points=\"-4,4 -4,-184 7179.8426,-184 7179.8426,4 -4,4\"/>\n<!-- 139743368528464 -->\n<g id=\"node1\" class=\"node\">\n<title>139743368528464</title>\n<ellipse fill=\"#ffa500\" stroke=\"#ffa500\" cx=\"27\" cy=\"-162\" rx=\"27\" ry=\"18\"/>\n<text text-anchor=\"middle\" x=\"27\" y=\"-158.3\" font-family=\"Times,serif\" font-size=\"14.00\" fill=\"#000000\">z</text>\n</g>\n<!-- 139743368531152 -->\n<g id=\"node2\" class=\"node\">\n<title>139743368531152</title>\n<polygon fill=\"#add8e6\" stroke=\"#add8e6\" points=\"162,-108 108,-108 108,-72 162,-72 162,-108\"/>\n<text text-anchor=\"middle\" x=\"135\" y=\"-86.3\" font-family=\"Times,serif\" font-size=\"14.00\" fill=\"#000000\">Mul</text>\n</g>\n<!-- 139743367558352 -->\n<g id=\"node5\" class=\"node\">\n<title>139743367558352</title>\n<ellipse fill=\"none\" stroke=\"#000000\" cx=\"135\" cy=\"-18\" rx=\"83.6854\" ry=\"18\"/>\n<text text-anchor=\"middle\" x=\"135\" y=\"-14.3\" font-family=\"Times,serif\" font-size=\"14.00\" fill=\"#000000\">139743367558352</text>\n</g>\n<!-- 139743368531152&#45;&gt;139743367558352 -->\n<g id=\"edge3\" class=\"edge\">\n<title>139743368531152&#45;&gt;139743367558352</title>\n<path fill=\"none\" stroke=\"#000000\" d=\"M135,-71.8314C135,-64.131 135,-54.9743 135,-46.4166\"/>\n<polygon fill=\"#000000\" stroke=\"#000000\" points=\"138.5001,-46.4132 135,-36.4133 131.5001,-46.4133 138.5001,-46.4132\"/>\n</g>\n<!-- 139743373882768 -->\n<g id=\"node3\" class=\"node\">\n<title>139743373882768</title>\n<ellipse fill=\"#ffa500\" stroke=\"#ffa500\" cx=\"99\" cy=\"-162\" rx=\"27\" ry=\"18\"/>\n</g>\n<!-- 139743373882768&#45;&gt;139743368531152 -->\n<g id=\"edge1\" class=\"edge\">\n<title>139743373882768&#45;&gt;139743368531152</title>\n<path fill=\"none\" stroke=\"#000000\" d=\"M107.7146,-144.5708C111.8228,-136.3544 116.8196,-126.3608 121.4089,-117.1821\"/>\n<polygon fill=\"#000000\" stroke=\"#000000\" points=\"124.648,-118.5301 125.9897,-108.0206 118.387,-115.3996 124.648,-118.5301\"/>\n</g>\n<!-- 139743368530576 -->\n<g id=\"node4\" class=\"node\">\n<title>139743368530576</title>\n<ellipse fill=\"#ffa500\" stroke=\"#ffa500\" cx=\"171\" cy=\"-162\" rx=\"27\" ry=\"18\"/>\n</g>\n<!-- 139743368530576&#45;&gt;139743368531152 -->\n<g id=\"edge2\" class=\"edge\">\n<title>139743368530576&#45;&gt;139743368531152</title>\n<path fill=\"none\" stroke=\"#000000\" d=\"M162.2854,-144.5708C158.1772,-136.3544 153.1804,-126.3608 148.5911,-117.1821\"/>\n<polygon fill=\"#000000\" stroke=\"#000000\" points=\"151.613,-115.3996 144.0103,-108.0206 145.352,-118.5301 151.613,-115.3996\"/>\n</g>\n<!-- 139743368528592 -->\n<g id=\"node6\" class=\"node\">\n<title>139743368528592</title>\n<polygon fill=\"#add8e6\" stroke=\"#add8e6\" points=\"348,-108 294,-108 294,-72 348,-72 348,-108\"/>\n<text text-anchor=\"middle\" x=\"321\" y=\"-86.3\" font-family=\"Times,serif\" font-size=\"14.00\" fill=\"#000000\">Add</text>\n</g>\n<!-- 139743367558544 -->\n<g id=\"node9\" class=\"node\">\n<title>139743367558544</title>\n<ellipse fill=\"none\" stroke=\"#000000\" cx=\"321\" cy=\"-18\" rx=\"83.6854\" ry=\"18\"/>\n<text text-anchor=\"middle\" x=\"321\" y=\"-14.3\" font-family=\"Times,serif\" font-size=\"14.00\" fill=\"#000000\">139743367558544</text>\n</g>\n<!-- 139743368528592&#45;&gt;139743367558544 -->\n<g id=\"edge6\" class=\"edge\">\n<title>139743368528592&#45;&gt;139743367558544</title>\n<path fill=\"none\" stroke=\"#000000\" d=\"M321,-71.8314C321,-64.131 321,-54.9743 321,-46.4166\"/>\n<polygon fill=\"#000000\" stroke=\"#000000\" points=\"324.5001,-46.4132 321,-36.4133 317.5001,-46.4133 324.5001,-46.4132\"/>\n</g>\n<!-- 139743368529040 -->\n<g id=\"node7\" class=\"node\">\n<title>139743368529040</title>\n<ellipse fill=\"#ffa500\" stroke=\"#ffa500\" cx=\"299\" cy=\"-162\" rx=\"27\" ry=\"18\"/>\n</g>\n<!-- 139743368529040&#45;&gt;139743368528592 -->\n<g id=\"edge4\" class=\"edge\">\n<title>139743368529040&#45;&gt;139743368528592</title>\n<path fill=\"none\" stroke=\"#000000\" d=\"M304.4382,-144.2022C306.8789,-136.2146 309.8153,-126.6045 312.5335,-117.7087\"/>\n<polygon fill=\"#000000\" stroke=\"#000000\" points=\"315.8965,-118.6794 315.4715,-108.0931 309.2021,-116.6339 315.8965,-118.6794\"/>\n</g>\n<!-- 139743368529488 -->\n<g id=\"node8\" class=\"node\">\n<title>139743368529488</title>\n<ellipse fill=\"#ffa500\" stroke=\"#ffa500\" cx=\"371\" cy=\"-162\" rx=\"27\" ry=\"18\"/>\n</g>\n<!-- 139743368529488&#45;&gt;139743368528592 -->\n<g id=\"edge5\" class=\"edge\">\n<title>139743368529488&#45;&gt;139743368528592</title>\n<path fill=\"none\" stroke=\"#000000\" d=\"M359.6542,-145.6621C353.6373,-136.9978 346.0983,-126.1415 339.2797,-116.3227\"/>\n<polygon fill=\"#000000\" stroke=\"#000000\" points=\"342.1082,-114.2597 333.5294,-108.0423 336.3586,-118.2525 342.1082,-114.2597\"/>\n</g>\n<!-- 139743436443408 -->\n<g id=\"node10\" class=\"node\">\n<title>139743436443408</title>\n<polygon fill=\"#add8e6\" stroke=\"#add8e6\" points=\"549,-108 495,-108 495,-72 549,-72 549,-108\"/>\n<text text-anchor=\"middle\" x=\"522\" y=\"-86.3\" font-family=\"Times,serif\" font-size=\"14.00\" fill=\"#000000\">Mul</text>\n</g>\n<!-- 139743367559024 -->\n<g id=\"node13\" class=\"node\">\n<title>139743367559024</title>\n<ellipse fill=\"none\" stroke=\"#000000\" cx=\"522\" cy=\"-18\" rx=\"83.6854\" ry=\"18\"/>\n<text text-anchor=\"middle\" x=\"522\" y=\"-14.3\" font-family=\"Times,serif\" font-size=\"14.00\" fill=\"#000000\">139743367559024</text>\n</g>\n<!-- 139743436443408&#45;&gt;139743367559024 -->\n<g id=\"edge9\" class=\"edge\">\n<title>139743436443408&#45;&gt;139743367559024</title>\n<path fill=\"none\" stroke=\"#000000\" d=\"M522,-71.8314C522,-64.131 522,-54.9743 522,-46.4166\"/>\n<polygon fill=\"#000000\" stroke=\"#000000\" points=\"525.5001,-46.4132 522,-36.4133 518.5001,-46.4133 525.5001,-46.4132\"/>\n</g>\n<!-- 139743460506448 -->\n<g id=\"node11\" class=\"node\">\n<title>139743460506448</title>\n<ellipse fill=\"#ffa500\" stroke=\"#ffa500\" cx=\"471\" cy=\"-162\" rx=\"27\" ry=\"18\"/>\n</g>\n<!-- 139743460506448&#45;&gt;139743436443408 -->\n<g id=\"edge7\" class=\"edge\">\n<title>139743460506448&#45;&gt;139743436443408</title>\n<path fill=\"none\" stroke=\"#000000\" d=\"M482.5727,-145.6621C488.7099,-136.9978 496.3998,-126.1415 503.3547,-116.3227\"/>\n<polygon fill=\"#000000\" stroke=\"#000000\" points=\"506.2959,-118.2257 509.22,-108.0423 500.5837,-114.1795 506.2959,-118.2257\"/>\n</g>\n<!-- 139743367720784 -->\n<g id=\"node12\" class=\"node\">\n<title>139743367720784</title>\n<ellipse fill=\"#ffa500\" stroke=\"#ffa500\" cx=\"543\" cy=\"-162\" rx=\"27\" ry=\"18\"/>\n</g>\n<!-- 139743367720784&#45;&gt;139743436443408 -->\n<g id=\"edge8\" class=\"edge\">\n<title>139743367720784&#45;&gt;139743436443408</title>\n<path fill=\"none\" stroke=\"#000000\" d=\"M537.809,-144.2022C535.4793,-136.2146 532.6763,-126.6045 530.0817,-117.7087\"/>\n<polygon fill=\"#000000\" stroke=\"#000000\" points=\"533.4372,-116.7131 527.2772,-108.0931 526.7172,-118.6731 533.4372,-116.7131\"/>\n</g>\n<!-- 139743436442704 -->\n<g id=\"node14\" class=\"node\">\n<title>139743436442704</title>\n<polygon fill=\"#add8e6\" stroke=\"#add8e6\" points=\"735,-108 681,-108 681,-72 735,-72 735,-108\"/>\n<text text-anchor=\"middle\" x=\"708\" y=\"-86.3\" font-family=\"Times,serif\" font-size=\"14.00\" fill=\"#000000\">Add</text>\n</g>\n<!-- 139743367558832 -->\n<g id=\"node17\" class=\"node\">\n<title>139743367558832</title>\n<ellipse fill=\"none\" stroke=\"#000000\" cx=\"708\" cy=\"-18\" rx=\"83.6854\" ry=\"18\"/>\n<text text-anchor=\"middle\" x=\"708\" y=\"-14.3\" font-family=\"Times,serif\" font-size=\"14.00\" fill=\"#000000\">139743367558832</text>\n</g>\n<!-- 139743436442704&#45;&gt;139743367558832 -->\n<g id=\"edge12\" class=\"edge\">\n<title>139743436442704&#45;&gt;139743367558832</title>\n<path fill=\"none\" stroke=\"#000000\" d=\"M708,-71.8314C708,-64.131 708,-54.9743 708,-46.4166\"/>\n<polygon fill=\"#000000\" stroke=\"#000000\" points=\"711.5001,-46.4132 708,-36.4133 704.5001,-46.4133 711.5001,-46.4132\"/>\n</g>\n<!-- 139743436442384 -->\n<g id=\"node15\" class=\"node\">\n<title>139743436442384</title>\n<ellipse fill=\"#ffa500\" stroke=\"#ffa500\" cx=\"657\" cy=\"-162\" rx=\"27\" ry=\"18\"/>\n</g>\n<!-- 139743436442384&#45;&gt;139743436442704 -->\n<g id=\"edge10\" class=\"edge\">\n<title>139743436442384&#45;&gt;139743436442704</title>\n<path fill=\"none\" stroke=\"#000000\" d=\"M668.5727,-145.6621C674.7099,-136.9978 682.3998,-126.1415 689.3547,-116.3227\"/>\n<polygon fill=\"#000000\" stroke=\"#000000\" points=\"692.2959,-118.2257 695.22,-108.0423 686.5837,-114.1795 692.2959,-118.2257\"/>\n</g>\n<!-- 139743436442448 -->\n<g id=\"node16\" class=\"node\">\n<title>139743436442448</title>\n<ellipse fill=\"#ffa500\" stroke=\"#ffa500\" cx=\"729\" cy=\"-162\" rx=\"27\" ry=\"18\"/>\n</g>\n<!-- 139743436442448&#45;&gt;139743436442704 -->\n<g id=\"edge11\" class=\"edge\">\n<title>139743436442448&#45;&gt;139743436442704</title>\n<path fill=\"none\" stroke=\"#000000\" d=\"M723.809,-144.2022C721.4793,-136.2146 718.6763,-126.6045 716.0817,-117.7087\"/>\n<polygon fill=\"#000000\" stroke=\"#000000\" points=\"719.4372,-116.7131 713.2772,-108.0931 712.7172,-118.6731 719.4372,-116.7131\"/>\n</g>\n<!-- 139743436442832 -->\n<g id=\"node18\" class=\"node\">\n<title>139743436442832</title>\n<polygon fill=\"#add8e6\" stroke=\"#add8e6\" points=\"921,-108 867,-108 867,-72 921,-72 921,-108\"/>\n<text text-anchor=\"middle\" x=\"894\" y=\"-86.3\" font-family=\"Times,serif\" font-size=\"14.00\" fill=\"#000000\">Mul</text>\n</g>\n<!-- 139743367430608 -->\n<g id=\"node21\" class=\"node\">\n<title>139743367430608</title>\n<ellipse fill=\"none\" stroke=\"#000000\" cx=\"894\" cy=\"-18\" rx=\"83.6854\" ry=\"18\"/>\n<text text-anchor=\"middle\" x=\"894\" y=\"-14.3\" font-family=\"Times,serif\" font-size=\"14.00\" fill=\"#000000\">139743367430608</text>\n</g>\n<!-- 139743436442832&#45;&gt;139743367430608 -->\n<g id=\"edge15\" class=\"edge\">\n<title>139743436442832&#45;&gt;139743367430608</title>\n<path fill=\"none\" stroke=\"#000000\" d=\"M894,-71.8314C894,-64.131 894,-54.9743 894,-46.4166\"/>\n<polygon fill=\"#000000\" stroke=\"#000000\" points=\"897.5001,-46.4132 894,-36.4133 890.5001,-46.4133 897.5001,-46.4132\"/>\n</g>\n<!-- 139743436443152 -->\n<g id=\"node19\" class=\"node\">\n<title>139743436443152</title>\n<ellipse fill=\"#ffa500\" stroke=\"#ffa500\" cx=\"858\" cy=\"-162\" rx=\"27\" ry=\"18\"/>\n</g>\n<!-- 139743436443152&#45;&gt;139743436442832 -->\n<g id=\"edge13\" class=\"edge\">\n<title>139743436443152&#45;&gt;139743436442832</title>\n<path fill=\"none\" stroke=\"#000000\" d=\"M866.7146,-144.5708C870.8228,-136.3544 875.8196,-126.3608 880.4089,-117.1821\"/>\n<polygon fill=\"#000000\" stroke=\"#000000\" points=\"883.648,-118.5301 884.9897,-108.0206 877.387,-115.3996 883.648,-118.5301\"/>\n</g>\n<!-- 139743436442192 -->\n<g id=\"node20\" class=\"node\">\n<title>139743436442192</title>\n<ellipse fill=\"#ffa500\" stroke=\"#ffa500\" cx=\"930\" cy=\"-162\" rx=\"27\" ry=\"18\"/>\n</g>\n<!-- 139743436442192&#45;&gt;139743436442832 -->\n<g id=\"edge14\" class=\"edge\">\n<title>139743436442192&#45;&gt;139743436442832</title>\n<path fill=\"none\" stroke=\"#000000\" d=\"M921.2854,-144.5708C917.1772,-136.3544 912.1804,-126.3608 907.5911,-117.1821\"/>\n<polygon fill=\"#000000\" stroke=\"#000000\" points=\"910.613,-115.3996 903.0103,-108.0206 904.352,-118.5301 910.613,-115.3996\"/>\n</g>\n<!-- 139743436441872 -->\n<g id=\"node22\" class=\"node\">\n<title>139743436441872</title>\n<polygon fill=\"#add8e6\" stroke=\"#add8e6\" points=\"1823,-108 1769,-108 1769,-72 1823,-72 1823,-108\"/>\n<text text-anchor=\"middle\" x=\"1796\" y=\"-86.3\" font-family=\"Times,serif\" font-size=\"14.00\" fill=\"#000000\">Pow</text>\n</g>\n<!-- 139743367430512 -->\n<g id=\"node24\" class=\"node\">\n<title>139743367430512</title>\n<ellipse fill=\"none\" stroke=\"#000000\" cx=\"1824\" cy=\"-18\" rx=\"83.6854\" ry=\"18\"/>\n<text text-anchor=\"middle\" x=\"1824\" y=\"-14.3\" font-family=\"Times,serif\" font-size=\"14.00\" fill=\"#000000\">139743367430512</text>\n</g>\n<!-- 139743436441872&#45;&gt;139743367430512 -->\n<g id=\"edge17\" class=\"edge\">\n<title>139743436441872&#45;&gt;139743367430512</title>\n<path fill=\"none\" stroke=\"#000000\" d=\"M1803.0656,-71.8314C1806.126,-63.9617 1809.7779,-54.5712 1813.1682,-45.8533\"/>\n<polygon fill=\"#000000\" stroke=\"#000000\" points=\"1816.4768,-47.0019 1816.8393,-36.4133 1809.9527,-44.4647 1816.4768,-47.0019\"/>\n</g>\n<!-- 139743367102288 -->\n<g id=\"node23\" class=\"node\">\n<title>139743367102288</title>\n<ellipse fill=\"#ffa500\" stroke=\"#ffa500\" cx=\"1768\" cy=\"-162\" rx=\"27\" ry=\"18\"/>\n<text text-anchor=\"middle\" x=\"1768\" y=\"-158.3\" font-family=\"Times,serif\" font-size=\"14.00\" fill=\"#000000\">y</text>\n</g>\n<!-- 139743367102288&#45;&gt;139743436441872 -->\n<g id=\"edge16\" class=\"edge\">\n<title>139743367102288&#45;&gt;139743436441872</title>\n<path fill=\"none\" stroke=\"#000000\" d=\"M1774.778,-144.5708C1777.9396,-136.4409 1781.7779,-126.571 1785.3164,-117.4722\"/>\n<polygon fill=\"#000000\" stroke=\"#000000\" points=\"1788.6295,-118.6092 1788.992,-108.0206 1782.1054,-116.0721 1788.6295,-118.6092\"/>\n</g>\n<!-- 139743436441360 -->\n<g id=\"node29\" class=\"node\">\n<title>139743436441360</title>\n<polygon fill=\"#add8e6\" stroke=\"#add8e6\" points=\"1207,-108 1153,-108 1153,-72 1207,-72 1207,-108\"/>\n<text text-anchor=\"middle\" x=\"1180\" y=\"-86.3\" font-family=\"Times,serif\" font-size=\"14.00\" fill=\"#000000\">Mul</text>\n</g>\n<!-- 139743367102288&#45;&gt;139743436441360 -->\n<g id=\"edge22\" class=\"edge\">\n<title>139743367102288&#45;&gt;139743436441360</title>\n<path fill=\"none\" stroke=\"#000000\" d=\"M1741.1363,-159.4831C1668.1518,-152.536 1460.1314,-132.0094 1288,-108 1264.3251,-104.6978 1237.8489,-100.2964 1217.0364,-96.6725\"/>\n<polygon fill=\"#000000\" stroke=\"#000000\" points=\"1217.4683,-93.1948 1207.0134,-94.9114 1216.2568,-100.0892 1217.4683,-93.1948\"/>\n</g>\n<!-- 139743436442576 -->\n<g id=\"node40\" class=\"node\">\n<title>139743436442576</title>\n<polygon fill=\"#add8e6\" stroke=\"#add8e6\" points=\"1351,-108 1297,-108 1297,-72 1351,-72 1351,-108\"/>\n<text text-anchor=\"middle\" x=\"1324\" y=\"-86.3\" font-family=\"Times,serif\" font-size=\"14.00\" fill=\"#000000\">Mul</text>\n</g>\n<!-- 139743367102288&#45;&gt;139743436442576 -->\n<g id=\"edge30\" class=\"edge\">\n<title>139743367102288&#45;&gt;139743436442576</title>\n<path fill=\"none\" stroke=\"#000000\" d=\"M1741.5554,-157.7117C1665.9397,-145.4497 1448.6486,-110.2133 1361.1579,-96.0256\"/>\n<polygon fill=\"#000000\" stroke=\"#000000\" points=\"1361.5813,-92.5486 1351.15,-94.4027 1360.4608,-99.4584 1361.5813,-92.5486\"/>\n</g>\n<!-- 139743373882960 -->\n<g id=\"node67\" class=\"node\">\n<title>139743373882960</title>\n<polygon fill=\"#add8e6\" stroke=\"#add8e6\" points=\"1508,-108 1454,-108 1454,-72 1508,-72 1508,-108\"/>\n<text text-anchor=\"middle\" x=\"1481\" y=\"-86.3\" font-family=\"Times,serif\" font-size=\"14.00\" fill=\"#000000\">Mul</text>\n</g>\n<!-- 139743367102288&#45;&gt;139743373882960 -->\n<g id=\"edge52\" class=\"edge\">\n<title>139743367102288&#45;&gt;139743373882960</title>\n<path fill=\"none\" stroke=\"#000000\" d=\"M1742.5307,-155.6105C1691.67,-142.851 1577.3392,-114.1687 1518.1235,-99.3132\"/>\n<polygon fill=\"#000000\" stroke=\"#000000\" points=\"1518.6301,-95.8319 1508.079,-96.7933 1516.9267,-102.6215 1518.6301,-95.8319\"/>\n</g>\n<!-- 139743367550224 -->\n<g id=\"node89\" class=\"node\">\n<title>139743367550224</title>\n<polygon fill=\"#add8e6\" stroke=\"#add8e6\" points=\"1694,-108 1640,-108 1640,-72 1694,-72 1694,-108\"/>\n<text text-anchor=\"middle\" x=\"1667\" y=\"-86.3\" font-family=\"Times,serif\" font-size=\"14.00\" fill=\"#000000\">Pow</text>\n</g>\n<!-- 139743367102288&#45;&gt;139743367550224 -->\n<g id=\"edge70\" class=\"edge\">\n<title>139743367102288&#45;&gt;139743367550224</title>\n<path fill=\"none\" stroke=\"#000000\" d=\"M1749.475,-148.7941C1735.7993,-139.045 1716.8089,-125.5073 1700.4977,-113.8795\"/>\n<polygon fill=\"#000000\" stroke=\"#000000\" points=\"1702.429,-110.958 1692.2545,-108.0032 1698.3656,-116.658 1702.429,-110.958\"/>\n</g>\n<!-- 139743367518224 -->\n<g id=\"node95\" class=\"node\">\n<title>139743367518224</title>\n<polygon fill=\"#add8e6\" stroke=\"#add8e6\" points=\"1924,-108 1870,-108 1870,-72 1924,-72 1924,-108\"/>\n<text text-anchor=\"middle\" x=\"1897\" y=\"-86.3\" font-family=\"Times,serif\" font-size=\"14.00\" fill=\"#000000\">Mul</text>\n</g>\n<!-- 139743367102288&#45;&gt;139743367518224 -->\n<g id=\"edge76\" class=\"edge\">\n<title>139743367102288&#45;&gt;139743367518224</title>\n<path fill=\"none\" stroke=\"#000000\" d=\"M1788.7261,-150.432C1808.0916,-139.6233 1837.4251,-123.2511 1860.6775,-110.273\"/>\n<polygon fill=\"#000000\" stroke=\"#000000\" points=\"1862.5521,-113.235 1869.5783,-105.3051 1859.1405,-107.1227 1862.5521,-113.235\"/>\n</g>\n<!-- 139743367517072 -->\n<g id=\"node105\" class=\"node\">\n<title>139743367517072</title>\n<polygon fill=\"#add8e6\" stroke=\"#add8e6\" points=\"2081,-108 2027,-108 2027,-72 2081,-72 2081,-108\"/>\n<text text-anchor=\"middle\" x=\"2054\" y=\"-86.3\" font-family=\"Times,serif\" font-size=\"14.00\" fill=\"#000000\">Mul</text>\n</g>\n<!-- 139743367102288&#45;&gt;139743367517072 -->\n<g id=\"edge84\" class=\"edge\">\n<title>139743367102288&#45;&gt;139743367517072</title>\n<path fill=\"none\" stroke=\"#000000\" d=\"M1793.3806,-155.6105C1843.9351,-142.8835 1957.4171,-114.3146 2016.5544,-99.4269\"/>\n<polygon fill=\"#000000\" stroke=\"#000000\" points=\"2017.7504,-102.7351 2026.5933,-96.8996 2016.0414,-95.9469 2017.7504,-102.7351\"/>\n</g>\n<!-- 139743367102416 -->\n<g id=\"node132\" class=\"node\">\n<title>139743367102416</title>\n<polygon fill=\"#add8e6\" stroke=\"#add8e6\" points=\"2409,-108 2355,-108 2355,-72 2409,-72 2409,-108\"/>\n<text text-anchor=\"middle\" x=\"2382\" y=\"-86.3\" font-family=\"Times,serif\" font-size=\"14.00\" fill=\"#000000\">Add</text>\n</g>\n<!-- 139743367102288&#45;&gt;139743367102416 -->\n<g id=\"edge107\" class=\"edge\">\n<title>139743367102288&#45;&gt;139743367102416</title>\n<path fill=\"none\" stroke=\"#000000\" d=\"M1793.9517,-156.3424C1812.5468,-152.4442 1838.2254,-147.3776 1861,-144 2041.4726,-117.2351 2259.0714,-99.2549 2344.7547,-92.7293\"/>\n<polygon fill=\"#000000\" stroke=\"#000000\" points=\"2345.0672,-96.2158 2354.7753,-91.9728 2344.5401,-89.2357 2345.0672,-96.2158\"/>\n</g>\n<!-- 139743436442960 -->\n<g id=\"node25\" class=\"node\">\n<title>139743436442960</title>\n<polygon fill=\"#add8e6\" stroke=\"#add8e6\" points=\"3897,-108 3843,-108 3843,-72 3897,-72 3897,-108\"/>\n<text text-anchor=\"middle\" x=\"3870\" y=\"-86.3\" font-family=\"Times,serif\" font-size=\"14.00\" fill=\"#000000\">Sub</text>\n</g>\n<!-- 139743367430416 -->\n<g id=\"node28\" class=\"node\">\n<title>139743367430416</title>\n<ellipse fill=\"none\" stroke=\"#000000\" cx=\"3870\" cy=\"-18\" rx=\"83.6854\" ry=\"18\"/>\n<text text-anchor=\"middle\" x=\"3870\" y=\"-14.3\" font-family=\"Times,serif\" font-size=\"14.00\" fill=\"#000000\">139743367430416</text>\n</g>\n<!-- 139743436442960&#45;&gt;139743367430416 -->\n<g id=\"edge20\" class=\"edge\">\n<title>139743436442960&#45;&gt;139743367430416</title>\n<path fill=\"none\" stroke=\"#000000\" d=\"M3870,-71.8314C3870,-64.131 3870,-54.9743 3870,-46.4166\"/>\n<polygon fill=\"#000000\" stroke=\"#000000\" points=\"3873.5001,-46.4132 3870,-36.4133 3866.5001,-46.4133 3873.5001,-46.4132\"/>\n</g>\n<!-- 139743436442256 -->\n<g id=\"node26\" class=\"node\">\n<title>139743436442256</title>\n<ellipse fill=\"#ffa500\" stroke=\"#ffa500\" cx=\"3848\" cy=\"-162\" rx=\"27\" ry=\"18\"/>\n</g>\n<!-- 139743436442256&#45;&gt;139743436442960 -->\n<g id=\"edge18\" class=\"edge\">\n<title>139743436442256&#45;&gt;139743436442960</title>\n<path fill=\"none\" stroke=\"#000000\" d=\"M3853.4382,-144.2022C3855.8789,-136.2146 3858.8153,-126.6045 3861.5335,-117.7087\"/>\n<polygon fill=\"#000000\" stroke=\"#000000\" points=\"3864.8965,-118.6794 3864.4715,-108.0931 3858.2021,-116.6339 3864.8965,-118.6794\"/>\n</g>\n<!-- 139743436442640 -->\n<g id=\"node27\" class=\"node\">\n<title>139743436442640</title>\n<ellipse fill=\"#ffa500\" stroke=\"#ffa500\" cx=\"3920\" cy=\"-162\" rx=\"27\" ry=\"18\"/>\n</g>\n<!-- 139743436442640&#45;&gt;139743436442960 -->\n<g id=\"edge19\" class=\"edge\">\n<title>139743436442640&#45;&gt;139743436442960</title>\n<path fill=\"none\" stroke=\"#000000\" d=\"M3908.6542,-145.6621C3902.6373,-136.9978 3895.0983,-126.1415 3888.2797,-116.3227\"/>\n<polygon fill=\"#000000\" stroke=\"#000000\" points=\"3891.1082,-114.2597 3882.5294,-108.0423 3885.3586,-118.2525 3891.1082,-114.2597\"/>\n</g>\n<!-- 139743367432816 -->\n<g id=\"node31\" class=\"node\">\n<title>139743367432816</title>\n<ellipse fill=\"none\" stroke=\"#000000\" cx=\"1080\" cy=\"-18\" rx=\"83.6854\" ry=\"18\"/>\n<text text-anchor=\"middle\" x=\"1080\" y=\"-14.3\" font-family=\"Times,serif\" font-size=\"14.00\" fill=\"#000000\">139743367432816</text>\n</g>\n<!-- 139743436441360&#45;&gt;139743367432816 -->\n<g id=\"edge23\" class=\"edge\">\n<title>139743436441360&#45;&gt;139743367432816</title>\n<path fill=\"none\" stroke=\"#000000\" d=\"M1154.7658,-71.8314C1141.9245,-62.5857 1126.1676,-51.2407 1112.4356,-41.3536\"/>\n<polygon fill=\"#000000\" stroke=\"#000000\" points=\"1114.3517,-38.4204 1104.1913,-35.4177 1110.2615,-44.1012 1114.3517,-38.4204\"/>\n</g>\n<!-- 139743436441680 -->\n<g id=\"node30\" class=\"node\">\n<title>139743436441680</title>\n<ellipse fill=\"#ffa500\" stroke=\"#ffa500\" cx=\"1180\" cy=\"-162\" rx=\"27\" ry=\"18\"/>\n</g>\n<!-- 139743436441680&#45;&gt;139743436441360 -->\n<g id=\"edge21\" class=\"edge\">\n<title>139743436441680&#45;&gt;139743436441360</title>\n<path fill=\"none\" stroke=\"#000000\" d=\"M1180,-143.8314C1180,-136.131 1180,-126.9743 1180,-118.4166\"/>\n<polygon fill=\"#000000\" stroke=\"#000000\" points=\"1183.5001,-118.4132 1180,-108.4133 1176.5001,-118.4133 1183.5001,-118.4132\"/>\n</g>\n<!-- 139743436441488 -->\n<g id=\"node32\" class=\"node\">\n<title>139743436441488</title>\n<polygon fill=\"#add8e6\" stroke=\"#add8e6\" points=\"2704,-108 2650,-108 2650,-72 2704,-72 2704,-108\"/>\n<text text-anchor=\"middle\" x=\"2677\" y=\"-86.3\" font-family=\"Times,serif\" font-size=\"14.00\" fill=\"#000000\">Mul</text>\n</g>\n<!-- 139743367432528 -->\n<g id=\"node35\" class=\"node\">\n<title>139743367432528</title>\n<ellipse fill=\"none\" stroke=\"#000000\" cx=\"2568\" cy=\"-18\" rx=\"83.6854\" ry=\"18\"/>\n<text text-anchor=\"middle\" x=\"2568\" y=\"-14.3\" font-family=\"Times,serif\" font-size=\"14.00\" fill=\"#000000\">139743367432528</text>\n</g>\n<!-- 139743436441488&#45;&gt;139743367432528 -->\n<g id=\"edge26\" class=\"edge\">\n<title>139743436441488&#45;&gt;139743367432528</title>\n<path fill=\"none\" stroke=\"#000000\" d=\"M2649.7759,-72.0171C2635.5438,-62.6161 2617.9681,-51.0065 2602.7624,-40.9623\"/>\n<polygon fill=\"#000000\" stroke=\"#000000\" points=\"2604.3997,-37.8492 2594.1266,-35.258 2600.5415,-43.69 2604.3997,-37.8492\"/>\n</g>\n<!-- 139743367102096 -->\n<g id=\"node33\" class=\"node\">\n<title>139743367102096</title>\n<ellipse fill=\"#ffa500\" stroke=\"#ffa500\" cx=\"2987\" cy=\"-162\" rx=\"27\" ry=\"18\"/>\n<text text-anchor=\"middle\" x=\"2987\" y=\"-158.3\" font-family=\"Times,serif\" font-size=\"14.00\" fill=\"#000000\">x</text>\n</g>\n<!-- 139743367102096&#45;&gt;139743436441488 -->\n<g id=\"edge24\" class=\"edge\">\n<title>139743367102096&#45;&gt;139743436441488</title>\n<path fill=\"none\" stroke=\"#000000\" d=\"M2961.3677,-156.0467C2906.6773,-143.3444 2778.3418,-113.5374 2714.4723,-98.7032\"/>\n<polygon fill=\"#000000\" stroke=\"#000000\" points=\"2714.9612,-95.2237 2704.4286,-96.3705 2713.3775,-102.0422 2714.9612,-95.2237\"/>\n</g>\n<!-- 139743460507024 -->\n<g id=\"node51\" class=\"node\">\n<title>139743460507024</title>\n<polygon fill=\"#add8e6\" stroke=\"#add8e6\" points=\"3107,-108 3053,-108 3053,-72 3107,-72 3107,-108\"/>\n<text text-anchor=\"middle\" x=\"3080\" y=\"-86.3\" font-family=\"Times,serif\" font-size=\"14.00\" fill=\"#000000\">Pow</text>\n</g>\n<!-- 139743367102096&#45;&gt;139743460507024 -->\n<g id=\"edge39\" class=\"edge\">\n<title>139743367102096&#45;&gt;139743460507024</title>\n<path fill=\"none\" stroke=\"#000000\" d=\"M3004.9313,-148.1177C3017.1975,-138.6213 3033.794,-125.7724 3048.2628,-114.5707\"/>\n<polygon fill=\"#000000\" stroke=\"#000000\" points=\"3050.7225,-117.0928 3056.4871,-108.2035 3046.4372,-111.5578 3050.7225,-117.0928\"/>\n</g>\n<!-- 139743460505168 -->\n<g id=\"node57\" class=\"node\">\n<title>139743460505168</title>\n<polygon fill=\"#add8e6\" stroke=\"#add8e6\" points=\"2861,-108 2807,-108 2807,-72 2861,-72 2861,-108\"/>\n<text text-anchor=\"middle\" x=\"2834\" y=\"-86.3\" font-family=\"Times,serif\" font-size=\"14.00\" fill=\"#000000\">Mul</text>\n</g>\n<!-- 139743367102096&#45;&gt;139743460505168 -->\n<g id=\"edge44\" class=\"edge\">\n<title>139743367102096&#45;&gt;139743460505168</title>\n<path fill=\"none\" stroke=\"#000000\" d=\"M2964.7525,-151.5306C2939.9985,-139.8816 2899.6301,-120.8848 2870.2885,-107.0769\"/>\n<polygon fill=\"#000000\" stroke=\"#000000\" points=\"2871.7217,-103.8833 2861.1832,-102.7921 2868.7411,-110.217 2871.7217,-103.8833\"/>\n</g>\n<!-- 139743368149648 -->\n<g id=\"node70\" class=\"node\">\n<title>139743368149648</title>\n<polygon fill=\"#add8e6\" stroke=\"#add8e6\" points=\"3259,-108 3205,-108 3205,-72 3259,-72 3259,-108\"/>\n<text text-anchor=\"middle\" x=\"3232\" y=\"-86.3\" font-family=\"Times,serif\" font-size=\"14.00\" fill=\"#000000\">Mul</text>\n</g>\n<!-- 139743367102096&#45;&gt;139743368149648 -->\n<g id=\"edge55\" class=\"edge\">\n<title>139743367102096&#45;&gt;139743368149648</title>\n<path fill=\"none\" stroke=\"#000000\" d=\"M3011.8402,-154.7C3055.0886,-141.9903 3144.4221,-115.7372 3194.9911,-100.8761\"/>\n<polygon fill=\"#000000\" stroke=\"#000000\" points=\"3196.2556,-104.1526 3204.863,-97.9749 3194.2819,-97.4366 3196.2556,-104.1526\"/>\n</g>\n<!-- 139743367518480 -->\n<g id=\"node98\" class=\"node\">\n<title>139743367518480</title>\n<polygon fill=\"#add8e6\" stroke=\"#add8e6\" points=\"3428,-108 3374,-108 3374,-72 3428,-72 3428,-108\"/>\n<text text-anchor=\"middle\" x=\"3401\" y=\"-86.3\" font-family=\"Times,serif\" font-size=\"14.00\" fill=\"#000000\">Mul</text>\n</g>\n<!-- 139743367102096&#45;&gt;139743367518480 -->\n<g id=\"edge78\" class=\"edge\">\n<title>139743367102096&#45;&gt;139743367518480</title>\n<path fill=\"none\" stroke=\"#000000\" d=\"M3013.2116,-157.4415C3084.3766,-145.0649 3281.3742,-110.8045 3363.8888,-96.4541\"/>\n<polygon fill=\"#000000\" stroke=\"#000000\" points=\"3364.5767,-99.8871 3373.8291,-94.7254 3363.3773,-92.9906 3364.5767,-99.8871\"/>\n</g>\n<!-- 139743367127632 -->\n<g id=\"node116\" class=\"node\">\n<title>139743367127632</title>\n<polygon fill=\"#add8e6\" stroke=\"#add8e6\" points=\"2990,-108 2936,-108 2936,-72 2990,-72 2990,-108\"/>\n<text text-anchor=\"middle\" x=\"2963\" y=\"-86.3\" font-family=\"Times,serif\" font-size=\"14.00\" fill=\"#000000\">Pow</text>\n</g>\n<!-- 139743367102096&#45;&gt;139743367127632 -->\n<g id=\"edge93\" class=\"edge\">\n<title>139743367102096&#45;&gt;139743367127632</title>\n<path fill=\"none\" stroke=\"#000000\" d=\"M2981.0674,-144.2022C2978.4049,-136.2146 2975.2015,-126.6045 2972.2362,-117.7087\"/>\n<polygon fill=\"#000000\" stroke=\"#000000\" points=\"2975.5138,-116.4731 2969.031,-108.0931 2968.873,-118.6868 2975.5138,-116.4731\"/>\n</g>\n<!-- 139743367127312 -->\n<g id=\"node122\" class=\"node\">\n<title>139743367127312</title>\n<polygon fill=\"#add8e6\" stroke=\"#add8e6\" points=\"3557,-108 3503,-108 3503,-72 3557,-72 3557,-108\"/>\n<text text-anchor=\"middle\" x=\"3530\" y=\"-86.3\" font-family=\"Times,serif\" font-size=\"14.00\" fill=\"#000000\">Mul</text>\n</g>\n<!-- 139743367102096&#45;&gt;139743367127312 -->\n<g id=\"edge98\" class=\"edge\">\n<title>139743367102096&#45;&gt;139743367127312</title>\n<path fill=\"none\" stroke=\"#000000\" d=\"M3013.9751,-159.445C3084.0005,-152.6647 3277.2475,-133.0121 3437,-108 3455.4333,-105.1139 3475.7939,-101.2507 3492.7531,-97.8431\"/>\n<polygon fill=\"#000000\" stroke=\"#000000\" points=\"3493.7244,-101.2173 3502.8255,-95.7932 3492.3283,-94.3579 3493.7244,-101.2173\"/>\n</g>\n<!-- 139743367102096&#45;&gt;139743367102416 -->\n<g id=\"edge106\" class=\"edge\">\n<title>139743367102096&#45;&gt;139743367102416</title>\n<path fill=\"none\" stroke=\"#000000\" d=\"M2960.5594,-157.6044C2936.8758,-153.7454 2901.1726,-148.1207 2870,-144 2702.1882,-121.8169 2501.077,-101.5556 2419.3074,-93.5829\"/>\n<polygon fill=\"#000000\" stroke=\"#000000\" points=\"2419.3206,-90.0678 2409.029,-92.5843 2418.6437,-97.035 2419.3206,-90.0678\"/>\n</g>\n<!-- 139743436442320 -->\n<g id=\"node34\" class=\"node\">\n<title>139743436442320</title>\n<ellipse fill=\"#ffa500\" stroke=\"#ffa500\" cx=\"2677\" cy=\"-162\" rx=\"27\" ry=\"18\"/>\n</g>\n<!-- 139743436442320&#45;&gt;139743436441488 -->\n<g id=\"edge25\" class=\"edge\">\n<title>139743436442320&#45;&gt;139743436441488</title>\n<path fill=\"none\" stroke=\"#000000\" d=\"M2677,-143.8314C2677,-136.131 2677,-126.9743 2677,-118.4166\"/>\n<polygon fill=\"#000000\" stroke=\"#000000\" points=\"2680.5001,-118.4132 2677,-108.4133 2673.5001,-118.4133 2680.5001,-118.4132\"/>\n</g>\n<!-- 139743436443344 -->\n<g id=\"node36\" class=\"node\">\n<title>139743436443344</title>\n<polygon fill=\"#add8e6\" stroke=\"#add8e6\" points=\"4098,-108 4044,-108 4044,-72 4098,-72 4098,-108\"/>\n<text text-anchor=\"middle\" x=\"4071\" y=\"-86.3\" font-family=\"Times,serif\" font-size=\"14.00\" fill=\"#000000\">Add</text>\n</g>\n<!-- 139743367432720 -->\n<g id=\"node39\" class=\"node\">\n<title>139743367432720</title>\n<ellipse fill=\"none\" stroke=\"#000000\" cx=\"4071\" cy=\"-18\" rx=\"83.6854\" ry=\"18\"/>\n<text text-anchor=\"middle\" x=\"4071\" y=\"-14.3\" font-family=\"Times,serif\" font-size=\"14.00\" fill=\"#000000\">139743367432720</text>\n</g>\n<!-- 139743436443344&#45;&gt;139743367432720 -->\n<g id=\"edge29\" class=\"edge\">\n<title>139743436443344&#45;&gt;139743367432720</title>\n<path fill=\"none\" stroke=\"#000000\" d=\"M4071,-71.8314C4071,-64.131 4071,-54.9743 4071,-46.4166\"/>\n<polygon fill=\"#000000\" stroke=\"#000000\" points=\"4074.5001,-46.4132 4071,-36.4133 4067.5001,-46.4133 4074.5001,-46.4132\"/>\n</g>\n<!-- 139743436443536 -->\n<g id=\"node37\" class=\"node\">\n<title>139743436443536</title>\n<ellipse fill=\"#ffa500\" stroke=\"#ffa500\" cx=\"4020\" cy=\"-162\" rx=\"27\" ry=\"18\"/>\n</g>\n<!-- 139743436443536&#45;&gt;139743436443344 -->\n<g id=\"edge27\" class=\"edge\">\n<title>139743436443536&#45;&gt;139743436443344</title>\n<path fill=\"none\" stroke=\"#000000\" d=\"M4031.5727,-145.6621C4037.7099,-136.9978 4045.3998,-126.1415 4052.3547,-116.3227\"/>\n<polygon fill=\"#000000\" stroke=\"#000000\" points=\"4055.2959,-118.2257 4058.22,-108.0423 4049.5837,-114.1795 4055.2959,-118.2257\"/>\n</g>\n<!-- 139743436443280 -->\n<g id=\"node38\" class=\"node\">\n<title>139743436443280</title>\n<ellipse fill=\"#ffa500\" stroke=\"#ffa500\" cx=\"4092\" cy=\"-162\" rx=\"27\" ry=\"18\"/>\n</g>\n<!-- 139743436443280&#45;&gt;139743436443344 -->\n<g id=\"edge28\" class=\"edge\">\n<title>139743436443280&#45;&gt;139743436443344</title>\n<path fill=\"none\" stroke=\"#000000\" d=\"M4086.809,-144.2022C4084.4793,-136.2146 4081.6763,-126.6045 4079.0817,-117.7087\"/>\n<polygon fill=\"#000000\" stroke=\"#000000\" points=\"4082.4372,-116.7131 4076.2772,-108.0931 4075.7172,-118.6731 4082.4372,-116.7131\"/>\n</g>\n<!-- 139743367432624 -->\n<g id=\"node42\" class=\"node\">\n<title>139743367432624</title>\n<ellipse fill=\"none\" stroke=\"#000000\" cx=\"1266\" cy=\"-18\" rx=\"83.6854\" ry=\"18\"/>\n<text text-anchor=\"middle\" x=\"1266\" y=\"-14.3\" font-family=\"Times,serif\" font-size=\"14.00\" fill=\"#000000\">139743367432624</text>\n</g>\n<!-- 139743436442576&#45;&gt;139743367432624 -->\n<g id=\"edge32\" class=\"edge\">\n<title>139743436442576&#45;&gt;139743367432624</title>\n<path fill=\"none\" stroke=\"#000000\" d=\"M1309.3642,-71.8314C1302.5119,-63.3251 1294.2282,-53.0419 1286.7447,-43.752\"/>\n<polygon fill=\"#000000\" stroke=\"#000000\" points=\"1289.4292,-41.5053 1280.4302,-35.9134 1283.9779,-45.8966 1289.4292,-41.5053\"/>\n</g>\n<!-- 139743436443216 -->\n<g id=\"node41\" class=\"node\">\n<title>139743436443216</title>\n<ellipse fill=\"#ffa500\" stroke=\"#ffa500\" cx=\"1324\" cy=\"-162\" rx=\"27\" ry=\"18\"/>\n</g>\n<!-- 139743436443216&#45;&gt;139743436442576 -->\n<g id=\"edge31\" class=\"edge\">\n<title>139743436443216&#45;&gt;139743436442576</title>\n<path fill=\"none\" stroke=\"#000000\" d=\"M1324,-143.8314C1324,-136.131 1324,-126.9743 1324,-118.4166\"/>\n<polygon fill=\"#000000\" stroke=\"#000000\" points=\"1327.5001,-118.4132 1324,-108.4133 1320.5001,-118.4133 1327.5001,-118.4132\"/>\n</g>\n<!-- 139743436442512 -->\n<g id=\"node43\" class=\"node\">\n<title>139743436442512</title>\n<polygon fill=\"#add8e6\" stroke=\"#add8e6\" points=\"4284,-108 4230,-108 4230,-72 4284,-72 4284,-108\"/>\n<text text-anchor=\"middle\" x=\"4257\" y=\"-86.3\" font-family=\"Times,serif\" font-size=\"14.00\" fill=\"#000000\">Add</text>\n</g>\n<!-- 139743367432912 -->\n<g id=\"node46\" class=\"node\">\n<title>139743367432912</title>\n<ellipse fill=\"none\" stroke=\"#000000\" cx=\"4257\" cy=\"-18\" rx=\"83.6854\" ry=\"18\"/>\n<text text-anchor=\"middle\" x=\"4257\" y=\"-14.3\" font-family=\"Times,serif\" font-size=\"14.00\" fill=\"#000000\">139743367432912</text>\n</g>\n<!-- 139743436442512&#45;&gt;139743367432912 -->\n<g id=\"edge35\" class=\"edge\">\n<title>139743436442512&#45;&gt;139743367432912</title>\n<path fill=\"none\" stroke=\"#000000\" d=\"M4257,-71.8314C4257,-64.131 4257,-54.9743 4257,-46.4166\"/>\n<polygon fill=\"#000000\" stroke=\"#000000\" points=\"4260.5001,-46.4132 4257,-36.4133 4253.5001,-46.4133 4260.5001,-46.4132\"/>\n</g>\n<!-- 139743436488528 -->\n<g id=\"node44\" class=\"node\">\n<title>139743436488528</title>\n<ellipse fill=\"#ffa500\" stroke=\"#ffa500\" cx=\"4236\" cy=\"-162\" rx=\"27\" ry=\"18\"/>\n</g>\n<!-- 139743436488528&#45;&gt;139743436442512 -->\n<g id=\"edge33\" class=\"edge\">\n<title>139743436488528&#45;&gt;139743436442512</title>\n<path fill=\"none\" stroke=\"#000000\" d=\"M4241.191,-144.2022C4243.5207,-136.2146 4246.3237,-126.6045 4248.9183,-117.7087\"/>\n<polygon fill=\"#000000\" stroke=\"#000000\" points=\"4252.2828,-118.6731 4251.7228,-108.0931 4245.5628,-116.7131 4252.2828,-118.6731\"/>\n</g>\n<!-- 139743436443472 -->\n<g id=\"node45\" class=\"node\">\n<title>139743436443472</title>\n<ellipse fill=\"#ffa500\" stroke=\"#ffa500\" cx=\"4308\" cy=\"-162\" rx=\"27\" ry=\"18\"/>\n</g>\n<!-- 139743436443472&#45;&gt;139743436442512 -->\n<g id=\"edge34\" class=\"edge\">\n<title>139743436443472&#45;&gt;139743436442512</title>\n<path fill=\"none\" stroke=\"#000000\" d=\"M4296.4273,-145.6621C4290.2901,-136.9978 4282.6002,-126.1415 4275.6453,-116.3227\"/>\n<polygon fill=\"#000000\" stroke=\"#000000\" points=\"4278.4163,-114.1795 4269.78,-108.0423 4272.7041,-118.2257 4278.4163,-114.1795\"/>\n</g>\n<!-- 139743436487184 -->\n<g id=\"node47\" class=\"node\">\n<title>139743436487184</title>\n<polygon fill=\"#add8e6\" stroke=\"#add8e6\" points=\"4485,-108 4431,-108 4431,-72 4485,-72 4485,-108\"/>\n<text text-anchor=\"middle\" x=\"4458\" y=\"-86.3\" font-family=\"Times,serif\" font-size=\"14.00\" fill=\"#000000\">Mul</text>\n</g>\n<!-- 139743367433008 -->\n<g id=\"node50\" class=\"node\">\n<title>139743367433008</title>\n<ellipse fill=\"none\" stroke=\"#000000\" cx=\"4458\" cy=\"-18\" rx=\"83.6854\" ry=\"18\"/>\n<text text-anchor=\"middle\" x=\"4458\" y=\"-14.3\" font-family=\"Times,serif\" font-size=\"14.00\" fill=\"#000000\">139743367433008</text>\n</g>\n<!-- 139743436487184&#45;&gt;139743367433008 -->\n<g id=\"edge38\" class=\"edge\">\n<title>139743436487184&#45;&gt;139743367433008</title>\n<path fill=\"none\" stroke=\"#000000\" d=\"M4458,-71.8314C4458,-64.131 4458,-54.9743 4458,-46.4166\"/>\n<polygon fill=\"#000000\" stroke=\"#000000\" points=\"4461.5001,-46.4132 4458,-36.4133 4454.5001,-46.4133 4461.5001,-46.4132\"/>\n</g>\n<!-- 139743436442000 -->\n<g id=\"node48\" class=\"node\">\n<title>139743436442000</title>\n<ellipse fill=\"#ffa500\" stroke=\"#ffa500\" cx=\"4408\" cy=\"-162\" rx=\"27\" ry=\"18\"/>\n</g>\n<!-- 139743436442000&#45;&gt;139743436487184 -->\n<g id=\"edge36\" class=\"edge\">\n<title>139743436442000&#45;&gt;139743436487184</title>\n<path fill=\"none\" stroke=\"#000000\" d=\"M4419.3458,-145.6621C4425.3627,-136.9978 4432.9017,-126.1415 4439.7203,-116.3227\"/>\n<polygon fill=\"#000000\" stroke=\"#000000\" points=\"4442.6414,-118.2525 4445.4706,-108.0423 4436.8918,-114.2597 4442.6414,-118.2525\"/>\n</g>\n<!-- 139743436441936 -->\n<g id=\"node49\" class=\"node\">\n<title>139743436441936</title>\n<ellipse fill=\"#ffa500\" stroke=\"#ffa500\" cx=\"4480\" cy=\"-162\" rx=\"27\" ry=\"18\"/>\n</g>\n<!-- 139743436441936&#45;&gt;139743436487184 -->\n<g id=\"edge37\" class=\"edge\">\n<title>139743436441936&#45;&gt;139743436487184</title>\n<path fill=\"none\" stroke=\"#000000\" d=\"M4474.5618,-144.2022C4472.1211,-136.2146 4469.1847,-126.6045 4466.4665,-117.7087\"/>\n<polygon fill=\"#000000\" stroke=\"#000000\" points=\"4469.7979,-116.6339 4463.5285,-108.0931 4463.1035,-118.6794 4469.7979,-116.6339\"/>\n</g>\n<!-- 139743367433392 -->\n<g id=\"node52\" class=\"node\">\n<title>139743367433392</title>\n<ellipse fill=\"none\" stroke=\"#000000\" cx=\"3126\" cy=\"-18\" rx=\"83.6854\" ry=\"18\"/>\n<text text-anchor=\"middle\" x=\"3126\" y=\"-14.3\" font-family=\"Times,serif\" font-size=\"14.00\" fill=\"#000000\">139743367433392</text>\n</g>\n<!-- 139743460507024&#45;&gt;139743367433392 -->\n<g id=\"edge40\" class=\"edge\">\n<title>139743460507024&#45;&gt;139743367433392</title>\n<path fill=\"none\" stroke=\"#000000\" d=\"M3091.6077,-71.8314C3096.8776,-63.5829 3103.215,-53.6635 3109.0061,-44.5992\"/>\n<polygon fill=\"#000000\" stroke=\"#000000\" points=\"3112.1208,-46.2248 3114.5553,-35.9134 3106.2219,-42.456 3112.1208,-46.2248\"/>\n</g>\n<!-- 139743460505552 -->\n<g id=\"node53\" class=\"node\">\n<title>139743460505552</title>\n<polygon fill=\"#add8e6\" stroke=\"#add8e6\" points=\"4671,-108 4617,-108 4617,-72 4671,-72 4671,-108\"/>\n<text text-anchor=\"middle\" x=\"4644\" y=\"-86.3\" font-family=\"Times,serif\" font-size=\"14.00\" fill=\"#000000\">Sub</text>\n</g>\n<!-- 139743367433104 -->\n<g id=\"node56\" class=\"node\">\n<title>139743367433104</title>\n<ellipse fill=\"none\" stroke=\"#000000\" cx=\"4644\" cy=\"-18\" rx=\"83.6854\" ry=\"18\"/>\n<text text-anchor=\"middle\" x=\"4644\" y=\"-14.3\" font-family=\"Times,serif\" font-size=\"14.00\" fill=\"#000000\">139743367433104</text>\n</g>\n<!-- 139743460505552&#45;&gt;139743367433104 -->\n<g id=\"edge43\" class=\"edge\">\n<title>139743460505552&#45;&gt;139743367433104</title>\n<path fill=\"none\" stroke=\"#000000\" d=\"M4644,-71.8314C4644,-64.131 4644,-54.9743 4644,-46.4166\"/>\n<polygon fill=\"#000000\" stroke=\"#000000\" points=\"4647.5001,-46.4132 4644,-36.4133 4640.5001,-46.4133 4647.5001,-46.4132\"/>\n</g>\n<!-- 139743460504080 -->\n<g id=\"node54\" class=\"node\">\n<title>139743460504080</title>\n<ellipse fill=\"#ffa500\" stroke=\"#ffa500\" cx=\"4608\" cy=\"-162\" rx=\"27\" ry=\"18\"/>\n</g>\n<!-- 139743460504080&#45;&gt;139743460505552 -->\n<g id=\"edge41\" class=\"edge\">\n<title>139743460504080&#45;&gt;139743460505552</title>\n<path fill=\"none\" stroke=\"#000000\" d=\"M4616.7146,-144.5708C4620.8228,-136.3544 4625.8196,-126.3608 4630.4089,-117.1821\"/>\n<polygon fill=\"#000000\" stroke=\"#000000\" points=\"4633.648,-118.5301 4634.9897,-108.0206 4627.387,-115.3996 4633.648,-118.5301\"/>\n</g>\n<!-- 139743460503760 -->\n<g id=\"node55\" class=\"node\">\n<title>139743460503760</title>\n<ellipse fill=\"#ffa500\" stroke=\"#ffa500\" cx=\"4680\" cy=\"-162\" rx=\"27\" ry=\"18\"/>\n</g>\n<!-- 139743460503760&#45;&gt;139743460505552 -->\n<g id=\"edge42\" class=\"edge\">\n<title>139743460503760&#45;&gt;139743460505552</title>\n<path fill=\"none\" stroke=\"#000000\" d=\"M4671.2854,-144.5708C4667.1772,-136.3544 4662.1804,-126.3608 4657.5911,-117.1821\"/>\n<polygon fill=\"#000000\" stroke=\"#000000\" points=\"4660.613,-115.3996 4653.0103,-108.0206 4654.352,-118.5301 4660.613,-115.3996\"/>\n</g>\n<!-- 139743367433296 -->\n<g id=\"node59\" class=\"node\">\n<title>139743367433296</title>\n<ellipse fill=\"none\" stroke=\"#000000\" cx=\"2754\" cy=\"-18\" rx=\"83.6854\" ry=\"18\"/>\n<text text-anchor=\"middle\" x=\"2754\" y=\"-14.3\" font-family=\"Times,serif\" font-size=\"14.00\" fill=\"#000000\">139743367433296</text>\n</g>\n<!-- 139743460505168&#45;&gt;139743367433296 -->\n<g id=\"edge46\" class=\"edge\">\n<title>139743460505168&#45;&gt;139743367433296</title>\n<path fill=\"none\" stroke=\"#000000\" d=\"M2813.8126,-71.8314C2803.9049,-62.9144 2791.8275,-52.0447 2781.1261,-42.4135\"/>\n<polygon fill=\"#000000\" stroke=\"#000000\" points=\"2783.4022,-39.7532 2773.6278,-35.665 2778.7194,-44.9563 2783.4022,-39.7532\"/>\n</g>\n<!-- 139743460504848 -->\n<g id=\"node58\" class=\"node\">\n<title>139743460504848</title>\n<ellipse fill=\"#ffa500\" stroke=\"#ffa500\" cx=\"2834\" cy=\"-162\" rx=\"27\" ry=\"18\"/>\n</g>\n<!-- 139743460504848&#45;&gt;139743460505168 -->\n<g id=\"edge45\" class=\"edge\">\n<title>139743460504848&#45;&gt;139743460505168</title>\n<path fill=\"none\" stroke=\"#000000\" d=\"M2834,-143.8314C2834,-136.131 2834,-126.9743 2834,-118.4166\"/>\n<polygon fill=\"#000000\" stroke=\"#000000\" points=\"2837.5001,-118.4132 2834,-108.4133 2830.5001,-118.4133 2837.5001,-118.4132\"/>\n</g>\n<!-- 139743460503824 -->\n<g id=\"node60\" class=\"node\">\n<title>139743460503824</title>\n<polygon fill=\"#add8e6\" stroke=\"#add8e6\" points=\"4857,-108 4803,-108 4803,-72 4857,-72 4857,-108\"/>\n<text text-anchor=\"middle\" x=\"4830\" y=\"-86.3\" font-family=\"Times,serif\" font-size=\"14.00\" fill=\"#000000\">Pow</text>\n</g>\n<!-- 139743367433584 -->\n<g id=\"node62\" class=\"node\">\n<title>139743367433584</title>\n<ellipse fill=\"none\" stroke=\"#000000\" cx=\"4830\" cy=\"-18\" rx=\"83.6854\" ry=\"18\"/>\n<text text-anchor=\"middle\" x=\"4830\" y=\"-14.3\" font-family=\"Times,serif\" font-size=\"14.00\" fill=\"#000000\">139743367433584</text>\n</g>\n<!-- 139743460503824&#45;&gt;139743367433584 -->\n<g id=\"edge48\" class=\"edge\">\n<title>139743460503824&#45;&gt;139743367433584</title>\n<path fill=\"none\" stroke=\"#000000\" d=\"M4830,-71.8314C4830,-64.131 4830,-54.9743 4830,-46.4166\"/>\n<polygon fill=\"#000000\" stroke=\"#000000\" points=\"4833.5001,-46.4132 4830,-36.4133 4826.5001,-46.4133 4833.5001,-46.4132\"/>\n</g>\n<!-- 139743460505232 -->\n<g id=\"node61\" class=\"node\">\n<title>139743460505232</title>\n<ellipse fill=\"#ffa500\" stroke=\"#ffa500\" cx=\"4830\" cy=\"-162\" rx=\"27\" ry=\"18\"/>\n</g>\n<!-- 139743460505232&#45;&gt;139743460503824 -->\n<g id=\"edge47\" class=\"edge\">\n<title>139743460505232&#45;&gt;139743460503824</title>\n<path fill=\"none\" stroke=\"#000000\" d=\"M4830,-143.8314C4830,-136.131 4830,-126.9743 4830,-118.4166\"/>\n<polygon fill=\"#000000\" stroke=\"#000000\" points=\"4833.5001,-118.4132 4830,-108.4133 4826.5001,-118.4133 4833.5001,-118.4132\"/>\n</g>\n<!-- 139743461439056 -->\n<g id=\"node63\" class=\"node\">\n<title>139743461439056</title>\n<polygon fill=\"#add8e6\" stroke=\"#add8e6\" points=\"5043,-108 4989,-108 4989,-72 5043,-72 5043,-108\"/>\n<text text-anchor=\"middle\" x=\"5016\" y=\"-86.3\" font-family=\"Times,serif\" font-size=\"14.00\" fill=\"#000000\">Sub</text>\n</g>\n<!-- 139743367433200 -->\n<g id=\"node66\" class=\"node\">\n<title>139743367433200</title>\n<ellipse fill=\"none\" stroke=\"#000000\" cx=\"5016\" cy=\"-18\" rx=\"83.6854\" ry=\"18\"/>\n<text text-anchor=\"middle\" x=\"5016\" y=\"-14.3\" font-family=\"Times,serif\" font-size=\"14.00\" fill=\"#000000\">139743367433200</text>\n</g>\n<!-- 139743461439056&#45;&gt;139743367433200 -->\n<g id=\"edge51\" class=\"edge\">\n<title>139743461439056&#45;&gt;139743367433200</title>\n<path fill=\"none\" stroke=\"#000000\" d=\"M5016,-71.8314C5016,-64.131 5016,-54.9743 5016,-46.4166\"/>\n<polygon fill=\"#000000\" stroke=\"#000000\" points=\"5019.5001,-46.4132 5016,-36.4133 5012.5001,-46.4133 5019.5001,-46.4132\"/>\n</g>\n<!-- 139743367593104 -->\n<g id=\"node64\" class=\"node\">\n<title>139743367593104</title>\n<ellipse fill=\"#ffa500\" stroke=\"#ffa500\" cx=\"4995\" cy=\"-162\" rx=\"27\" ry=\"18\"/>\n</g>\n<!-- 139743367593104&#45;&gt;139743461439056 -->\n<g id=\"edge49\" class=\"edge\">\n<title>139743367593104&#45;&gt;139743461439056</title>\n<path fill=\"none\" stroke=\"#000000\" d=\"M5000.191,-144.2022C5002.5207,-136.2146 5005.3237,-126.6045 5007.9183,-117.7087\"/>\n<polygon fill=\"#000000\" stroke=\"#000000\" points=\"5011.2828,-118.6731 5010.7228,-108.0931 5004.5628,-116.7131 5011.2828,-118.6731\"/>\n</g>\n<!-- 139743460504400 -->\n<g id=\"node65\" class=\"node\">\n<title>139743460504400</title>\n<ellipse fill=\"#ffa500\" stroke=\"#ffa500\" cx=\"5067\" cy=\"-162\" rx=\"27\" ry=\"18\"/>\n</g>\n<!-- 139743460504400&#45;&gt;139743461439056 -->\n<g id=\"edge50\" class=\"edge\">\n<title>139743460504400&#45;&gt;139743461439056</title>\n<path fill=\"none\" stroke=\"#000000\" d=\"M5055.4273,-145.6621C5049.2901,-136.9978 5041.6002,-126.1415 5034.6453,-116.3227\"/>\n<polygon fill=\"#000000\" stroke=\"#000000\" points=\"5037.4163,-114.1795 5028.78,-108.0423 5031.7041,-118.2257 5037.4163,-114.1795\"/>\n</g>\n<!-- 139743367433488 -->\n<g id=\"node69\" class=\"node\">\n<title>139743367433488</title>\n<ellipse fill=\"none\" stroke=\"#000000\" cx=\"1452\" cy=\"-18\" rx=\"83.6854\" ry=\"18\"/>\n<text text-anchor=\"middle\" x=\"1452\" y=\"-14.3\" font-family=\"Times,serif\" font-size=\"14.00\" fill=\"#000000\">139743367433488</text>\n</g>\n<!-- 139743373882960&#45;&gt;139743367433488 -->\n<g id=\"edge54\" class=\"edge\">\n<title>139743373882960&#45;&gt;139743367433488</title>\n<path fill=\"none\" stroke=\"#000000\" d=\"M1473.6821,-71.8314C1470.5124,-63.9617 1466.73,-54.5712 1463.2187,-45.8533\"/>\n<polygon fill=\"#000000\" stroke=\"#000000\" points=\"1466.3992,-44.3815 1459.4165,-36.4133 1459.9061,-46.9968 1466.3992,-44.3815\"/>\n</g>\n<!-- 139743460506000 -->\n<g id=\"node68\" class=\"node\">\n<title>139743460506000</title>\n<ellipse fill=\"#ffa500\" stroke=\"#ffa500\" cx=\"1481\" cy=\"-162\" rx=\"27\" ry=\"18\"/>\n</g>\n<!-- 139743460506000&#45;&gt;139743373882960 -->\n<g id=\"edge53\" class=\"edge\">\n<title>139743460506000&#45;&gt;139743373882960</title>\n<path fill=\"none\" stroke=\"#000000\" d=\"M1481,-143.8314C1481,-136.131 1481,-126.9743 1481,-118.4166\"/>\n<polygon fill=\"#000000\" stroke=\"#000000\" points=\"1484.5001,-118.4132 1481,-108.4133 1477.5001,-118.4133 1484.5001,-118.4132\"/>\n</g>\n<!-- 139743367433776 -->\n<g id=\"node72\" class=\"node\">\n<title>139743367433776</title>\n<ellipse fill=\"none\" stroke=\"#000000\" cx=\"3312\" cy=\"-18\" rx=\"83.6854\" ry=\"18\"/>\n<text text-anchor=\"middle\" x=\"3312\" y=\"-14.3\" font-family=\"Times,serif\" font-size=\"14.00\" fill=\"#000000\">139743367433776</text>\n</g>\n<!-- 139743368149648&#45;&gt;139743367433776 -->\n<g id=\"edge57\" class=\"edge\">\n<title>139743368149648&#45;&gt;139743367433776</title>\n<path fill=\"none\" stroke=\"#000000\" d=\"M3252.1874,-71.8314C3262.0951,-62.9144 3274.1725,-52.0447 3284.8739,-42.4135\"/>\n<polygon fill=\"#000000\" stroke=\"#000000\" points=\"3287.2806,-44.9563 3292.3722,-35.665 3282.5978,-39.7532 3287.2806,-44.9563\"/>\n</g>\n<!-- 139743367591568 -->\n<g id=\"node71\" class=\"node\">\n<title>139743367591568</title>\n<ellipse fill=\"#ffa500\" stroke=\"#ffa500\" cx=\"3232\" cy=\"-162\" rx=\"27\" ry=\"18\"/>\n</g>\n<!-- 139743367591568&#45;&gt;139743368149648 -->\n<g id=\"edge56\" class=\"edge\">\n<title>139743367591568&#45;&gt;139743368149648</title>\n<path fill=\"none\" stroke=\"#000000\" d=\"M3232,-143.8314C3232,-136.131 3232,-126.9743 3232,-118.4166\"/>\n<polygon fill=\"#000000\" stroke=\"#000000\" points=\"3235.5001,-118.4132 3232,-108.4133 3228.5001,-118.4133 3235.5001,-118.4132\"/>\n</g>\n<!-- 139743367549776 -->\n<g id=\"node73\" class=\"node\">\n<title>139743367549776</title>\n<polygon fill=\"#add8e6\" stroke=\"#add8e6\" points=\"5244,-108 5190,-108 5190,-72 5244,-72 5244,-108\"/>\n<text text-anchor=\"middle\" x=\"5217\" y=\"-86.3\" font-family=\"Times,serif\" font-size=\"14.00\" fill=\"#000000\">Add</text>\n</g>\n<!-- 139743367433968 -->\n<g id=\"node76\" class=\"node\">\n<title>139743367433968</title>\n<ellipse fill=\"none\" stroke=\"#000000\" cx=\"5217\" cy=\"-18\" rx=\"83.6854\" ry=\"18\"/>\n<text text-anchor=\"middle\" x=\"5217\" y=\"-14.3\" font-family=\"Times,serif\" font-size=\"14.00\" fill=\"#000000\">139743367433968</text>\n</g>\n<!-- 139743367549776&#45;&gt;139743367433968 -->\n<g id=\"edge60\" class=\"edge\">\n<title>139743367549776&#45;&gt;139743367433968</title>\n<path fill=\"none\" stroke=\"#000000\" d=\"M5217,-71.8314C5217,-64.131 5217,-54.9743 5217,-46.4166\"/>\n<polygon fill=\"#000000\" stroke=\"#000000\" points=\"5220.5001,-46.4132 5217,-36.4133 5213.5001,-46.4133 5220.5001,-46.4132\"/>\n</g>\n<!-- 139743367550096 -->\n<g id=\"node74\" class=\"node\">\n<title>139743367550096</title>\n<ellipse fill=\"#ffa500\" stroke=\"#ffa500\" cx=\"5167\" cy=\"-162\" rx=\"27\" ry=\"18\"/>\n</g>\n<!-- 139743367550096&#45;&gt;139743367549776 -->\n<g id=\"edge58\" class=\"edge\">\n<title>139743367550096&#45;&gt;139743367549776</title>\n<path fill=\"none\" stroke=\"#000000\" d=\"M5178.3458,-145.6621C5184.3627,-136.9978 5191.9017,-126.1415 5198.7203,-116.3227\"/>\n<polygon fill=\"#000000\" stroke=\"#000000\" points=\"5201.6414,-118.2525 5204.4706,-108.0423 5195.8918,-114.2597 5201.6414,-118.2525\"/>\n</g>\n<!-- 139743368147792 -->\n<g id=\"node75\" class=\"node\">\n<title>139743368147792</title>\n<ellipse fill=\"#ffa500\" stroke=\"#ffa500\" cx=\"5239\" cy=\"-162\" rx=\"27\" ry=\"18\"/>\n</g>\n<!-- 139743368147792&#45;&gt;139743367549776 -->\n<g id=\"edge59\" class=\"edge\">\n<title>139743368147792&#45;&gt;139743367549776</title>\n<path fill=\"none\" stroke=\"#000000\" d=\"M5233.5618,-144.2022C5231.1211,-136.2146 5228.1847,-126.6045 5225.4665,-117.7087\"/>\n<polygon fill=\"#000000\" stroke=\"#000000\" points=\"5228.7979,-116.6339 5222.5285,-108.0931 5222.1035,-118.6794 5228.7979,-116.6339\"/>\n</g>\n<!-- 139743367550480 -->\n<g id=\"node77\" class=\"node\">\n<title>139743367550480</title>\n<polygon fill=\"#add8e6\" stroke=\"#add8e6\" points=\"5430,-108 5376,-108 5376,-72 5430,-72 5430,-108\"/>\n<text text-anchor=\"middle\" x=\"5403\" y=\"-86.3\" font-family=\"Times,serif\" font-size=\"14.00\" fill=\"#000000\">Mul</text>\n</g>\n<!-- 139743367433872 -->\n<g id=\"node80\" class=\"node\">\n<title>139743367433872</title>\n<ellipse fill=\"none\" stroke=\"#000000\" cx=\"5403\" cy=\"-18\" rx=\"83.6854\" ry=\"18\"/>\n<text text-anchor=\"middle\" x=\"5403\" y=\"-14.3\" font-family=\"Times,serif\" font-size=\"14.00\" fill=\"#000000\">139743367433872</text>\n</g>\n<!-- 139743367550480&#45;&gt;139743367433872 -->\n<g id=\"edge63\" class=\"edge\">\n<title>139743367550480&#45;&gt;139743367433872</title>\n<path fill=\"none\" stroke=\"#000000\" d=\"M5403,-71.8314C5403,-64.131 5403,-54.9743 5403,-46.4166\"/>\n<polygon fill=\"#000000\" stroke=\"#000000\" points=\"5406.5001,-46.4132 5403,-36.4133 5399.5001,-46.4133 5406.5001,-46.4132\"/>\n</g>\n<!-- 139743367127376 -->\n<g id=\"node78\" class=\"node\">\n<title>139743367127376</title>\n<ellipse fill=\"#ffa500\" stroke=\"#ffa500\" cx=\"5367\" cy=\"-162\" rx=\"27\" ry=\"18\"/>\n</g>\n<!-- 139743367127376&#45;&gt;139743367550480 -->\n<g id=\"edge61\" class=\"edge\">\n<title>139743367127376&#45;&gt;139743367550480</title>\n<path fill=\"none\" stroke=\"#000000\" d=\"M5375.7146,-144.5708C5379.8228,-136.3544 5384.8196,-126.3608 5389.4089,-117.1821\"/>\n<polygon fill=\"#000000\" stroke=\"#000000\" points=\"5392.648,-118.5301 5393.9897,-108.0206 5386.387,-115.3996 5392.648,-118.5301\"/>\n</g>\n<!-- 139743367549520 -->\n<g id=\"node79\" class=\"node\">\n<title>139743367549520</title>\n<ellipse fill=\"#ffa500\" stroke=\"#ffa500\" cx=\"5439\" cy=\"-162\" rx=\"27\" ry=\"18\"/>\n</g>\n<!-- 139743367549520&#45;&gt;139743367550480 -->\n<g id=\"edge62\" class=\"edge\">\n<title>139743367549520&#45;&gt;139743367550480</title>\n<path fill=\"none\" stroke=\"#000000\" d=\"M5430.2854,-144.5708C5426.1772,-136.3544 5421.1804,-126.3608 5416.5911,-117.1821\"/>\n<polygon fill=\"#000000\" stroke=\"#000000\" points=\"5419.613,-115.3996 5412.0103,-108.0206 5413.352,-118.5301 5419.613,-115.3996\"/>\n</g>\n<!-- 139743367549904 -->\n<g id=\"node81\" class=\"node\">\n<title>139743367549904</title>\n<polygon fill=\"#add8e6\" stroke=\"#add8e6\" points=\"5616,-108 5562,-108 5562,-72 5616,-72 5616,-108\"/>\n<text text-anchor=\"middle\" x=\"5589\" y=\"-86.3\" font-family=\"Times,serif\" font-size=\"14.00\" fill=\"#000000\">Add</text>\n</g>\n<!-- 139743367433680 -->\n<g id=\"node84\" class=\"node\">\n<title>139743367433680</title>\n<ellipse fill=\"none\" stroke=\"#000000\" cx=\"5589\" cy=\"-18\" rx=\"83.6854\" ry=\"18\"/>\n<text text-anchor=\"middle\" x=\"5589\" y=\"-14.3\" font-family=\"Times,serif\" font-size=\"14.00\" fill=\"#000000\">139743367433680</text>\n</g>\n<!-- 139743367549904&#45;&gt;139743367433680 -->\n<g id=\"edge66\" class=\"edge\">\n<title>139743367549904&#45;&gt;139743367433680</title>\n<path fill=\"none\" stroke=\"#000000\" d=\"M5589,-71.8314C5589,-64.131 5589,-54.9743 5589,-46.4166\"/>\n<polygon fill=\"#000000\" stroke=\"#000000\" points=\"5592.5001,-46.4132 5589,-36.4133 5585.5001,-46.4133 5592.5001,-46.4132\"/>\n</g>\n<!-- 139743367550160 -->\n<g id=\"node82\" class=\"node\">\n<title>139743367550160</title>\n<ellipse fill=\"#ffa500\" stroke=\"#ffa500\" cx=\"5575\" cy=\"-162\" rx=\"27\" ry=\"18\"/>\n</g>\n<!-- 139743367550160&#45;&gt;139743367549904 -->\n<g id=\"edge64\" class=\"edge\">\n<title>139743367550160&#45;&gt;139743367549904</title>\n<path fill=\"none\" stroke=\"#000000\" d=\"M5578.5328,-143.8314C5580.0301,-136.131 5581.8105,-126.9743 5583.4745,-118.4166\"/>\n<polygon fill=\"#000000\" stroke=\"#000000\" points=\"5586.9465,-118.8975 5585.4196,-108.4133 5580.0752,-117.5614 5586.9465,-118.8975\"/>\n</g>\n<!-- 139743367549712 -->\n<g id=\"node83\" class=\"node\">\n<title>139743367549712</title>\n<ellipse fill=\"#ffa500\" stroke=\"#ffa500\" cx=\"5647\" cy=\"-162\" rx=\"27\" ry=\"18\"/>\n</g>\n<!-- 139743367549712&#45;&gt;139743367549904 -->\n<g id=\"edge65\" class=\"edge\">\n<title>139743367549712&#45;&gt;139743367549904</title>\n<path fill=\"none\" stroke=\"#000000\" d=\"M5634.1279,-146.0209C5627.0882,-137.2819 5618.1893,-126.235 5610.158,-116.2651\"/>\n<polygon fill=\"#000000\" stroke=\"#000000\" points=\"5612.6746,-113.81 5603.6757,-108.2181 5607.2234,-118.2013 5612.6746,-113.81\"/>\n</g>\n<!-- 139743367549840 -->\n<g id=\"node85\" class=\"node\">\n<title>139743367549840</title>\n<polygon fill=\"#add8e6\" stroke=\"#add8e6\" points=\"5817,-108 5763,-108 5763,-72 5817,-72 5817,-108\"/>\n<text text-anchor=\"middle\" x=\"5790\" y=\"-86.3\" font-family=\"Times,serif\" font-size=\"14.00\" fill=\"#000000\">Mul</text>\n</g>\n<!-- 139743367434064 -->\n<g id=\"node88\" class=\"node\">\n<title>139743367434064</title>\n<ellipse fill=\"none\" stroke=\"#000000\" cx=\"5790\" cy=\"-18\" rx=\"83.6854\" ry=\"18\"/>\n<text text-anchor=\"middle\" x=\"5790\" y=\"-14.3\" font-family=\"Times,serif\" font-size=\"14.00\" fill=\"#000000\">139743367434064</text>\n</g>\n<!-- 139743367549840&#45;&gt;139743367434064 -->\n<g id=\"edge69\" class=\"edge\">\n<title>139743367549840&#45;&gt;139743367434064</title>\n<path fill=\"none\" stroke=\"#000000\" d=\"M5790,-71.8314C5790,-64.131 5790,-54.9743 5790,-46.4166\"/>\n<polygon fill=\"#000000\" stroke=\"#000000\" points=\"5793.5001,-46.4132 5790,-36.4133 5786.5001,-46.4133 5793.5001,-46.4132\"/>\n</g>\n<!-- 139743367549392 -->\n<g id=\"node86\" class=\"node\">\n<title>139743367549392</title>\n<ellipse fill=\"#ffa500\" stroke=\"#ffa500\" cx=\"5732\" cy=\"-162\" rx=\"27\" ry=\"18\"/>\n</g>\n<!-- 139743367549392&#45;&gt;139743367549840 -->\n<g id=\"edge67\" class=\"edge\">\n<title>139743367549392&#45;&gt;139743367549840</title>\n<path fill=\"none\" stroke=\"#000000\" d=\"M5744.8721,-146.0209C5751.9118,-137.2819 5760.8107,-126.235 5768.842,-116.2651\"/>\n<polygon fill=\"#000000\" stroke=\"#000000\" points=\"5771.7766,-118.2013 5775.3243,-108.2181 5766.3254,-113.81 5771.7766,-118.2013\"/>\n</g>\n<!-- 139743367549968 -->\n<g id=\"node87\" class=\"node\">\n<title>139743367549968</title>\n<ellipse fill=\"#ffa500\" stroke=\"#ffa500\" cx=\"5804\" cy=\"-162\" rx=\"27\" ry=\"18\"/>\n</g>\n<!-- 139743367549968&#45;&gt;139743367549840 -->\n<g id=\"edge68\" class=\"edge\">\n<title>139743367549968&#45;&gt;139743367549840</title>\n<path fill=\"none\" stroke=\"#000000\" d=\"M5800.4672,-143.8314C5798.9699,-136.131 5797.1895,-126.9743 5795.5255,-118.4166\"/>\n<polygon fill=\"#000000\" stroke=\"#000000\" points=\"5798.9248,-117.5614 5793.5804,-108.4133 5792.0535,-118.8975 5798.9248,-117.5614\"/>\n</g>\n<!-- 139743367434160 -->\n<g id=\"node90\" class=\"node\">\n<title>139743367434160</title>\n<ellipse fill=\"none\" stroke=\"#000000\" cx=\"1638\" cy=\"-18\" rx=\"83.6854\" ry=\"18\"/>\n<text text-anchor=\"middle\" x=\"1638\" y=\"-14.3\" font-family=\"Times,serif\" font-size=\"14.00\" fill=\"#000000\">139743367434160</text>\n</g>\n<!-- 139743367550224&#45;&gt;139743367434160 -->\n<g id=\"edge71\" class=\"edge\">\n<title>139743367550224&#45;&gt;139743367434160</title>\n<path fill=\"none\" stroke=\"#000000\" d=\"M1659.6821,-71.8314C1656.5124,-63.9617 1652.73,-54.5712 1649.2187,-45.8533\"/>\n<polygon fill=\"#000000\" stroke=\"#000000\" points=\"1652.3992,-44.3815 1645.4165,-36.4133 1645.9061,-46.9968 1652.3992,-44.3815\"/>\n</g>\n<!-- 139743368170896 -->\n<g id=\"node91\" class=\"node\">\n<title>139743368170896</title>\n<polygon fill=\"#add8e6\" stroke=\"#add8e6\" points=\"6003,-108 5949,-108 5949,-72 6003,-72 6003,-108\"/>\n<text text-anchor=\"middle\" x=\"5976\" y=\"-86.3\" font-family=\"Times,serif\" font-size=\"14.00\" fill=\"#000000\">Add</text>\n</g>\n<!-- 139743367442992 -->\n<g id=\"node94\" class=\"node\">\n<title>139743367442992</title>\n<ellipse fill=\"none\" stroke=\"#000000\" cx=\"5976\" cy=\"-18\" rx=\"83.6854\" ry=\"18\"/>\n<text text-anchor=\"middle\" x=\"5976\" y=\"-14.3\" font-family=\"Times,serif\" font-size=\"14.00\" fill=\"#000000\">139743367442992</text>\n</g>\n<!-- 139743368170896&#45;&gt;139743367442992 -->\n<g id=\"edge74\" class=\"edge\">\n<title>139743368170896&#45;&gt;139743367442992</title>\n<path fill=\"none\" stroke=\"#000000\" d=\"M5976,-71.8314C5976,-64.131 5976,-54.9743 5976,-46.4166\"/>\n<polygon fill=\"#000000\" stroke=\"#000000\" points=\"5979.5001,-46.4132 5976,-36.4133 5972.5001,-46.4133 5979.5001,-46.4132\"/>\n</g>\n<!-- 139743367517136 -->\n<g id=\"node92\" class=\"node\">\n<title>139743367517136</title>\n<ellipse fill=\"#ffa500\" stroke=\"#ffa500\" cx=\"5925\" cy=\"-162\" rx=\"27\" ry=\"18\"/>\n</g>\n<!-- 139743367517136&#45;&gt;139743368170896 -->\n<g id=\"edge72\" class=\"edge\">\n<title>139743367517136&#45;&gt;139743368170896</title>\n<path fill=\"none\" stroke=\"#000000\" d=\"M5936.5727,-145.6621C5942.7099,-136.9978 5950.3998,-126.1415 5957.3547,-116.3227\"/>\n<polygon fill=\"#000000\" stroke=\"#000000\" points=\"5960.2959,-118.2257 5963.22,-108.0423 5954.5837,-114.1795 5960.2959,-118.2257\"/>\n</g>\n<!-- 139743367550544 -->\n<g id=\"node93\" class=\"node\">\n<title>139743367550544</title>\n<ellipse fill=\"#ffa500\" stroke=\"#ffa500\" cx=\"5997\" cy=\"-162\" rx=\"27\" ry=\"18\"/>\n</g>\n<!-- 139743367550544&#45;&gt;139743368170896 -->\n<g id=\"edge73\" class=\"edge\">\n<title>139743367550544&#45;&gt;139743368170896</title>\n<path fill=\"none\" stroke=\"#000000\" d=\"M5991.809,-144.2022C5989.4793,-136.2146 5986.6763,-126.6045 5984.0817,-117.7087\"/>\n<polygon fill=\"#000000\" stroke=\"#000000\" points=\"5987.4372,-116.7131 5981.2772,-108.0931 5980.7172,-118.6731 5987.4372,-116.7131\"/>\n</g>\n<!-- 139743367473392 -->\n<g id=\"node97\" class=\"node\">\n<title>139743367473392</title>\n<ellipse fill=\"none\" stroke=\"#000000\" cx=\"2010\" cy=\"-18\" rx=\"83.6854\" ry=\"18\"/>\n<text text-anchor=\"middle\" x=\"2010\" y=\"-14.3\" font-family=\"Times,serif\" font-size=\"14.00\" fill=\"#000000\">139743367473392</text>\n</g>\n<!-- 139743367518224&#45;&gt;139743367473392 -->\n<g id=\"edge77\" class=\"edge\">\n<title>139743367518224&#45;&gt;139743367473392</title>\n<path fill=\"none\" stroke=\"#000000\" d=\"M1924.0663,-72.7542C1939.1613,-63.1362 1958.145,-51.0403 1974.4281,-40.6653\"/>\n<polygon fill=\"#000000\" stroke=\"#000000\" points=\"1976.6018,-43.4304 1983.1545,-35.1051 1972.8402,-37.527 1976.6018,-43.4304\"/>\n</g>\n<!-- 139743368168272 -->\n<g id=\"node96\" class=\"node\">\n<title>139743368168272</title>\n<ellipse fill=\"#ffa500\" stroke=\"#ffa500\" cx=\"1897\" cy=\"-162\" rx=\"27\" ry=\"18\"/>\n</g>\n<!-- 139743368168272&#45;&gt;139743367518224 -->\n<g id=\"edge75\" class=\"edge\">\n<title>139743368168272&#45;&gt;139743367518224</title>\n<path fill=\"none\" stroke=\"#000000\" d=\"M1897,-143.8314C1897,-136.131 1897,-126.9743 1897,-118.4166\"/>\n<polygon fill=\"#000000\" stroke=\"#000000\" points=\"1900.5001,-118.4132 1897,-108.4133 1893.5001,-118.4133 1900.5001,-118.4132\"/>\n</g>\n<!-- 139743367473872 -->\n<g id=\"node100\" class=\"node\">\n<title>139743367473872</title>\n<ellipse fill=\"none\" stroke=\"#000000\" cx=\"3498\" cy=\"-18\" rx=\"83.6854\" ry=\"18\"/>\n<text text-anchor=\"middle\" x=\"3498\" y=\"-14.3\" font-family=\"Times,serif\" font-size=\"14.00\" fill=\"#000000\">139743367473872</text>\n</g>\n<!-- 139743367518480&#45;&gt;139743367473872 -->\n<g id=\"edge80\" class=\"edge\">\n<title>139743367518480&#45;&gt;139743367473872</title>\n<path fill=\"none\" stroke=\"#000000\" d=\"M3425.4772,-71.8314C3437.8157,-62.6729 3452.9293,-51.4545 3466.16,-41.6338\"/>\n<polygon fill=\"#000000\" stroke=\"#000000\" points=\"3468.5908,-44.1883 3474.5345,-35.4177 3464.4187,-38.5675 3468.5908,-44.1883\"/>\n</g>\n<!-- 139743440107216 -->\n<g id=\"node99\" class=\"node\">\n<title>139743440107216</title>\n<ellipse fill=\"#ffa500\" stroke=\"#ffa500\" cx=\"3401\" cy=\"-162\" rx=\"27\" ry=\"18\"/>\n</g>\n<!-- 139743440107216&#45;&gt;139743367518480 -->\n<g id=\"edge79\" class=\"edge\">\n<title>139743440107216&#45;&gt;139743367518480</title>\n<path fill=\"none\" stroke=\"#000000\" d=\"M3401,-143.8314C3401,-136.131 3401,-126.9743 3401,-118.4166\"/>\n<polygon fill=\"#000000\" stroke=\"#000000\" points=\"3404.5001,-118.4132 3401,-108.4133 3397.5001,-118.4133 3404.5001,-118.4132\"/>\n</g>\n<!-- 139743367518608 -->\n<g id=\"node101\" class=\"node\">\n<title>139743367518608</title>\n<polygon fill=\"#add8e6\" stroke=\"#add8e6\" points=\"6189,-108 6135,-108 6135,-72 6189,-72 6189,-108\"/>\n<text text-anchor=\"middle\" x=\"6162\" y=\"-86.3\" font-family=\"Times,serif\" font-size=\"14.00\" fill=\"#000000\">Sub</text>\n</g>\n<!-- 139743367473104 -->\n<g id=\"node104\" class=\"node\">\n<title>139743367473104</title>\n<ellipse fill=\"none\" stroke=\"#000000\" cx=\"6162\" cy=\"-18\" rx=\"83.6854\" ry=\"18\"/>\n<text text-anchor=\"middle\" x=\"6162\" y=\"-14.3\" font-family=\"Times,serif\" font-size=\"14.00\" fill=\"#000000\">139743367473104</text>\n</g>\n<!-- 139743367518608&#45;&gt;139743367473104 -->\n<g id=\"edge83\" class=\"edge\">\n<title>139743367518608&#45;&gt;139743367473104</title>\n<path fill=\"none\" stroke=\"#000000\" d=\"M6162,-71.8314C6162,-64.131 6162,-54.9743 6162,-46.4166\"/>\n<polygon fill=\"#000000\" stroke=\"#000000\" points=\"6165.5001,-46.4132 6162,-36.4133 6158.5001,-46.4133 6165.5001,-46.4132\"/>\n</g>\n<!-- 139743367518992 -->\n<g id=\"node102\" class=\"node\">\n<title>139743367518992</title>\n<ellipse fill=\"#ffa500\" stroke=\"#ffa500\" cx=\"6111\" cy=\"-162\" rx=\"27\" ry=\"18\"/>\n</g>\n<!-- 139743367518992&#45;&gt;139743367518608 -->\n<g id=\"edge81\" class=\"edge\">\n<title>139743367518992&#45;&gt;139743367518608</title>\n<path fill=\"none\" stroke=\"#000000\" d=\"M6122.5727,-145.6621C6128.7099,-136.9978 6136.3998,-126.1415 6143.3547,-116.3227\"/>\n<polygon fill=\"#000000\" stroke=\"#000000\" points=\"6146.2959,-118.2257 6149.22,-108.0423 6140.5837,-114.1795 6146.2959,-118.2257\"/>\n</g>\n<!-- 139743367518736 -->\n<g id=\"node103\" class=\"node\">\n<title>139743367518736</title>\n<ellipse fill=\"#ffa500\" stroke=\"#ffa500\" cx=\"6183\" cy=\"-162\" rx=\"27\" ry=\"18\"/>\n</g>\n<!-- 139743367518736&#45;&gt;139743367518608 -->\n<g id=\"edge82\" class=\"edge\">\n<title>139743367518736&#45;&gt;139743367518608</title>\n<path fill=\"none\" stroke=\"#000000\" d=\"M6177.809,-144.2022C6175.4793,-136.2146 6172.6763,-126.6045 6170.0817,-117.7087\"/>\n<polygon fill=\"#000000\" stroke=\"#000000\" points=\"6173.4372,-116.7131 6167.2772,-108.0931 6166.7172,-118.6731 6173.4372,-116.7131\"/>\n</g>\n<!-- 139743367473584 -->\n<g id=\"node107\" class=\"node\">\n<title>139743367473584</title>\n<ellipse fill=\"none\" stroke=\"#000000\" cx=\"2196\" cy=\"-18\" rx=\"83.6854\" ry=\"18\"/>\n<text text-anchor=\"middle\" x=\"2196\" y=\"-14.3\" font-family=\"Times,serif\" font-size=\"14.00\" fill=\"#000000\">139743367473584</text>\n</g>\n<!-- 139743367517072&#45;&gt;139743367473584 -->\n<g id=\"edge86\" class=\"edge\">\n<title>139743367517072&#45;&gt;139743367473584</title>\n<path fill=\"none\" stroke=\"#000000\" d=\"M2081.0434,-76.2879C2101.6446,-65.8422 2130.386,-51.2691 2153.976,-39.3079\"/>\n<polygon fill=\"#000000\" stroke=\"#000000\" points=\"2155.7306,-42.3425 2163.0668,-34.6985 2152.565,-36.0992 2155.7306,-42.3425\"/>\n</g>\n<!-- 139743367518672 -->\n<g id=\"node106\" class=\"node\">\n<title>139743367518672</title>\n<ellipse fill=\"#ffa500\" stroke=\"#ffa500\" cx=\"2054\" cy=\"-162\" rx=\"27\" ry=\"18\"/>\n</g>\n<!-- 139743367518672&#45;&gt;139743367517072 -->\n<g id=\"edge85\" class=\"edge\">\n<title>139743367518672&#45;&gt;139743367517072</title>\n<path fill=\"none\" stroke=\"#000000\" d=\"M2054,-143.8314C2054,-136.131 2054,-126.9743 2054,-118.4166\"/>\n<polygon fill=\"#000000\" stroke=\"#000000\" points=\"2057.5001,-118.4132 2054,-108.4133 2050.5001,-118.4133 2057.5001,-118.4132\"/>\n</g>\n<!-- 139743367519120 -->\n<g id=\"node108\" class=\"node\">\n<title>139743367519120</title>\n<polygon fill=\"#add8e6\" stroke=\"#add8e6\" points=\"6375,-108 6321,-108 6321,-72 6375,-72 6375,-108\"/>\n<text text-anchor=\"middle\" x=\"6348\" y=\"-86.3\" font-family=\"Times,serif\" font-size=\"14.00\" fill=\"#000000\">Add</text>\n</g>\n<!-- 139743367472720 -->\n<g id=\"node111\" class=\"node\">\n<title>139743367472720</title>\n<ellipse fill=\"none\" stroke=\"#000000\" cx=\"6348\" cy=\"-18\" rx=\"83.6854\" ry=\"18\"/>\n<text text-anchor=\"middle\" x=\"6348\" y=\"-14.3\" font-family=\"Times,serif\" font-size=\"14.00\" fill=\"#000000\">139743367472720</text>\n</g>\n<!-- 139743367519120&#45;&gt;139743367472720 -->\n<g id=\"edge89\" class=\"edge\">\n<title>139743367519120&#45;&gt;139743367472720</title>\n<path fill=\"none\" stroke=\"#000000\" d=\"M6348,-71.8314C6348,-64.131 6348,-54.9743 6348,-46.4166\"/>\n<polygon fill=\"#000000\" stroke=\"#000000\" points=\"6351.5001,-46.4132 6348,-36.4133 6344.5001,-46.4133 6351.5001,-46.4132\"/>\n</g>\n<!-- 139743367127760 -->\n<g id=\"node109\" class=\"node\">\n<title>139743367127760</title>\n<ellipse fill=\"#ffa500\" stroke=\"#ffa500\" cx=\"6297\" cy=\"-162\" rx=\"27\" ry=\"18\"/>\n</g>\n<!-- 139743367127760&#45;&gt;139743367519120 -->\n<g id=\"edge87\" class=\"edge\">\n<title>139743367127760&#45;&gt;139743367519120</title>\n<path fill=\"none\" stroke=\"#000000\" d=\"M6308.5727,-145.6621C6314.7099,-136.9978 6322.3998,-126.1415 6329.3547,-116.3227\"/>\n<polygon fill=\"#000000\" stroke=\"#000000\" points=\"6332.2959,-118.2257 6335.22,-108.0423 6326.5837,-114.1795 6332.2959,-118.2257\"/>\n</g>\n<!-- 139743367518160 -->\n<g id=\"node110\" class=\"node\">\n<title>139743367518160</title>\n<ellipse fill=\"#ffa500\" stroke=\"#ffa500\" cx=\"6369\" cy=\"-162\" rx=\"27\" ry=\"18\"/>\n</g>\n<!-- 139743367518160&#45;&gt;139743367519120 -->\n<g id=\"edge88\" class=\"edge\">\n<title>139743367518160&#45;&gt;139743367519120</title>\n<path fill=\"none\" stroke=\"#000000\" d=\"M6363.809,-144.2022C6361.4793,-136.2146 6358.6763,-126.6045 6356.0817,-117.7087\"/>\n<polygon fill=\"#000000\" stroke=\"#000000\" points=\"6359.4372,-116.7131 6353.2772,-108.0931 6352.7172,-118.6731 6359.4372,-116.7131\"/>\n</g>\n<!-- 139743367517968 -->\n<g id=\"node112\" class=\"node\">\n<title>139743367517968</title>\n<polygon fill=\"#add8e6\" stroke=\"#add8e6\" points=\"6561,-108 6507,-108 6507,-72 6561,-72 6561,-108\"/>\n<text text-anchor=\"middle\" x=\"6534\" y=\"-86.3\" font-family=\"Times,serif\" font-size=\"14.00\" fill=\"#000000\">Mul</text>\n</g>\n<!-- 139743367473200 -->\n<g id=\"node115\" class=\"node\">\n<title>139743367473200</title>\n<ellipse fill=\"none\" stroke=\"#000000\" cx=\"6534\" cy=\"-18\" rx=\"83.6854\" ry=\"18\"/>\n<text text-anchor=\"middle\" x=\"6534\" y=\"-14.3\" font-family=\"Times,serif\" font-size=\"14.00\" fill=\"#000000\">139743367473200</text>\n</g>\n<!-- 139743367517968&#45;&gt;139743367473200 -->\n<g id=\"edge92\" class=\"edge\">\n<title>139743367517968&#45;&gt;139743367473200</title>\n<path fill=\"none\" stroke=\"#000000\" d=\"M6534,-71.8314C6534,-64.131 6534,-54.9743 6534,-46.4166\"/>\n<polygon fill=\"#000000\" stroke=\"#000000\" points=\"6537.5001,-46.4132 6534,-36.4133 6530.5001,-46.4133 6537.5001,-46.4132\"/>\n</g>\n<!-- 139743367127888 -->\n<g id=\"node113\" class=\"node\">\n<title>139743367127888</title>\n<ellipse fill=\"#ffa500\" stroke=\"#ffa500\" cx=\"6483\" cy=\"-162\" rx=\"27\" ry=\"18\"/>\n</g>\n<!-- 139743367127888&#45;&gt;139743367517968 -->\n<g id=\"edge90\" class=\"edge\">\n<title>139743367127888&#45;&gt;139743367517968</title>\n<path fill=\"none\" stroke=\"#000000\" d=\"M6494.5727,-145.6621C6500.7099,-136.9978 6508.3998,-126.1415 6515.3547,-116.3227\"/>\n<polygon fill=\"#000000\" stroke=\"#000000\" points=\"6518.2959,-118.2257 6521.22,-108.0423 6512.5837,-114.1795 6518.2959,-118.2257\"/>\n</g>\n<!-- 139743367517008 -->\n<g id=\"node114\" class=\"node\">\n<title>139743367517008</title>\n<ellipse fill=\"#ffa500\" stroke=\"#ffa500\" cx=\"6555\" cy=\"-162\" rx=\"27\" ry=\"18\"/>\n</g>\n<!-- 139743367517008&#45;&gt;139743367517968 -->\n<g id=\"edge91\" class=\"edge\">\n<title>139743367517008&#45;&gt;139743367517968</title>\n<path fill=\"none\" stroke=\"#000000\" d=\"M6549.809,-144.2022C6547.4793,-136.2146 6544.6763,-126.6045 6542.0817,-117.7087\"/>\n<polygon fill=\"#000000\" stroke=\"#000000\" points=\"6545.4372,-116.7131 6539.2772,-108.0931 6538.7172,-118.6731 6545.4372,-116.7131\"/>\n</g>\n<!-- 139743367715536 -->\n<g id=\"node117\" class=\"node\">\n<title>139743367715536</title>\n<ellipse fill=\"none\" stroke=\"#000000\" cx=\"2940\" cy=\"-18\" rx=\"83.6854\" ry=\"18\"/>\n<text text-anchor=\"middle\" x=\"2940\" y=\"-14.3\" font-family=\"Times,serif\" font-size=\"14.00\" fill=\"#000000\">139743367715536</text>\n</g>\n<!-- 139743367127632&#45;&gt;139743367715536 -->\n<g id=\"edge94\" class=\"edge\">\n<title>139743367127632&#45;&gt;139743367715536</title>\n<path fill=\"none\" stroke=\"#000000\" d=\"M2957.1961,-71.8314C2954.7092,-64.0463 2951.7469,-54.7729 2948.9875,-46.1347\"/>\n<polygon fill=\"#000000\" stroke=\"#000000\" points=\"2952.2591,-44.874 2945.882,-36.4133 2945.591,-47.0041 2952.2591,-44.874\"/>\n</g>\n<!-- 139743367127440 -->\n<g id=\"node118\" class=\"node\">\n<title>139743367127440</title>\n<polygon fill=\"#add8e6\" stroke=\"#add8e6\" points=\"6747,-108 6693,-108 6693,-72 6747,-72 6747,-108\"/>\n<text text-anchor=\"middle\" x=\"6720\" y=\"-86.3\" font-family=\"Times,serif\" font-size=\"14.00\" fill=\"#000000\">Sub</text>\n</g>\n<!-- 139743367560272 -->\n<g id=\"node121\" class=\"node\">\n<title>139743367560272</title>\n<ellipse fill=\"none\" stroke=\"#000000\" cx=\"6720\" cy=\"-18\" rx=\"83.6854\" ry=\"18\"/>\n<text text-anchor=\"middle\" x=\"6720\" y=\"-14.3\" font-family=\"Times,serif\" font-size=\"14.00\" fill=\"#000000\">139743367560272</text>\n</g>\n<!-- 139743367127440&#45;&gt;139743367560272 -->\n<g id=\"edge97\" class=\"edge\">\n<title>139743367127440&#45;&gt;139743367560272</title>\n<path fill=\"none\" stroke=\"#000000\" d=\"M6720,-71.8314C6720,-64.131 6720,-54.9743 6720,-46.4166\"/>\n<polygon fill=\"#000000\" stroke=\"#000000\" points=\"6723.5001,-46.4132 6720,-36.4133 6716.5001,-46.4133 6723.5001,-46.4132\"/>\n</g>\n<!-- 139743367127696 -->\n<g id=\"node119\" class=\"node\">\n<title>139743367127696</title>\n<ellipse fill=\"#ffa500\" stroke=\"#ffa500\" cx=\"6684\" cy=\"-162\" rx=\"27\" ry=\"18\"/>\n</g>\n<!-- 139743367127696&#45;&gt;139743367127440 -->\n<g id=\"edge95\" class=\"edge\">\n<title>139743367127696&#45;&gt;139743367127440</title>\n<path fill=\"none\" stroke=\"#000000\" d=\"M6692.7146,-144.5708C6696.8228,-136.3544 6701.8196,-126.3608 6706.4089,-117.1821\"/>\n<polygon fill=\"#000000\" stroke=\"#000000\" points=\"6709.648,-118.5301 6710.9897,-108.0206 6703.387,-115.3996 6709.648,-118.5301\"/>\n</g>\n<!-- 139743367127568 -->\n<g id=\"node120\" class=\"node\">\n<title>139743367127568</title>\n<ellipse fill=\"#ffa500\" stroke=\"#ffa500\" cx=\"6756\" cy=\"-162\" rx=\"27\" ry=\"18\"/>\n</g>\n<!-- 139743367127568&#45;&gt;139743367127440 -->\n<g id=\"edge96\" class=\"edge\">\n<title>139743367127568&#45;&gt;139743367127440</title>\n<path fill=\"none\" stroke=\"#000000\" d=\"M6747.2854,-144.5708C6743.1772,-136.3544 6738.1804,-126.3608 6733.5911,-117.1821\"/>\n<polygon fill=\"#000000\" stroke=\"#000000\" points=\"6736.613,-115.3996 6729.0103,-108.0206 6730.352,-118.5301 6736.613,-115.3996\"/>\n</g>\n<!-- 139743367559792 -->\n<g id=\"node124\" class=\"node\">\n<title>139743367559792</title>\n<ellipse fill=\"none\" stroke=\"#000000\" cx=\"3684\" cy=\"-18\" rx=\"83.6854\" ry=\"18\"/>\n<text text-anchor=\"middle\" x=\"3684\" y=\"-14.3\" font-family=\"Times,serif\" font-size=\"14.00\" fill=\"#000000\">139743367559792</text>\n</g>\n<!-- 139743367127312&#45;&gt;139743367559792 -->\n<g id=\"edge100\" class=\"edge\">\n<title>139743367127312&#45;&gt;139743367559792</title>\n<path fill=\"none\" stroke=\"#000000\" d=\"M3557.1776,-77.2936C3580.041,-66.6042 3613.1748,-51.1131 3639.8416,-38.6455\"/>\n<polygon fill=\"#000000\" stroke=\"#000000\" points=\"3641.4003,-41.7804 3648.9768,-34.3745 3638.4356,-35.4393 3641.4003,-41.7804\"/>\n</g>\n<!-- 139743367127504 -->\n<g id=\"node123\" class=\"node\">\n<title>139743367127504</title>\n<ellipse fill=\"#ffa500\" stroke=\"#ffa500\" cx=\"3530\" cy=\"-162\" rx=\"27\" ry=\"18\"/>\n</g>\n<!-- 139743367127504&#45;&gt;139743367127312 -->\n<g id=\"edge99\" class=\"edge\">\n<title>139743367127504&#45;&gt;139743367127312</title>\n<path fill=\"none\" stroke=\"#000000\" d=\"M3530,-143.8314C3530,-136.131 3530,-126.9743 3530,-118.4166\"/>\n<polygon fill=\"#000000\" stroke=\"#000000\" points=\"3533.5001,-118.4132 3530,-108.4133 3526.5001,-118.4133 3533.5001,-118.4132\"/>\n</g>\n<!-- 139743367127120 -->\n<g id=\"node125\" class=\"node\">\n<title>139743367127120</title>\n<polygon fill=\"#add8e6\" stroke=\"#add8e6\" points=\"6933,-108 6879,-108 6879,-72 6933,-72 6933,-108\"/>\n<text text-anchor=\"middle\" x=\"6906\" y=\"-86.3\" font-family=\"Times,serif\" font-size=\"14.00\" fill=\"#000000\">Pow</text>\n</g>\n<!-- 139743367560080 -->\n<g id=\"node127\" class=\"node\">\n<title>139743367560080</title>\n<ellipse fill=\"none\" stroke=\"#000000\" cx=\"6906\" cy=\"-18\" rx=\"83.6854\" ry=\"18\"/>\n<text text-anchor=\"middle\" x=\"6906\" y=\"-14.3\" font-family=\"Times,serif\" font-size=\"14.00\" fill=\"#000000\">139743367560080</text>\n</g>\n<!-- 139743367127120&#45;&gt;139743367560080 -->\n<g id=\"edge102\" class=\"edge\">\n<title>139743367127120&#45;&gt;139743367560080</title>\n<path fill=\"none\" stroke=\"#000000\" d=\"M6906,-71.8314C6906,-64.131 6906,-54.9743 6906,-46.4166\"/>\n<polygon fill=\"#000000\" stroke=\"#000000\" points=\"6909.5001,-46.4132 6906,-36.4133 6902.5001,-46.4133 6909.5001,-46.4132\"/>\n</g>\n<!-- 139743367127248 -->\n<g id=\"node126\" class=\"node\">\n<title>139743367127248</title>\n<ellipse fill=\"#ffa500\" stroke=\"#ffa500\" cx=\"6906\" cy=\"-162\" rx=\"27\" ry=\"18\"/>\n</g>\n<!-- 139743367127248&#45;&gt;139743367127120 -->\n<g id=\"edge101\" class=\"edge\">\n<title>139743367127248&#45;&gt;139743367127120</title>\n<path fill=\"none\" stroke=\"#000000\" d=\"M6906,-143.8314C6906,-136.131 6906,-126.9743 6906,-118.4166\"/>\n<polygon fill=\"#000000\" stroke=\"#000000\" points=\"6909.5001,-118.4132 6906,-108.4133 6902.5001,-118.4133 6909.5001,-118.4132\"/>\n</g>\n<!-- 139743367102160 -->\n<g id=\"node128\" class=\"node\">\n<title>139743367102160</title>\n<polygon fill=\"#add8e6\" stroke=\"#add8e6\" points=\"7119,-108 7065,-108 7065,-72 7119,-72 7119,-108\"/>\n<text text-anchor=\"middle\" x=\"7092\" y=\"-86.3\" font-family=\"Times,serif\" font-size=\"14.00\" fill=\"#000000\">Add</text>\n</g>\n<!-- 139743367560176 -->\n<g id=\"node131\" class=\"node\">\n<title>139743367560176</title>\n<ellipse fill=\"none\" stroke=\"#000000\" cx=\"7092\" cy=\"-18\" rx=\"83.6854\" ry=\"18\"/>\n<text text-anchor=\"middle\" x=\"7092\" y=\"-14.3\" font-family=\"Times,serif\" font-size=\"14.00\" fill=\"#000000\">139743367560176</text>\n</g>\n<!-- 139743367102160&#45;&gt;139743367560176 -->\n<g id=\"edge105\" class=\"edge\">\n<title>139743367102160&#45;&gt;139743367560176</title>\n<path fill=\"none\" stroke=\"#000000\" d=\"M7092,-71.8314C7092,-64.131 7092,-54.9743 7092,-46.4166\"/>\n<polygon fill=\"#000000\" stroke=\"#000000\" points=\"7095.5001,-46.4132 7092,-36.4133 7088.5001,-46.4133 7095.5001,-46.4132\"/>\n</g>\n<!-- 139743367102352 -->\n<g id=\"node129\" class=\"node\">\n<title>139743367102352</title>\n<ellipse fill=\"#ffa500\" stroke=\"#ffa500\" cx=\"7056\" cy=\"-162\" rx=\"27\" ry=\"18\"/>\n</g>\n<!-- 139743367102352&#45;&gt;139743367102160 -->\n<g id=\"edge103\" class=\"edge\">\n<title>139743367102352&#45;&gt;139743367102160</title>\n<path fill=\"none\" stroke=\"#000000\" d=\"M7064.7146,-144.5708C7068.8228,-136.3544 7073.8196,-126.3608 7078.4089,-117.1821\"/>\n<polygon fill=\"#000000\" stroke=\"#000000\" points=\"7081.648,-118.5301 7082.9897,-108.0206 7075.387,-115.3996 7081.648,-118.5301\"/>\n</g>\n<!-- 139743367127184 -->\n<g id=\"node130\" class=\"node\">\n<title>139743367127184</title>\n<ellipse fill=\"#ffa500\" stroke=\"#ffa500\" cx=\"7128\" cy=\"-162\" rx=\"27\" ry=\"18\"/>\n</g>\n<!-- 139743367127184&#45;&gt;139743367102160 -->\n<g id=\"edge104\" class=\"edge\">\n<title>139743367127184&#45;&gt;139743367102160</title>\n<path fill=\"none\" stroke=\"#000000\" d=\"M7119.2854,-144.5708C7115.1772,-136.3544 7110.1804,-126.3608 7105.5911,-117.1821\"/>\n<polygon fill=\"#000000\" stroke=\"#000000\" points=\"7108.613,-115.3996 7101.0103,-108.0206 7102.352,-118.5301 7108.613,-115.3996\"/>\n</g>\n<!-- 139743367559600 -->\n<g id=\"node133\" class=\"node\">\n<title>139743367559600</title>\n<ellipse fill=\"none\" stroke=\"#000000\" cx=\"2382\" cy=\"-18\" rx=\"83.6854\" ry=\"18\"/>\n<text text-anchor=\"middle\" x=\"2382\" y=\"-14.3\" font-family=\"Times,serif\" font-size=\"14.00\" fill=\"#000000\">139743367559600</text>\n</g>\n<!-- 139743367102416&#45;&gt;139743367559600 -->\n<g id=\"edge108\" class=\"edge\">\n<title>139743367102416&#45;&gt;139743367559600</title>\n<path fill=\"none\" stroke=\"#000000\" d=\"M2382,-71.8314C2382,-64.131 2382,-54.9743 2382,-46.4166\"/>\n<polygon fill=\"#000000\" stroke=\"#000000\" points=\"2385.5001,-46.4132 2382,-36.4133 2378.5001,-46.4133 2385.5001,-46.4132\"/>\n</g>\n</g>\n</svg>\n"
          },
          "metadata": {},
          "execution_count": 82
        }
      ]
    },
    {
      "cell_type": "code",
      "metadata": {
        "colab": {
          "base_uri": "https://localhost:8080/"
        },
        "id": "nQuigespjxNt",
        "outputId": "ac4eb9ca-7228-4d76-89c1-804e23953fa3"
      },
      "source": [
        "import numpy as np\n",
        "import math\n",
        "from dezero import Variable, Function\n",
        "\n",
        "class Sin(Function):\n",
        "    def forward(self, x):\n",
        "        y = np.sin(x)\n",
        "        return y\n",
        "\n",
        "    def backward(self, gy):\n",
        "        x = self.inputs[0].data\n",
        "        gx = gy * np.cos(x)\n",
        "        return gx\n",
        "\n",
        "\n",
        "def sin(x):\n",
        "    return Sin()(x)\n",
        "\n",
        "\n",
        "x = Variable(np.array(np.pi / 4))\n",
        "y = sin(x)\n",
        "y.backward()\n",
        "print('--- original sin ---')\n",
        "print(y.data)\n",
        "print(x.grad)"
      ],
      "execution_count": 83,
      "outputs": [
        {
          "output_type": "stream",
          "name": "stdout",
          "text": [
            "--- original sin ---\n",
            "0.7071067811865475\n",
            "variable(0.7071067811865476)\n"
          ]
        }
      ]
    },
    {
      "cell_type": "code",
      "metadata": {
        "colab": {
          "base_uri": "https://localhost:8080/"
        },
        "id": "SPwVMKyNq5eC",
        "outputId": "0fc8992f-6475-4ecb-df78-e49f2ac714c7"
      },
      "source": [
        "def my_sin(x, threshold=0.0001):\n",
        "    y = 0\n",
        "    for i in range(100000):\n",
        "        c = (-1) ** i / math.factorial(2 * i + 1)\n",
        "        t = c * x ** (2 * i + 1)\n",
        "        y = y + t\n",
        "        if abs(t.data) < threshold:\n",
        "            break\n",
        "    return y\n",
        "\n",
        "\n",
        "x = Variable(np.array(np.pi / 4))\n",
        "y = my_sin(x)  # , threshold=1e-150)\n",
        "y.backward()\n",
        "print('--- approximate sin ---')\n",
        "print(y.data)\n",
        "print(x.grad)"
      ],
      "execution_count": 84,
      "outputs": [
        {
          "output_type": "stream",
          "name": "stdout",
          "text": [
            "--- approximate sin ---\n",
            "0.7071064695751781\n",
            "variable(0.7071032148228457)\n"
          ]
        }
      ]
    },
    {
      "cell_type": "code",
      "metadata": {
        "colab": {
          "base_uri": "https://localhost:8080/"
        },
        "id": "z6_vn4VqrzKt",
        "outputId": "2e748725-4002-4ae2-d2f6-dbd878f910ed"
      },
      "source": [
        "import numpy as np\n",
        "from dezero import Variable\n",
        "# import dezero's simple_core explicitly\n",
        "import dezero\n",
        "if not dezero.is_simple_core:\n",
        "    from dezero.core_simple import Variable\n",
        "    from dezero.core_simple import setup_variable\n",
        "    setup_variable()\n",
        "\n",
        "def rosenbrock(x0, x1):\n",
        "    y = 100 * (x1 - x0 ** 2) ** 2 + (x0 - 1) ** 2\n",
        "    return y\n",
        "\n",
        "\n",
        "x0 = Variable(np.array(0.0))\n",
        "x1 = Variable(np.array(2.0))\n",
        "\n",
        "y = rosenbrock(x0, x1)\n",
        "y.backward()\n",
        "print(x0.grad, x1.grad)"
      ],
      "execution_count": 89,
      "outputs": [
        {
          "output_type": "stream",
          "name": "stdout",
          "text": [
            "-2.0 400.0\n"
          ]
        }
      ]
    },
    {
      "cell_type": "code",
      "metadata": {
        "id": "clWtkcYTschy"
      },
      "source": [
        "def rosenbrock(x0, x1):\n",
        "    y = 100 * (x1 - x0 ** 2) ** 2 + (x0 - 1) ** 2\n",
        "    return y\n",
        "\n",
        "\n",
        "x0 = Variable(np.array(0.0))\n",
        "x1 = Variable(np.array(2.0))\n",
        "lr = 0.001\n",
        "iters = 1000\n",
        "\n",
        "for i in range(iters):\n",
        "    print(x0, x1)\n",
        "\n",
        "    y = rosenbrock(x0, x1)\n",
        "\n",
        "    x0.cleargrad()\n",
        "    x1.cleargrad()\n",
        "    y.backward()\n",
        "\n",
        "    x0.data -= lr * x0.grad\n",
        "    x1.data -= lr * x1.grad"
      ],
      "execution_count": null,
      "outputs": []
    },
    {
      "cell_type": "code",
      "metadata": {
        "colab": {
          "base_uri": "https://localhost:8080/"
        },
        "id": "sVjW2YpOs3Hh",
        "outputId": "35869d06-7e37-487d-caab-0902f733d57b"
      },
      "source": [
        "def f(x):\n",
        "    y = x ** 4 - 2 * x ** 2\n",
        "    return y\n",
        "\n",
        "\n",
        "def gx2(x):\n",
        "    return 12 * x ** 2 - 4\n",
        "\n",
        "\n",
        "x = Variable(np.array(2.0))\n",
        "iters = 10\n",
        "\n",
        "for i in range(iters):\n",
        "    print(i, x)\n",
        "\n",
        "    y = f(x)\n",
        "    x.cleargrad()\n",
        "    y.backward()\n",
        "\n",
        "    x.data -= x.grad / gx2(x.data)"
      ],
      "execution_count": 90,
      "outputs": [
        {
          "output_type": "stream",
          "name": "stdout",
          "text": [
            "0 variable(2.0)\n",
            "1 variable(1.4545454545454546)\n",
            "2 variable(1.1510467893775467)\n",
            "3 variable(1.0253259289766978)\n",
            "4 variable(1.0009084519430513)\n",
            "5 variable(1.0000012353089454)\n",
            "6 variable(1.000000000002289)\n",
            "7 variable(1.0)\n",
            "8 variable(1.0)\n",
            "9 variable(1.0)\n"
          ]
        }
      ]
    },
    {
      "cell_type": "code",
      "metadata": {
        "id": "zV8kbhRO2t0a"
      },
      "source": [
        "class Variable:\n",
        "    __array_priority__ = 200\n",
        "\n",
        "    def __init__(self, data, name=None):\n",
        "        if data is not None:\n",
        "            if not isinstance(data, np.ndarray):\n",
        "                raise TypeError('{} is not supported'.format(type(data)))\n",
        "\n",
        "        self.data = data\n",
        "        self.name = name\n",
        "        self.grad = None\n",
        "        self.creator = None\n",
        "        self.generation = 0\n",
        "\n",
        "    @property\n",
        "    def shape(self):\n",
        "        return self.data.shape\n",
        "\n",
        "    @property\n",
        "    def ndim(self):\n",
        "        return self.data.ndim\n",
        "\n",
        "    @property\n",
        "    def size(self):\n",
        "        return self.data.size\n",
        "\n",
        "    @property\n",
        "    def dtype(self):\n",
        "        return self.data.dtype\n",
        "\n",
        "    def __len__(self):\n",
        "        return len(self.data)\n",
        "\n",
        "    def __repr__(self):\n",
        "        if self.data is None:\n",
        "            return 'variable(None)'\n",
        "        p = str(self.data).replace('\\n', '\\n' + ' ' * 9)\n",
        "        return 'variable(' + p + ')'\n",
        "\n",
        "    def set_creator(self, func):\n",
        "        self.creator = func\n",
        "        self.generation = func.generation + 1\n",
        "\n",
        "    def cleargrad(self):\n",
        "        self.grad = None\n",
        "\n",
        "    def backward(self, retain_grad=False, create_graph=False):\n",
        "        if self.grad is None:\n",
        "            # self.grad = np.ones_like(self.data)\n",
        "            self.grad = Variable(np.ones_like(self.data))\n",
        "\n",
        "        funcs = []\n",
        "        seen_set = set()\n",
        "\n",
        "        def add_func(f):\n",
        "            if f not in seen_set:\n",
        "                funcs.append(f)\n",
        "                seen_set.add(f)\n",
        "                funcs.sort(key=lambda x: x.generation)\n",
        "\n",
        "        add_func(self.creator)\n",
        "\n",
        "        while funcs:\n",
        "            f = funcs.pop()\n",
        "            gys = [output().grad for output in f.outputs]  # output is weakref\n",
        "            \n",
        "            with using_config('enable_backprop', create_graph):\n",
        "              gxs = f.backward(*gys)\n",
        "              if not isinstance(gxs, tuple):\n",
        "                  gxs = (gxs,)\n",
        "\n",
        "              for x, gx in zip(f.inputs, gxs):\n",
        "                  if x.grad is None:\n",
        "                      x.grad = gx\n",
        "                  else:\n",
        "                      x.grad = x.grad + gx\n",
        "\n",
        "                  if x.creator is not None:\n",
        "                      add_func(x.creator)\n",
        "\n",
        "            if not retain_grad:\n",
        "                for y in f.outputs:\n",
        "                    y().grad = None  # y is weakref"
      ],
      "execution_count": 91,
      "outputs": []
    },
    {
      "cell_type": "code",
      "metadata": {
        "id": "6xfrCBEo8ltc"
      },
      "source": [
        "# =============================================================================\n",
        "# 사칙연산 / 연산자 오버로드\n",
        "# =============================================================================\n",
        "class Add(Function):\n",
        "    def forward(self, x0, x1):\n",
        "        self.x0_shape, self.x1_shape = x0.shape, x1.shape\n",
        "        y = x0 + x1\n",
        "        return y\n",
        "\n",
        "    def backward(self, gy):\n",
        "        gx0, gx1 = gy, gy\n",
        "        if self.x0_shape != self.x1_shape:  # for broadcaset\n",
        "            gx0 = dezero.functions.sum_to(gx0, self.x0_shape)\n",
        "            gx1 = dezero.functions.sum_to(gx1, self.x1_shape)\n",
        "        return gx0, gx1\n",
        "\n",
        "\n",
        "def add(x0, x1):\n",
        "    x1 = as_array(x1, dezero.cuda.get_array_module(x0.data))\n",
        "    return Add()(x0, x1)\n",
        "\n",
        "\n",
        "class Mul(Function):\n",
        "    def forward(self, x0, x1):\n",
        "        y = x0 * x1\n",
        "        return y\n",
        "\n",
        "    def backward(self, gy):\n",
        "        x0, x1 = self.inputs\n",
        "        gx0 = gy * x1\n",
        "        gx1 = gy * x0\n",
        "        if x0.shape != x1.shape:  # for broadcast\n",
        "            gx0 = dezero.functions.sum_to(gx0, x0.shape)\n",
        "            gx1 = dezero.functions.sum_to(gx1, x1.shape)\n",
        "        return gx0, gx1\n",
        "\n",
        "\n",
        "def mul(x0, x1):\n",
        "    x1 = as_array(x1, dezero.cuda.get_array_module(x0.data))\n",
        "    return Mul()(x0, x1)\n",
        "\n",
        "\n",
        "class Neg(Function):\n",
        "    def forward(self, x):\n",
        "        return -x\n",
        "\n",
        "    def backward(self, gy):\n",
        "        return -gy\n",
        "\n",
        "\n",
        "def neg(x):\n",
        "    return Neg()(x)\n",
        "\n",
        "\n",
        "class Sub(Function):\n",
        "    def forward(self, x0, x1):\n",
        "        self.x0_shape, self.x1_shape = x0.shape, x1.shape\n",
        "        y = x0 - x1\n",
        "        return y\n",
        "\n",
        "    def backward(self, gy):\n",
        "        gx0 = gy\n",
        "        gx1 = -gy\n",
        "        if self.x0_shape != self.x1_shape:  # for broadcast\n",
        "            gx0 = dezero.functions.sum_to(gx0, self.x0_shape)\n",
        "            gx1 = dezero.functions.sum_to(gx1, self.x1_shape)\n",
        "        return gx0, gx1\n",
        "\n",
        "\n",
        "def sub(x0, x1):\n",
        "    x1 = as_array(x1, dezero.cuda.get_array_module(x0.data))\n",
        "    return Sub()(x0, x1)\n",
        "\n",
        "\n",
        "def rsub(x0, x1):\n",
        "    x1 = as_array(x1, dezero.cuda.get_array_module(x0.data))\n",
        "    return Sub()(x1, x0)\n",
        "\n",
        "\n",
        "class Div(Function):\n",
        "    def forward(self, x0, x1):\n",
        "        y = x0 / x1\n",
        "        return y\n",
        "\n",
        "    def backward(self, gy):\n",
        "        x0, x1 = self.inputs\n",
        "        gx0 = gy / x1\n",
        "        gx1 = gy * (-x0 / x1 ** 2)\n",
        "        if x0.shape != x1.shape:  # for broadcast\n",
        "            gx0 = dezero.functions.sum_to(gx0, x0.shape)\n",
        "            gx1 = dezero.functions.sum_to(gx1, x1.shape)\n",
        "        return gx0, gx1\n",
        "\n",
        "\n",
        "def div(x0, x1):\n",
        "    x1 = as_array(x1, dezero.cuda.get_array_module(x0.data))\n",
        "    return Div()(x0, x1)\n",
        "\n",
        "\n",
        "def rdiv(x0, x1):\n",
        "    x1 = as_array(x1, dezero.cuda.get_array_module(x0.data))\n",
        "    return Div()(x1, x0)\n",
        "\n",
        "\n",
        "class Pow(Function):\n",
        "    def __init__(self, c):\n",
        "        self.c = c\n",
        "\n",
        "    def forward(self, x):\n",
        "        y = x ** self.c\n",
        "        return y\n",
        "\n",
        "    def backward(self, gy):\n",
        "        x, = self.inputs\n",
        "        c = self.c\n",
        "        gx = c * x ** (c - 1) * gy\n",
        "        return gx\n",
        "\n",
        "\n",
        "def pow(x, c):\n",
        "    return Pow(c)(x)\n",
        "\n",
        "def setup_variable():\n",
        "    Variable.__add__ = add\n",
        "    Variable.__radd__ = add\n",
        "    Variable.__mul__ = mul\n",
        "    Variable.__rmul__ = mul\n",
        "    Variable.__neg__ = neg\n",
        "    Variable.__sub__ = sub\n",
        "    Variable.__rsub__ = rsub\n",
        "    Variable.__truediv__ = div\n",
        "    Variable.__rtruediv__ = rdiv\n",
        "    Variable.__pow__ = pow\n",
        "    Variable.__getitem__ = dezero.functions.get_item\n",
        "\n",
        "    Variable.matmaul = dezero.functions.matmul\n",
        "    Variable.dot = dezero.functions.matmul\n",
        "    Variable.max = dezero.functions.max\n",
        "    Variable.min = dezero.functions.min"
      ],
      "execution_count": 92,
      "outputs": []
    },
    {
      "cell_type": "code",
      "metadata": {
        "colab": {
          "base_uri": "https://localhost:8080/"
        },
        "id": "z66RXNQ09cyd",
        "outputId": "c56d524f-dd21-43d9-c8be-46082f6414d0"
      },
      "source": [
        "import numpy as np\n",
        "from dezero import Variable\n",
        "\n",
        "def f(x):\n",
        "  y = x ** 4 - 2 * x ** 2\n",
        "  return y\n",
        "\n",
        "x = Variable(np.array(2.0))\n",
        "y = f(x)\n",
        "# first back prop\n",
        "y.backward(create_graph=True)\n",
        "print(x.grad)\n",
        "# second back prop\n",
        "gx = x.grad\n",
        "x.cleargrad()\n",
        "gx.backward()\n",
        "print(x.grad) # before = 68 = 24 + 44\n",
        "\n",
        "x = Variable(np.array(2.0))\n",
        "iters = 10\n",
        "\n",
        "for i in range(iters):\n",
        "    print(i, x)\n",
        "\n",
        "    y = f(x)\n",
        "    x.cleargrad()\n",
        "    y.backward(create_graph=True)\n",
        "\n",
        "    gx = x.grad\n",
        "    x.cleargrad()\n",
        "    gx.backward()\n",
        "    gx2 = x.grad\n",
        "\n",
        "    x.data -= gx.data / gx2.data"
      ],
      "execution_count": 96,
      "outputs": [
        {
          "output_type": "stream",
          "name": "stdout",
          "text": [
            "variable(24.0)\n",
            "variable(44.0)\n",
            "0 variable(2.0)\n",
            "1 variable(1.4545454545454546)\n",
            "2 variable(1.1510467893775467)\n",
            "3 variable(1.0253259289766978)\n",
            "4 variable(1.0009084519430513)\n",
            "5 variable(1.0000012353089454)\n",
            "6 variable(1.000000000002289)\n",
            "7 variable(1.0)\n",
            "8 variable(1.0)\n",
            "9 variable(1.0)\n"
          ]
        }
      ]
    },
    {
      "cell_type": "code",
      "metadata": {
        "colab": {
          "base_uri": "https://localhost:8080/",
          "height": 265
        },
        "id": "ac4iBjbPCXVY",
        "outputId": "ec7b6210-fae1-4ba7-d839-6d9d7fa6eb5a"
      },
      "source": [
        "# sin cos 함수 고차미분\n",
        "import numpy as np\n",
        "import matplotlib.pyplot as plt\n",
        "from dezero import Variable\n",
        "import dezero.functions as F\n",
        "\n",
        "x = Variable(np.linspace(-7, 7, 200))\n",
        "y = F.sin(x)\n",
        "y.backward(create_graph=True)\n",
        "\n",
        "logs = [y.data]\n",
        "\n",
        "for i in range(3):\n",
        "    logs.append(x.grad.data)\n",
        "    gx = x.grad\n",
        "    x.cleargrad()\n",
        "    gx.backward(create_graph=True)\n",
        "\n",
        "labels = [\"y=sin(x)\", \"y'\", \"y''\", \"y'''\"]\n",
        "for i, v in enumerate(logs):\n",
        "    plt.plot(x.data, logs[i], label=labels[i])\n",
        "plt.legend(loc='lower right')\n",
        "plt.show()"
      ],
      "execution_count": 97,
      "outputs": [
        {
          "output_type": "display_data",
          "data": {
            "image/png": "[encoded data removed]",
            "text/plain": [
              "<Figure size 432x288 with 1 Axes>"
            ]
          },
          "metadata": {
            "needs_background": "light"
          }
        }
      ]
    },
    {
      "cell_type": "code",
      "metadata": {
        "id": "SPuTBPHtDg2r"
      },
      "source": [
        "class Tanh(Function):\n",
        "  def forward(self, x):\n",
        "    y = np.tanh(x)\n",
        "    return y\n",
        "  \n",
        "  def backward(self, gy):\n",
        "    y = self.outputs[0]()\n",
        "    gx = gy * (1 - y * y)\n",
        "    return gx\n",
        "\n",
        "def tanh(x):\n",
        "  return Tanh()(x)"
      ],
      "execution_count": 98,
      "outputs": []
    },
    {
      "cell_type": "code",
      "metadata": {
        "colab": {
          "base_uri": "https://localhost:8080/",
          "height": 1000
        },
        "id": "NyWqyQ4CESw6",
        "outputId": "52dc6a61-2fa4-43cc-8683-07db1b13a913"
      },
      "source": [
        "import numpy as np\n",
        "from dezero import Variable\n",
        "from dezero.utils import plot_dot_graph\n",
        "import dezero.functions as F\n",
        "\n",
        "x = Variable(np.array(1.0))\n",
        "y = F.tanh(x)\n",
        "x.name = 'x'\n",
        "y.name = 'y'\n",
        "y.backward(create_graph=True)\n",
        "\n",
        "iters = 1\n",
        "\n",
        "for i in range(iters):\n",
        "    gx = x.grad\n",
        "    x.cleargrad()\n",
        "    gx.backward(create_graph=True)\n",
        "\n",
        "gx = x.grad\n",
        "gx.name = 'gx' + str(iters + 1)\n",
        "plot_dot_graph(gx, verbose=False, to_file='tanh.png')"
      ],
      "execution_count": 99,
      "outputs": [
        {
          "output_type": "execute_result",
          "data": {
            "image/png": "[encoded data removed]",
            "text/plain": [
              "<IPython.core.display.Image object>"
            ]
          },
          "metadata": {},
          "execution_count": 99
        }
      ]
    },
    {
      "cell_type": "code",
      "metadata": {
        "colab": {
          "base_uri": "https://localhost:8080/"
        },
        "id": "aMfmPY_pEaid",
        "outputId": "47aea6a3-2a49-4e78-ae9a-03a6dfe4f245"
      },
      "source": [
        "x = Variable(np.array(2.0))\n",
        "y = x ** 2\n",
        "y.backward(create_graph=True)\n",
        "gx = x.grad\n",
        "x.cleargrad()\n",
        "\n",
        "z = gx ** 3 + y\n",
        "z.backward()\n",
        "print(x.grad)"
      ],
      "execution_count": 100,
      "outputs": [
        {
          "output_type": "stream",
          "name": "stdout",
          "text": [
            "variable(100.0)\n"
          ]
        }
      ]
    },
    {
      "cell_type": "code",
      "metadata": {
        "id": "dZ8xhtTGHeqO"
      },
      "source": [
        ""
      ],
      "execution_count": null,
      "outputs": []
    }
  ]
}