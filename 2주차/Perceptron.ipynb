{
  "nbformat": 4,
  "nbformat_minor": 0,
  "metadata": {
    "colab": {
      "name": "Perceptron.ipynb",
      "provenance": [],
      "collapsed_sections": [],
      "authorship_tag": "ABX9TyPeGemPfOELs0V6osoQt48e",
      "include_colab_link": true
    },
    "kernelspec": {
      "name": "python3",
      "display_name": "Python 3"
    }
  },
  "cells": [
    {
      "cell_type": "markdown",
      "metadata": {
        "id": "view-in-github",
        "colab_type": "text"
      },
      "source": [
        "<a href=\"https://colab.research.google.com/github/mintseok/MachineLearning/blob/main/2%EC%A3%BC%EC%B0%A8/Perceptron.ipynb\" target=\"_parent\"><img src=\"https://colab.research.google.com/assets/colab-badge.svg\" alt=\"Open In Colab\"/></a>"
      ]
    },
    {
      "cell_type": "code",
      "metadata": {
        "id": "pMAplGvSK2yj"
      },
      "source": [
        "import numpy as np"
      ],
      "execution_count": 2,
      "outputs": []
    },
    {
      "cell_type": "code",
      "metadata": {
        "id": "HrHocptyH3cN"
      },
      "source": [
        "def AND (x1, x2):\r\n",
        "  x = np.array([x1, x2])    # 입력\r\n",
        "  w = np.array([0.5, 0.5])  # 가중치\r\n",
        "  b = -0.7                  # 편향\r\n",
        "  tmp = np.sum(w*x) + b\r\n",
        "  if tmp <= 0:\r\n",
        "    return 0\r\n",
        "  else:\r\n",
        "    return 1"
      ],
      "execution_count": 3,
      "outputs": []
    },
    {
      "cell_type": "code",
      "metadata": {
        "id": "22KRLQbRJ4Ob"
      },
      "source": [
        "def NAND (x1, x2):\r\n",
        "  x = np.array([x1, x2])    # 입력\r\n",
        "  w = np.array([-0.5, -0.5])  # 가중치\r\n",
        "  b = 0.7                  # 편향\r\n",
        "  tmp = np.sum(w*x) + b\r\n",
        "  if tmp <= 0:\r\n",
        "    return 0\r\n",
        "  else:\r\n",
        "    return 1"
      ],
      "execution_count": 4,
      "outputs": []
    },
    {
      "cell_type": "code",
      "metadata": {
        "id": "xh2ZH5xPO-We"
      },
      "source": [
        "def OR (x1, x2):\r\n",
        "  x = np.array([x1, x2])    # 입력\r\n",
        "  w = np.array([0.5, 0.5])  # 가중치\r\n",
        "  b = -0.2                  # 편향\r\n",
        "  tmp = np.sum(w*x) + b\r\n",
        "  if tmp <= 0:\r\n",
        "    return 0\r\n",
        "  else:\r\n",
        "    return 1"
      ],
      "execution_count": 5,
      "outputs": []
    },
    {
      "cell_type": "code",
      "metadata": {
        "id": "oGwLY98KMlbz"
      },
      "source": [
        "def NOR (x1, x2):\r\n",
        "  x = np.array([x1, x2])    # 입력\r\n",
        "  w = np.array([-0.5, -0.5])  # 가중치\r\n",
        "  b = 0.2                  # 편향\r\n",
        "  tmp = np.sum(w*x) + b\r\n",
        "  if tmp <= 0:\r\n",
        "    return 0\r\n",
        "  else:\r\n",
        "    return 1"
      ],
      "execution_count": 17,
      "outputs": []
    },
    {
      "cell_type": "code",
      "metadata": {
        "id": "ZkK_ZJCSO_BG"
      },
      "source": [
        "def XOR(x1, x2):\r\n",
        "  s1 = NAND(x1, x2)\r\n",
        "  s2 = OR(x1, x2)\r\n",
        "  y = AND(s1, s2)\r\n",
        "  return y"
      ],
      "execution_count": 6,
      "outputs": []
    },
    {
      "cell_type": "code",
      "metadata": {
        "id": "5MEO9IBbYkiv"
      },
      "source": [
        "def XNOR(x1, x2):\r\n",
        "  s1 = NOR(x1, x2)\r\n",
        "  s2 = AND(x1, x2)\r\n",
        "  y = OR(s1, s2)\r\n",
        "  return y"
      ],
      "execution_count": 18,
      "outputs": []
    },
    {
      "cell_type": "code",
      "metadata": {
        "colab": {
          "base_uri": "https://localhost:8080/"
        },
        "id": "BoSJwKwaM5vb",
        "outputId": "f8d10e39-de22-473f-dd77-acd1fd1b084e"
      },
      "source": [
        "XNOR(0,0)"
      ],
      "execution_count": 23,
      "outputs": [
        {
          "output_type": "execute_result",
          "data": {
            "text/plain": [
              "1"
            ]
          },
          "metadata": {
            "tags": []
          },
          "execution_count": 23
        }
      ]
    },
    {
      "cell_type": "code",
      "metadata": {
        "colab": {
          "base_uri": "https://localhost:8080/"
        },
        "id": "dTQinnoYKQuJ",
        "outputId": "a4fb46c1-2a33-4624-b41a-6710078dc6ed"
      },
      "source": [
        "XNOR(0,1)"
      ],
      "execution_count": 19,
      "outputs": [
        {
          "output_type": "execute_result",
          "data": {
            "text/plain": [
              "0"
            ]
          },
          "metadata": {
            "tags": []
          },
          "execution_count": 19
        }
      ]
    },
    {
      "cell_type": "code",
      "metadata": {
        "colab": {
          "base_uri": "https://localhost:8080/"
        },
        "id": "qTfzO3fLM1gy",
        "outputId": "2eb41fd8-8922-4eed-d122-e7dafa44c345"
      },
      "source": [
        "XNOR(1,0)"
      ],
      "execution_count": 22,
      "outputs": [
        {
          "output_type": "execute_result",
          "data": {
            "text/plain": [
              "0"
            ]
          },
          "metadata": {
            "tags": []
          },
          "execution_count": 22
        }
      ]
    },
    {
      "cell_type": "code",
      "metadata": {
        "colab": {
          "base_uri": "https://localhost:8080/"
        },
        "id": "Rj4Su3iuM3UJ",
        "outputId": "765c171c-cfd1-4ce9-81b6-35bc7acc193f"
      },
      "source": [
        "XNOR(1,1)"
      ],
      "execution_count": 24,
      "outputs": [
        {
          "output_type": "execute_result",
          "data": {
            "text/plain": [
              "1"
            ]
          },
          "metadata": {
            "tags": []
          },
          "execution_count": 24
        }
      ]
    },
    {
      "cell_type": "code",
      "metadata": {
        "id": "wN9kVRZ9M8dh"
      },
      "source": [
        ""
      ],
      "execution_count": null,
      "outputs": []
    }
  ]
}