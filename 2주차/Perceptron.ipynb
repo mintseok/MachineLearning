{
  "nbformat": 4,
  "nbformat_minor": 0,
  "metadata": {
    "colab": {
      "name": "Perceptron.ipynb",
      "provenance": [],
      "collapsed_sections": [],
      "authorship_tag": "ABX9TyP2xQ8iZnxmMaeGMzLlCHHm",
      "include_colab_link": true
    },
    "kernelspec": {
      "name": "python3",
      "display_name": "Python 3"
    }
  },
  "cells": [
    {
      "cell_type": "markdown",
      "metadata": {
        "id": "view-in-github",
        "colab_type": "text"
      },
      "source": [
        "<a href=\"https://colab.research.google.com/github/mintseok/MachineLearning/blob/main/2%EC%A3%BC%EC%B0%A8/Perceptron.ipynb\" target=\"_parent\"><img src=\"https://colab.research.google.com/assets/colab-badge.svg\" alt=\"Open In Colab\"/></a>"
      ]
    },
    {
      "cell_type": "code",
      "metadata": {
        "id": "pMAplGvSK2yj"
      },
      "source": [
        "import numpy as np"
      ],
      "execution_count": 2,
      "outputs": []
    },
    {
      "cell_type": "code",
      "metadata": {
        "id": "HrHocptyH3cN"
      },
      "source": [
        "def AND (x1, x2):\r\n",
        "  x = np.array([x1, x2])    # 입력\r\n",
        "  w = np.array([0.5, 0.5])  # 가중치\r\n",
        "  b = -0.7                  # 편향\r\n",
        "  tmp = np.sum(w*x) + b\r\n",
        "  if tmp <= 0:\r\n",
        "    return 0\r\n",
        "  else:\r\n",
        "    return 1"
      ],
      "execution_count": 3,
      "outputs": []
    },
    {
      "cell_type": "code",
      "metadata": {
        "id": "22KRLQbRJ4Ob"
      },
      "source": [
        "def NAND (x1, x2):\r\n",
        "  x = np.array([x1, x2])    # 입력\r\n",
        "  w = np.array([-0.5, -0.5])  # 가중치\r\n",
        "  b = 0.7                  # 편향\r\n",
        "  tmp = np.sum(w*x) + b\r\n",
        "  if tmp <= 0:\r\n",
        "    return 0\r\n",
        "  else:\r\n",
        "    return 1"
      ],
      "execution_count": 4,
      "outputs": []
    },
    {
      "cell_type": "code",
      "metadata": {
        "id": "xh2ZH5xPO-We"
      },
      "source": [
        "def OR (x1, x2):\r\n",
        "  x = np.array([x1, x2])    # 입력\r\n",
        "  w = np.array([0.5, 0.5])  # 가중치\r\n",
        "  b = -0.2                  # 편향\r\n",
        "  tmp = np.sum(w*x) + b\r\n",
        "  if tmp <= 0:\r\n",
        "    return 0\r\n",
        "  else:\r\n",
        "    return 1"
      ],
      "execution_count": 5,
      "outputs": []
    },
    {
      "cell_type": "code",
      "metadata": {
        "id": "ZkK_ZJCSO_BG"
      },
      "source": [
        "def XOR(x1, x2):\r\n",
        "  s1 = NAND(x1, x2)\r\n",
        "  s2 = OR(x1, x2)\r\n",
        "  y = AND(s1, s2)\r\n",
        "  return y"
      ],
      "execution_count": 1,
      "outputs": []
    },
    {
      "cell_type": "code",
      "metadata": {
        "id": "5MEO9IBbYkiv"
      },
      "source": [
        ""
      ],
      "execution_count": null,
      "outputs": []
    }
  ]
}