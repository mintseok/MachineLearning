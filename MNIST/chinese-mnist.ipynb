{
 "cells": [
  {
   "cell_type": "code",
   "execution_count": 1,
   "id": "gentle-yacht",
   "metadata": {
    "execution": {
     "iopub.execute_input": "2021-06-26T05:04:30.418020Z",
     "iopub.status.busy": "2021-06-26T05:04:30.417272Z",
     "iopub.status.idle": "2021-06-26T05:04:35.827627Z",
     "shell.execute_reply": "2021-06-26T05:04:35.826842Z",
     "shell.execute_reply.started": "2021-06-26T04:12:39.107173Z"
    },
    "papermill": {
     "duration": 5.450302,
     "end_time": "2021-06-26T05:04:35.827779",
     "exception": false,
     "start_time": "2021-06-26T05:04:30.377477",
     "status": "completed"
    },
    "tags": []
   },
   "outputs": [],
   "source": [
    "import numpy as np\n",
    "import pandas as pd\n",
    "import os\n",
    "import matplotlib.pyplot as plt\n",
    "import tensorflow as tf\n",
    "\n",
    "from tensorflow.keras.utils import to_categorical\n",
    "from tensorflow.keras.preprocessing.image import load_img, img_to_array\n",
    "from tensorflow.python.keras.preprocessing.image import ImageDataGenerator\n",
    "\n",
    "from sklearn.metrics import classification_report, log_loss, accuracy_score\n",
    "from sklearn.model_selection import train_test_split\n",
    "from tqdm import tqdm\n",
    "import random"
   ]
  },
  {
   "cell_type": "markdown",
   "id": "qualified-spotlight",
   "metadata": {
    "papermill": {
     "duration": 0.022927,
     "end_time": "2021-06-26T05:04:35.875373",
     "exception": false,
     "start_time": "2021-06-26T05:04:35.852446",
     "status": "completed"
    },
    "tags": []
   },
   "source": [
    "1. 데이터 확인하기"
   ]
  },
  {
   "cell_type": "code",
   "execution_count": 2,
   "id": "north-authority",
   "metadata": {
    "execution": {
     "iopub.execute_input": "2021-06-26T05:04:35.926708Z",
     "iopub.status.busy": "2021-06-26T05:04:35.925767Z",
     "iopub.status.idle": "2021-06-26T05:04:35.928613Z",
     "shell.execute_reply": "2021-06-26T05:04:35.928182Z",
     "shell.execute_reply.started": "2021-06-26T04:12:44.474692Z"
    },
    "papermill": {
     "duration": 0.029907,
     "end_time": "2021-06-26T05:04:35.928731",
     "exception": false,
     "start_time": "2021-06-26T05:04:35.898824",
     "status": "completed"
    },
    "tags": []
   },
   "outputs": [],
   "source": [
    "data_dir = '../input/chinese-mnist/data/data' # jpg 형식의 data 불러오기"
   ]
  },
  {
   "cell_type": "code",
   "execution_count": 3,
   "id": "educated-convertible",
   "metadata": {
    "execution": {
     "iopub.execute_input": "2021-06-26T05:04:35.981990Z",
     "iopub.status.busy": "2021-06-26T05:04:35.981361Z",
     "iopub.status.idle": "2021-06-26T05:04:36.031726Z",
     "shell.execute_reply": "2021-06-26T05:04:36.032173Z",
     "shell.execute_reply.started": "2021-06-26T04:12:44.481573Z"
    },
    "papermill": {
     "duration": 0.079981,
     "end_time": "2021-06-26T05:04:36.032323",
     "exception": false,
     "start_time": "2021-06-26T05:04:35.952342",
     "status": "completed"
    },
    "tags": []
   },
   "outputs": [
    {
     "data": {
      "text/html": [
       "<div>\n",
       "<style scoped>\n",
       "    .dataframe tbody tr th:only-of-type {\n",
       "        vertical-align: middle;\n",
       "    }\n",
       "\n",
       "    .dataframe tbody tr th {\n",
       "        vertical-align: top;\n",
       "    }\n",
       "\n",
       "    .dataframe thead th {\n",
       "        text-align: right;\n",
       "    }\n",
       "</style>\n",
       "<table border=\"1\" class=\"dataframe\">\n",
       "  <thead>\n",
       "    <tr style=\"text-align: right;\">\n",
       "      <th></th>\n",
       "      <th>suite_id</th>\n",
       "      <th>sample_id</th>\n",
       "      <th>code</th>\n",
       "      <th>value</th>\n",
       "      <th>character</th>\n",
       "    </tr>\n",
       "  </thead>\n",
       "  <tbody>\n",
       "    <tr>\n",
       "      <th>0</th>\n",
       "      <td>1</td>\n",
       "      <td>1</td>\n",
       "      <td>10</td>\n",
       "      <td>9</td>\n",
       "      <td>九</td>\n",
       "    </tr>\n",
       "    <tr>\n",
       "      <th>1</th>\n",
       "      <td>1</td>\n",
       "      <td>10</td>\n",
       "      <td>10</td>\n",
       "      <td>9</td>\n",
       "      <td>九</td>\n",
       "    </tr>\n",
       "    <tr>\n",
       "      <th>2</th>\n",
       "      <td>1</td>\n",
       "      <td>2</td>\n",
       "      <td>10</td>\n",
       "      <td>9</td>\n",
       "      <td>九</td>\n",
       "    </tr>\n",
       "    <tr>\n",
       "      <th>3</th>\n",
       "      <td>1</td>\n",
       "      <td>3</td>\n",
       "      <td>10</td>\n",
       "      <td>9</td>\n",
       "      <td>九</td>\n",
       "    </tr>\n",
       "    <tr>\n",
       "      <th>4</th>\n",
       "      <td>1</td>\n",
       "      <td>4</td>\n",
       "      <td>10</td>\n",
       "      <td>9</td>\n",
       "      <td>九</td>\n",
       "    </tr>\n",
       "    <tr>\n",
       "      <th>...</th>\n",
       "      <td>...</td>\n",
       "      <td>...</td>\n",
       "      <td>...</td>\n",
       "      <td>...</td>\n",
       "      <td>...</td>\n",
       "    </tr>\n",
       "    <tr>\n",
       "      <th>14995</th>\n",
       "      <td>99</td>\n",
       "      <td>5</td>\n",
       "      <td>9</td>\n",
       "      <td>8</td>\n",
       "      <td>八</td>\n",
       "    </tr>\n",
       "    <tr>\n",
       "      <th>14996</th>\n",
       "      <td>99</td>\n",
       "      <td>6</td>\n",
       "      <td>9</td>\n",
       "      <td>8</td>\n",
       "      <td>八</td>\n",
       "    </tr>\n",
       "    <tr>\n",
       "      <th>14997</th>\n",
       "      <td>99</td>\n",
       "      <td>7</td>\n",
       "      <td>9</td>\n",
       "      <td>8</td>\n",
       "      <td>八</td>\n",
       "    </tr>\n",
       "    <tr>\n",
       "      <th>14998</th>\n",
       "      <td>99</td>\n",
       "      <td>8</td>\n",
       "      <td>9</td>\n",
       "      <td>8</td>\n",
       "      <td>八</td>\n",
       "    </tr>\n",
       "    <tr>\n",
       "      <th>14999</th>\n",
       "      <td>99</td>\n",
       "      <td>9</td>\n",
       "      <td>9</td>\n",
       "      <td>8</td>\n",
       "      <td>八</td>\n",
       "    </tr>\n",
       "  </tbody>\n",
       "</table>\n",
       "<p>15000 rows × 5 columns</p>\n",
       "</div>"
      ],
      "text/plain": [
       "       suite_id  sample_id  code  value character\n",
       "0             1          1    10      9         九\n",
       "1             1         10    10      9         九\n",
       "2             1          2    10      9         九\n",
       "3             1          3    10      9         九\n",
       "4             1          4    10      9         九\n",
       "...         ...        ...   ...    ...       ...\n",
       "14995        99          5     9      8         八\n",
       "14996        99          6     9      8         八\n",
       "14997        99          7     9      8         八\n",
       "14998        99          8     9      8         八\n",
       "14999        99          9     9      8         八\n",
       "\n",
       "[15000 rows x 5 columns]"
      ]
     },
     "execution_count": 3,
     "metadata": {},
     "output_type": "execute_result"
    }
   ],
   "source": [
    "mnist=pd.read_csv('../input/chinese-mnist/chinese_mnist.csv')\n",
    "mnist"
   ]
  },
  {
   "cell_type": "code",
   "execution_count": 4,
   "id": "commercial-female",
   "metadata": {
    "execution": {
     "iopub.execute_input": "2021-06-26T05:04:36.083834Z",
     "iopub.status.busy": "2021-06-26T05:04:36.082976Z",
     "iopub.status.idle": "2021-06-26T05:04:36.091778Z",
     "shell.execute_reply": "2021-06-26T05:04:36.092220Z",
     "shell.execute_reply.started": "2021-06-26T04:12:44.673939Z"
    },
    "papermill": {
     "duration": 0.036285,
     "end_time": "2021-06-26T05:04:36.092371",
     "exception": false,
     "start_time": "2021-06-26T05:04:36.056086",
     "status": "completed"
    },
    "tags": []
   },
   "outputs": [
    {
     "data": {
      "text/plain": [
       "[0, 1, 2, 3, 4, 5, 6, 7, 8, 9, 10, 100, 1000, 10000, 100000000]"
      ]
     },
     "execution_count": 4,
     "metadata": {},
     "output_type": "execute_result"
    }
   ],
   "source": [
    "Name=sorted(mnist['value'].unique()) # 어떤 value들이 존재하는지 check\n",
    "Name"
   ]
  },
  {
   "cell_type": "markdown",
   "id": "delayed-portfolio",
   "metadata": {
    "papermill": {
     "duration": 0.023929,
     "end_time": "2021-06-26T05:04:36.140402",
     "exception": false,
     "start_time": "2021-06-26T05:04:36.116473",
     "status": "completed"
    },
    "tags": []
   },
   "source": [
    "2. 자료 가공하기"
   ]
  },
  {
   "cell_type": "code",
   "execution_count": 5,
   "id": "protected-union",
   "metadata": {
    "execution": {
     "iopub.execute_input": "2021-06-26T05:04:36.192744Z",
     "iopub.status.busy": "2021-06-26T05:04:36.192119Z",
     "iopub.status.idle": "2021-06-26T05:04:36.198332Z",
     "shell.execute_reply": "2021-06-26T05:04:36.198861Z",
     "shell.execute_reply.started": "2021-06-26T04:12:44.683865Z"
    },
    "papermill": {
     "duration": 0.034214,
     "end_time": "2021-06-26T05:04:36.199042",
     "exception": false,
     "start_time": "2021-06-26T05:04:36.164828",
     "status": "completed"
    },
    "tags": []
   },
   "outputs": [
    {
     "name": "stdout",
     "output_type": "stream",
     "text": [
      "15\n",
      "{0: 0, 1: 1, 2: 2, 3: 3, 4: 4, 5: 5, 6: 6, 7: 7, 8: 8, 9: 9, 10: 10, 100: 11, 1000: 12, 10000: 13, 100000000: 14}\n"
     ]
    }
   ],
   "source": [
    "n=len(Name)\n",
    "print(n)\n",
    "\n",
    "# Name에 들어있는 값들에 대해 value mapping 해주기\n",
    "N=[]\n",
    "for i in range(n):\n",
    "    N+=[i]\n",
    "    \n",
    "normal_mapping=dict(zip(Name,N )) \n",
    "reverse_mapping=dict(zip(N,Name)) \n",
    "\n",
    "def mapper(value):\n",
    "    return reverse_mapping[value]\n",
    "\n",
    "print(normal_mapping)"
   ]
  },
  {
   "cell_type": "code",
   "execution_count": 6,
   "id": "handy-documentary",
   "metadata": {
    "execution": {
     "iopub.execute_input": "2021-06-26T05:04:36.251738Z",
     "iopub.status.busy": "2021-06-26T05:04:36.251144Z",
     "iopub.status.idle": "2021-06-26T05:05:44.917074Z",
     "shell.execute_reply": "2021-06-26T05:05:44.917589Z",
     "shell.execute_reply.started": "2021-06-26T04:12:44.694201Z"
    },
    "papermill": {
     "duration": 68.693865,
     "end_time": "2021-06-26T05:05:44.917766",
     "exception": false,
     "start_time": "2021-06-26T05:04:36.223901",
     "status": "completed"
    },
    "tags": []
   },
   "outputs": [
    {
     "name": "stderr",
     "output_type": "stream",
     "text": [
      "100%|██████████| 15000/15000 [01:08<00:00, 219.33it/s]\n"
     ]
    }
   ],
   "source": [
    "datax0=[]\n",
    "dataf0=[]\n",
    "# tqdm은 상태 진행율을 보여줌. jpg 형식의 파일을 'img_to_array'로 array로 만들어주기\n",
    "for im in tqdm(os.listdir(data_dir)):\n",
    "    image=load_img(os.path.join(data_dir,im), grayscale=False, color_mode='rgb', target_size=(64,64))\n",
    "    image=img_to_array(image)\n",
    "    image=image/255.0 # 정규화\n",
    "    datax0+=[image] # 64 x 64 형태의 array\n",
    "    dataf0+=[im] # 파일의 이름"
   ]
  },
  {
   "cell_type": "code",
   "execution_count": 7,
   "id": "spatial-racing",
   "metadata": {
    "execution": {
     "iopub.execute_input": "2021-06-26T05:05:45.347177Z",
     "iopub.status.busy": "2021-06-26T05:05:45.346542Z",
     "iopub.status.idle": "2021-06-26T05:05:45.362540Z",
     "shell.execute_reply": "2021-06-26T05:05:45.363063Z",
     "shell.execute_reply.started": "2021-06-26T04:13:42.016519Z"
    },
    "papermill": {
     "duration": 0.234086,
     "end_time": "2021-06-26T05:05:45.363216",
     "exception": false,
     "start_time": "2021-06-26T05:05:45.129130",
     "status": "completed"
    },
    "tags": []
   },
   "outputs": [],
   "source": [
    "dataf1=[]\n",
    "for item in dataf0:\n",
    "    dataf1+=[int(item[0:-4].split('_')[3])-1] # 파일의 이름을 split 해서 'label' 파일 생성"
   ]
  },
  {
   "cell_type": "code",
   "execution_count": 8,
   "id": "bibliographic-prompt",
   "metadata": {
    "execution": {
     "iopub.execute_input": "2021-06-26T05:05:45.789791Z",
     "iopub.status.busy": "2021-06-26T05:05:45.789216Z",
     "iopub.status.idle": "2021-06-26T05:05:45.812852Z",
     "shell.execute_reply": "2021-06-26T05:05:45.813318Z",
     "shell.execute_reply.started": "2021-06-26T04:13:42.035911Z"
    },
    "papermill": {
     "duration": 0.238289,
     "end_time": "2021-06-26T05:05:45.813467",
     "exception": false,
     "start_time": "2021-06-26T05:05:45.575178",
     "status": "completed"
    },
    "tags": []
   },
   "outputs": [
    {
     "data": {
      "text/plain": [
       "15000"
      ]
     },
     "execution_count": 8,
     "metadata": {},
     "output_type": "execute_result"
    }
   ],
   "source": [
    "m=len(datax0)\n",
    "M=[]\n",
    "for i in range(m):\n",
    "    M+=[i]\n",
    "random.shuffle(M) # image file의 index random shuffle 해주기\n",
    "m"
   ]
  },
  {
   "cell_type": "code",
   "execution_count": 9,
   "id": "heavy-binding",
   "metadata": {
    "execution": {
     "iopub.execute_input": "2021-06-26T05:05:46.251339Z",
     "iopub.status.busy": "2021-06-26T05:05:46.250712Z",
     "iopub.status.idle": "2021-06-26T05:05:46.850199Z",
     "shell.execute_reply": "2021-06-26T05:05:46.849663Z",
     "shell.execute_reply.started": "2021-06-26T04:13:42.071134Z"
    },
    "papermill": {
     "duration": 0.819052,
     "end_time": "2021-06-26T05:05:46.850368",
     "exception": false,
     "start_time": "2021-06-26T05:05:46.031316",
     "status": "completed"
    },
    "tags": []
   },
   "outputs": [],
   "source": [
    "datax2=np.array(datax0)\n",
    "dataf2=np.array(dataf1)\n",
    "\n",
    "# 3:1 비율로 train과 test set 나눠주기\n",
    "trainx0=datax2[M[0:(m//4)*3]] # // 연산자 -> 몫 찾아주는 연산자\n",
    "testx0=datax2[M[(m//4)*3:]]\n",
    "trainy0=dataf2[M[0:(m//4)*3]]\n",
    "testy0=dataf2[M[(m//4)*3:]]"
   ]
  },
  {
   "cell_type": "code",
   "execution_count": 10,
   "id": "homeless-fifty",
   "metadata": {
    "execution": {
     "iopub.execute_input": "2021-06-26T05:05:47.279509Z",
     "iopub.status.busy": "2021-06-26T05:05:47.278437Z",
     "iopub.status.idle": "2021-06-26T05:05:47.282482Z",
     "shell.execute_reply": "2021-06-26T05:05:47.281864Z",
     "shell.execute_reply.started": "2021-06-26T04:13:42.523697Z"
    },
    "papermill": {
     "duration": 0.221174,
     "end_time": "2021-06-26T05:05:47.282606",
     "exception": false,
     "start_time": "2021-06-26T05:05:47.061432",
     "status": "completed"
    },
    "tags": []
   },
   "outputs": [],
   "source": [
    "trainy1=to_categorical(trainy0) # one-hot encoding\n",
    "#testy1=to_categorical(testy0)"
   ]
  },
  {
   "cell_type": "code",
   "execution_count": 11,
   "id": "loose-racing",
   "metadata": {
    "execution": {
     "iopub.execute_input": "2021-06-26T05:05:47.711199Z",
     "iopub.status.busy": "2021-06-26T05:05:47.710596Z",
     "iopub.status.idle": "2021-06-26T05:05:48.068993Z",
     "shell.execute_reply": "2021-06-26T05:05:48.068525Z",
     "shell.execute_reply.started": "2021-06-26T04:13:42.530116Z"
    },
    "papermill": {
     "duration": 0.57452,
     "end_time": "2021-06-26T05:05:48.069124",
     "exception": false,
     "start_time": "2021-06-26T05:05:47.494604",
     "status": "completed"
    },
    "tags": []
   },
   "outputs": [],
   "source": [
    "Trainx1=np.array(trainx0)\n",
    "Trainy1=np.array(trainy1)\n",
    "Testx1=np.array(testx0)\n",
    "#Testy1=np.array(testy1)"
   ]
  },
  {
   "cell_type": "code",
   "execution_count": 12,
   "id": "trained-township",
   "metadata": {
    "execution": {
     "iopub.execute_input": "2021-06-26T05:05:48.504817Z",
     "iopub.status.busy": "2021-06-26T05:05:48.504175Z",
     "iopub.status.idle": "2021-06-26T05:05:48.724469Z",
     "shell.execute_reply": "2021-06-26T05:05:48.723854Z",
     "shell.execute_reply.started": "2021-06-26T04:13:42.803164Z"
    },
    "papermill": {
     "duration": 0.440555,
     "end_time": "2021-06-26T05:05:48.724618",
     "exception": false,
     "start_time": "2021-06-26T05:05:48.284063",
     "status": "completed"
    },
    "tags": []
   },
   "outputs": [],
   "source": [
    "trainx,testx,trainy,testy=train_test_split(Trainx1,Trainy1,test_size=0.2,random_state=44)"
   ]
  },
  {
   "cell_type": "code",
   "execution_count": 13,
   "id": "cosmetic-headquarters",
   "metadata": {
    "execution": {
     "iopub.execute_input": "2021-06-26T05:05:49.159066Z",
     "iopub.status.busy": "2021-06-26T05:05:49.158166Z",
     "iopub.status.idle": "2021-06-26T05:05:49.161513Z",
     "shell.execute_reply": "2021-06-26T05:05:49.162027Z",
     "shell.execute_reply.started": "2021-06-26T04:13:42.971156Z"
    },
    "papermill": {
     "duration": 0.222553,
     "end_time": "2021-06-26T05:05:49.162191",
     "exception": false,
     "start_time": "2021-06-26T05:05:48.939638",
     "status": "completed"
    },
    "tags": []
   },
   "outputs": [
    {
     "name": "stdout",
     "output_type": "stream",
     "text": [
      "(9000, 64, 64, 3)\n",
      "(2250, 64, 64, 3)\n",
      "(9000, 15)\n",
      "(2250, 15)\n"
     ]
    }
   ],
   "source": [
    "print(trainx.shape)\n",
    "print(testx.shape)\n",
    "print(trainy.shape)\n",
    "print(testy.shape)"
   ]
  },
  {
   "cell_type": "code",
   "execution_count": 14,
   "id": "wanted-spelling",
   "metadata": {
    "execution": {
     "iopub.execute_input": "2021-06-26T05:05:49.633616Z",
     "iopub.status.busy": "2021-06-26T05:05:49.632939Z",
     "iopub.status.idle": "2021-06-26T05:05:49.636092Z",
     "shell.execute_reply": "2021-06-26T05:05:49.635484Z",
     "shell.execute_reply.started": "2021-06-26T04:13:42.978928Z"
    },
    "papermill": {
     "duration": 0.253676,
     "end_time": "2021-06-26T05:05:49.636230",
     "exception": false,
     "start_time": "2021-06-26T05:05:49.382554",
     "status": "completed"
    },
    "tags": []
   },
   "outputs": [],
   "source": [
    "# data augmentation function\n",
    "datagen = ImageDataGenerator(horizontal_flip=True,vertical_flip=True,rotation_range=20,zoom_range=0.2,\n",
    "                        width_shift_range=0.2,height_shift_range=0.2,shear_range=0.1,fill_mode=\"nearest\")"
   ]
  },
  {
   "cell_type": "markdown",
   "id": "skilled-fruit",
   "metadata": {
    "papermill": {
     "duration": 0.222176,
     "end_time": "2021-06-26T05:05:50.078177",
     "exception": false,
     "start_time": "2021-06-26T05:05:49.856001",
     "status": "completed"
    },
    "tags": []
   },
   "source": [
    "3. Model1 - DenseNet201"
   ]
  },
  {
   "cell_type": "code",
   "execution_count": 15,
   "id": "lonely-defensive",
   "metadata": {
    "execution": {
     "iopub.execute_input": "2021-06-26T05:05:50.533576Z",
     "iopub.status.busy": "2021-06-26T05:05:50.532811Z",
     "iopub.status.idle": "2021-06-26T05:05:55.689929Z",
     "shell.execute_reply": "2021-06-26T05:05:55.689320Z",
     "shell.execute_reply.started": "2021-06-26T04:13:42.987784Z"
    },
    "papermill": {
     "duration": 5.389716,
     "end_time": "2021-06-26T05:05:55.690087",
     "exception": false,
     "start_time": "2021-06-26T05:05:50.300371",
     "status": "completed"
    },
    "tags": []
   },
   "outputs": [
    {
     "name": "stdout",
     "output_type": "stream",
     "text": [
      "Downloading data from https://storage.googleapis.com/tensorflow/keras-applications/densenet/densenet201_weights_tf_dim_ordering_tf_kernels_notop.h5\n",
      "74842112/74836368 [==============================] - 0s 0us/step\n"
     ]
    }
   ],
   "source": [
    "pretrained_model3 = tf.keras.applications.DenseNet201(input_shape=(64,64,3),include_top=False,weights='imagenet',pooling='avg')\n",
    "pretrained_model3.trainable = False"
   ]
  },
  {
   "cell_type": "code",
   "execution_count": 16,
   "id": "sufficient-hands",
   "metadata": {
    "execution": {
     "iopub.execute_input": "2021-06-26T05:05:56.129834Z",
     "iopub.status.busy": "2021-06-26T05:05:56.128832Z",
     "iopub.status.idle": "2021-06-26T05:05:56.189801Z",
     "shell.execute_reply": "2021-06-26T05:05:56.189273Z",
     "shell.execute_reply.started": "2021-06-26T04:13:49.429449Z"
    },
    "papermill": {
     "duration": 0.284889,
     "end_time": "2021-06-26T05:05:56.189941",
     "exception": false,
     "start_time": "2021-06-26T05:05:55.905052",
     "status": "completed"
    },
    "tags": []
   },
   "outputs": [],
   "source": [
    "inputs3 = pretrained_model3.input\n",
    "x3 = tf.keras.layers.Dense(128, activation='relu')(pretrained_model3.output)\n",
    "outputs3 = tf.keras.layers.Dense(15, activation='softmax')(x3)\n",
    "model = tf.keras.Model(inputs=inputs3, outputs=outputs3)"
   ]
  },
  {
   "cell_type": "code",
   "execution_count": 17,
   "id": "second-mention",
   "metadata": {
    "execution": {
     "iopub.execute_input": "2021-06-26T05:05:56.637380Z",
     "iopub.status.busy": "2021-06-26T05:05:56.630251Z",
     "iopub.status.idle": "2021-06-26T05:05:56.650941Z",
     "shell.execute_reply": "2021-06-26T05:05:56.650255Z",
     "shell.execute_reply.started": "2021-06-26T04:13:49.491853Z"
    },
    "papermill": {
     "duration": 0.243745,
     "end_time": "2021-06-26T05:05:56.651072",
     "exception": false,
     "start_time": "2021-06-26T05:05:56.407327",
     "status": "completed"
    },
    "tags": []
   },
   "outputs": [],
   "source": [
    "model.compile(optimizer='adam',loss='categorical_crossentropy',metrics=['accuracy'])"
   ]
  },
  {
   "cell_type": "code",
   "execution_count": 18,
   "id": "beneficial-bachelor",
   "metadata": {
    "execution": {
     "iopub.execute_input": "2021-06-26T05:05:57.098243Z",
     "iopub.status.busy": "2021-06-26T05:05:57.097560Z",
     "iopub.status.idle": "2021-06-26T06:24:53.272476Z",
     "shell.execute_reply": "2021-06-26T06:24:53.273046Z",
     "shell.execute_reply.started": "2021-06-26T04:13:49.517142Z"
    },
    "papermill": {
     "duration": 4736.406533,
     "end_time": "2021-06-26T06:24:53.273242",
     "exception": false,
     "start_time": "2021-06-26T05:05:56.866709",
     "status": "completed"
    },
    "tags": []
   },
   "outputs": [
    {
     "name": "stdout",
     "output_type": "stream",
     "text": [
      "Epoch 1/40\n",
      "282/282 [==============================] - 131s 430ms/step - loss: 1.5697 - accuracy: 0.4793 - val_loss: 0.6286 - val_accuracy: 0.7769\n",
      "Epoch 2/40\n",
      "282/282 [==============================] - 117s 415ms/step - loss: 0.6342 - accuracy: 0.7749 - val_loss: 0.4821 - val_accuracy: 0.8351\n",
      "Epoch 3/40\n",
      "282/282 [==============================] - 117s 414ms/step - loss: 0.5026 - accuracy: 0.8236 - val_loss: 0.4151 - val_accuracy: 0.8524\n",
      "Epoch 4/40\n",
      "282/282 [==============================] - 118s 417ms/step - loss: 0.4586 - accuracy: 0.8370 - val_loss: 0.3446 - val_accuracy: 0.8818\n",
      "Epoch 5/40\n",
      "282/282 [==============================] - 118s 417ms/step - loss: 0.4185 - accuracy: 0.8518 - val_loss: 0.3224 - val_accuracy: 0.8938\n",
      "Epoch 6/40\n",
      "282/282 [==============================] - 118s 417ms/step - loss: 0.3934 - accuracy: 0.8565 - val_loss: 0.3123 - val_accuracy: 0.8844\n",
      "Epoch 7/40\n",
      "282/282 [==============================] - 117s 417ms/step - loss: 0.3695 - accuracy: 0.8693 - val_loss: 0.3009 - val_accuracy: 0.8978\n",
      "Epoch 8/40\n",
      "282/282 [==============================] - 117s 416ms/step - loss: 0.3510 - accuracy: 0.8769 - val_loss: 0.4008 - val_accuracy: 0.8436\n",
      "Epoch 9/40\n",
      "282/282 [==============================] - 117s 416ms/step - loss: 0.3470 - accuracy: 0.8739 - val_loss: 0.2747 - val_accuracy: 0.9080\n",
      "Epoch 10/40\n",
      "282/282 [==============================] - 117s 414ms/step - loss: 0.3418 - accuracy: 0.8857 - val_loss: 0.2400 - val_accuracy: 0.9209\n",
      "Epoch 11/40\n",
      "282/282 [==============================] - 117s 416ms/step - loss: 0.3338 - accuracy: 0.8807 - val_loss: 0.2860 - val_accuracy: 0.8960\n",
      "Epoch 12/40\n",
      "282/282 [==============================] - 118s 417ms/step - loss: 0.3233 - accuracy: 0.8862 - val_loss: 0.2157 - val_accuracy: 0.9320\n",
      "Epoch 13/40\n",
      "282/282 [==============================] - 117s 415ms/step - loss: 0.3271 - accuracy: 0.8844 - val_loss: 0.2084 - val_accuracy: 0.9324\n",
      "Epoch 14/40\n",
      "282/282 [==============================] - 118s 418ms/step - loss: 0.3106 - accuracy: 0.8918 - val_loss: 0.2479 - val_accuracy: 0.9116\n",
      "Epoch 15/40\n",
      "282/282 [==============================] - 117s 415ms/step - loss: 0.3116 - accuracy: 0.8889 - val_loss: 0.2659 - val_accuracy: 0.9062\n",
      "Epoch 16/40\n",
      "282/282 [==============================] - 118s 418ms/step - loss: 0.3000 - accuracy: 0.8911 - val_loss: 0.2627 - val_accuracy: 0.9076\n",
      "Epoch 17/40\n",
      "282/282 [==============================] - 118s 418ms/step - loss: 0.2968 - accuracy: 0.8916 - val_loss: 0.2251 - val_accuracy: 0.9262\n",
      "Epoch 18/40\n",
      "282/282 [==============================] - 117s 414ms/step - loss: 0.2894 - accuracy: 0.8975 - val_loss: 0.2299 - val_accuracy: 0.9156\n",
      "Epoch 19/40\n",
      "282/282 [==============================] - 117s 415ms/step - loss: 0.3059 - accuracy: 0.8898 - val_loss: 0.2317 - val_accuracy: 0.9213\n",
      "Epoch 20/40\n",
      "282/282 [==============================] - 117s 415ms/step - loss: 0.2773 - accuracy: 0.8994 - val_loss: 0.2057 - val_accuracy: 0.9293\n",
      "Epoch 21/40\n",
      "282/282 [==============================] - 118s 417ms/step - loss: 0.2974 - accuracy: 0.8944 - val_loss: 0.2019 - val_accuracy: 0.9356\n",
      "Epoch 22/40\n",
      "282/282 [==============================] - 117s 414ms/step - loss: 0.2853 - accuracy: 0.8990 - val_loss: 0.1991 - val_accuracy: 0.9347\n",
      "Epoch 23/40\n",
      "282/282 [==============================] - 118s 419ms/step - loss: 0.2838 - accuracy: 0.8966 - val_loss: 0.1990 - val_accuracy: 0.9329\n",
      "Epoch 24/40\n",
      "282/282 [==============================] - 118s 419ms/step - loss: 0.2973 - accuracy: 0.8953 - val_loss: 0.2022 - val_accuracy: 0.9276\n",
      "Epoch 25/40\n",
      "282/282 [==============================] - 119s 421ms/step - loss: 0.2782 - accuracy: 0.9010 - val_loss: 0.2766 - val_accuracy: 0.9053\n",
      "Epoch 26/40\n",
      "282/282 [==============================] - 119s 421ms/step - loss: 0.2951 - accuracy: 0.8958 - val_loss: 0.2377 - val_accuracy: 0.9098\n",
      "Epoch 27/40\n",
      "282/282 [==============================] - 118s 419ms/step - loss: 0.2829 - accuracy: 0.8969 - val_loss: 0.2367 - val_accuracy: 0.9124\n",
      "Epoch 28/40\n",
      "282/282 [==============================] - 118s 418ms/step - loss: 0.2709 - accuracy: 0.9049 - val_loss: 0.2058 - val_accuracy: 0.9307\n",
      "Epoch 29/40\n",
      "282/282 [==============================] - 118s 419ms/step - loss: 0.2620 - accuracy: 0.9085 - val_loss: 0.2599 - val_accuracy: 0.9062\n",
      "Epoch 30/40\n",
      "282/282 [==============================] - 119s 420ms/step - loss: 0.2604 - accuracy: 0.9018 - val_loss: 0.2642 - val_accuracy: 0.9053\n",
      "Epoch 31/40\n",
      "282/282 [==============================] - 119s 420ms/step - loss: 0.2684 - accuracy: 0.9055 - val_loss: 0.2101 - val_accuracy: 0.9244\n",
      "Epoch 32/40\n",
      "282/282 [==============================] - 119s 423ms/step - loss: 0.2671 - accuracy: 0.9040 - val_loss: 0.1856 - val_accuracy: 0.9404\n",
      "Epoch 33/40\n",
      "282/282 [==============================] - 120s 424ms/step - loss: 0.2542 - accuracy: 0.9048 - val_loss: 0.1962 - val_accuracy: 0.9329\n",
      "Epoch 34/40\n",
      "282/282 [==============================] - 119s 423ms/step - loss: 0.2416 - accuracy: 0.9120 - val_loss: 0.1812 - val_accuracy: 0.9391\n",
      "Epoch 35/40\n",
      "282/282 [==============================] - 119s 423ms/step - loss: 0.2681 - accuracy: 0.9064 - val_loss: 0.2143 - val_accuracy: 0.9236\n",
      "Epoch 36/40\n",
      "282/282 [==============================] - 119s 421ms/step - loss: 0.2640 - accuracy: 0.9061 - val_loss: 0.2113 - val_accuracy: 0.9298\n",
      "Epoch 37/40\n",
      "282/282 [==============================] - 118s 420ms/step - loss: 0.2646 - accuracy: 0.9070 - val_loss: 0.2423 - val_accuracy: 0.9160\n",
      "Epoch 38/40\n",
      "282/282 [==============================] - 119s 421ms/step - loss: 0.2587 - accuracy: 0.9061 - val_loss: 0.1736 - val_accuracy: 0.9427\n",
      "Epoch 39/40\n",
      "282/282 [==============================] - 119s 421ms/step - loss: 0.2418 - accuracy: 0.9124 - val_loss: 0.1791 - val_accuracy: 0.9369\n",
      "Epoch 40/40\n",
      "282/282 [==============================] - 119s 421ms/step - loss: 0.2485 - accuracy: 0.9126 - val_loss: 0.2098 - val_accuracy: 0.9347\n"
     ]
    }
   ],
   "source": [
    "his=model.fit(datagen.flow(trainx,trainy,batch_size=32),validation_data=(testx,testy),epochs=40)"
   ]
  },
  {
   "cell_type": "code",
   "execution_count": 19,
   "id": "prescribed-austria",
   "metadata": {
    "execution": {
     "iopub.execute_input": "2021-06-26T06:25:00.391197Z",
     "iopub.status.busy": "2021-06-26T06:25:00.297730Z",
     "iopub.status.idle": "2021-06-26T06:25:25.178870Z",
     "shell.execute_reply": "2021-06-26T06:25:25.179363Z",
     "shell.execute_reply.started": "2021-06-26T04:25:05.166462Z"
    },
    "papermill": {
     "duration": 28.450061,
     "end_time": "2021-06-26T06:25:25.179527",
     "exception": false,
     "start_time": "2021-06-26T06:24:56.729466",
     "status": "completed"
    },
    "tags": []
   },
   "outputs": [
    {
     "name": "stdout",
     "output_type": "stream",
     "text": [
      "              precision    recall  f1-score   support\n",
      "\n",
      "           0       0.99      1.00      1.00       147\n",
      "           1       1.00      0.91      0.95       165\n",
      "           2       0.85      0.96      0.90       138\n",
      "           3       0.95      0.94      0.94       162\n",
      "           4       1.00      0.88      0.93       154\n",
      "           5       0.94      0.94      0.94       139\n",
      "           6       0.91      0.96      0.94       133\n",
      "           7       0.91      0.91      0.91       152\n",
      "           8       0.99      1.00      1.00       147\n",
      "           9       0.93      0.90      0.92       157\n",
      "          10       0.98      0.95      0.96       150\n",
      "          11       0.90      0.91      0.90       138\n",
      "          12       0.95      0.93      0.94       169\n",
      "          13       0.87      0.90      0.88       163\n",
      "          14       0.84      0.96      0.90       136\n",
      "\n",
      "    accuracy                           0.93      2250\n",
      "   macro avg       0.94      0.94      0.93      2250\n",
      "weighted avg       0.94      0.93      0.94      2250\n",
      "\n"
     ]
    }
   ],
   "source": [
    "y_pred=model.predict(testx)\n",
    "pred=np.argmax(y_pred,axis=1)\n",
    "ground = np.argmax(testy,axis=1)\n",
    "print(classification_report(ground,pred))"
   ]
  },
  {
   "cell_type": "markdown",
   "id": "present-breed",
   "metadata": {
    "papermill": {
     "duration": 3.55066,
     "end_time": "2021-06-26T06:25:32.228576",
     "exception": false,
     "start_time": "2021-06-26T06:25:28.677916",
     "status": "completed"
    },
    "tags": []
   },
   "source": [
    "평가1: 50 x 50에서 64 x 64로 크기를 키웠더니 0.80에서 0.9467까지 상승"
   ]
  },
  {
   "cell_type": "code",
   "execution_count": 20,
   "id": "incomplete-bahamas",
   "metadata": {
    "execution": {
     "iopub.execute_input": "2021-06-26T06:25:39.344397Z",
     "iopub.status.busy": "2021-06-26T06:25:39.343839Z",
     "iopub.status.idle": "2021-06-26T06:25:39.356271Z",
     "shell.execute_reply": "2021-06-26T06:25:39.355799Z",
     "shell.execute_reply.started": "2021-06-26T04:25:09.376827Z"
    },
    "papermill": {
     "duration": 3.585235,
     "end_time": "2021-06-26T06:25:39.356396",
     "exception": false,
     "start_time": "2021-06-26T06:25:35.771161",
     "status": "completed"
    },
    "tags": []
   },
   "outputs": [
    {
     "data": {
      "image/png": "[encoded data removed]",
      "text/plain": [
       "<PIL.Image.Image image mode=RGB size=200x200 at 0x7F04DBBCFA50>"
      ]
     },
     "execution_count": 20,
     "metadata": {},
     "output_type": "execute_result"
    }
   ],
   "source": [
    "img0='../input/chinese-mnist/data/data/input_100_1_13.jpg'\n",
    "load_img(img0,target_size=(200,200))"
   ]
  },
  {
   "cell_type": "code",
   "execution_count": 21,
   "id": "hawaiian-understanding",
   "metadata": {
    "execution": {
     "iopub.execute_input": "2021-06-26T06:25:46.473964Z",
     "iopub.status.busy": "2021-06-26T06:25:46.473163Z",
     "iopub.status.idle": "2021-06-26T06:25:46.479196Z",
     "shell.execute_reply": "2021-06-26T06:25:46.478629Z",
     "shell.execute_reply.started": "2021-06-26T04:26:39.008707Z"
    },
    "papermill": {
     "duration": 3.615871,
     "end_time": "2021-06-26T06:25:46.479332",
     "exception": false,
     "start_time": "2021-06-26T06:25:42.863461",
     "status": "completed"
    },
    "tags": []
   },
   "outputs": [],
   "source": [
    "image=load_img(img0,target_size=(64,64))\n",
    "image=img_to_array(image) \n",
    "image=image/255.0\n",
    "prediction_image=np.array(image)\n",
    "prediction_image=np.expand_dims(image, axis=0)"
   ]
  },
  {
   "cell_type": "code",
   "execution_count": 22,
   "id": "continuous-marking",
   "metadata": {
    "execution": {
     "iopub.execute_input": "2021-06-26T06:25:53.604162Z",
     "iopub.status.busy": "2021-06-26T06:25:53.603531Z",
     "iopub.status.idle": "2021-06-26T06:25:53.679544Z",
     "shell.execute_reply": "2021-06-26T06:25:53.678876Z",
     "shell.execute_reply.started": "2021-06-26T04:26:39.218142Z"
    },
    "papermill": {
     "duration": 3.641944,
     "end_time": "2021-06-26T06:25:53.679673",
     "exception": false,
     "start_time": "2021-06-26T06:25:50.037729",
     "status": "completed"
    },
    "tags": []
   },
   "outputs": [
    {
     "name": "stdout",
     "output_type": "stream",
     "text": [
      "Prediction is 1000.\n",
      "Answer is 1000.\n"
     ]
    }
   ],
   "source": [
    "prediction=model.predict(prediction_image)\n",
    "value=np.argmax(prediction)\n",
    "pred_name=mapper(value)\n",
    "name0=img0[0:-4].split('_')[3]\n",
    "name=mapper(int(name0)-1)\n",
    "print(\"Prediction is {}.\".format(pred_name))\n",
    "print(\"Answer is {}.\".format(name))"
   ]
  },
  {
   "cell_type": "markdown",
   "id": "combined-support",
   "metadata": {
    "papermill": {
     "duration": 3.602918,
     "end_time": "2021-06-26T06:26:00.823754",
     "exception": false,
     "start_time": "2021-06-26T06:25:57.220836",
     "status": "completed"
    },
    "tags": []
   },
   "source": [
    "3. Model2 - CNN"
   ]
  },
  {
   "cell_type": "code",
   "execution_count": 23,
   "id": "comic-stanley",
   "metadata": {
    "execution": {
     "iopub.execute_input": "2021-06-26T06:26:07.960928Z",
     "iopub.status.busy": "2021-06-26T06:26:07.960216Z",
     "iopub.status.idle": "2021-06-26T06:26:08.019418Z",
     "shell.execute_reply": "2021-06-26T06:26:08.018773Z",
     "shell.execute_reply.started": "2021-06-26T04:27:59.204327Z"
    },
    "papermill": {
     "duration": 3.64661,
     "end_time": "2021-06-26T06:26:08.019558",
     "exception": false,
     "start_time": "2021-06-26T06:26:04.372948",
     "status": "completed"
    },
    "tags": []
   },
   "outputs": [],
   "source": [
    "from keras.models import Sequential"
   ]
  },
  {
   "cell_type": "code",
   "execution_count": 24,
   "id": "relevant-secondary",
   "metadata": {
    "execution": {
     "iopub.execute_input": "2021-06-26T06:26:15.107072Z",
     "iopub.status.busy": "2021-06-26T06:26:15.106393Z",
     "iopub.status.idle": "2021-06-26T06:26:15.184949Z",
     "shell.execute_reply": "2021-06-26T06:26:15.185452Z",
     "shell.execute_reply.started": "2021-06-26T04:28:52.480526Z"
    },
    "papermill": {
     "duration": 3.597349,
     "end_time": "2021-06-26T06:26:15.185614",
     "exception": false,
     "start_time": "2021-06-26T06:26:11.588265",
     "status": "completed"
    },
    "tags": []
   },
   "outputs": [],
   "source": [
    "model = Sequential()\n",
    "model.add(tf.keras.layers.Conv2D(128, 3,\n",
    "                                 padding = \"same\", \n",
    "                                 activation = \"relu\", \n",
    "                                 input_shape=[64, 64, 3]))\n",
    "model.add(tf.keras.layers.MaxPooling2D(pool_size=(2,2), strides = 2))\n",
    "\n",
    "model.add(tf.keras.layers.Conv2D(128, 3,\n",
    "                                 padding = \"same\", \n",
    "                                 activation = \"relu\", \n",
    "                                 input_shape=[64, 64, 3]))\n",
    "model.add(tf.keras.layers.MaxPooling2D(pool_size=(2,2), strides = 2))\n",
    "model.add(tf.keras.layers.Flatten())\n",
    "\n",
    "# model.add(tf.keras.layers.Dropout())\n",
    "model.add(tf.keras.layers.Dense(128,activation = \"relu\"))\n",
    "model.add(tf.keras.layers.Dense(trainy.shape[1],activation = \"softmax\"))\n",
    "model.compile(optimizer='adam',\n",
    "              loss = \"categorical_crossentropy\", \n",
    "              metrics = ['accuracy'])  "
   ]
  },
  {
   "cell_type": "code",
   "execution_count": 25,
   "id": "realistic-monthly",
   "metadata": {
    "execution": {
     "iopub.execute_input": "2021-06-26T06:26:22.772100Z",
     "iopub.status.busy": "2021-06-26T06:26:22.771387Z",
     "iopub.status.idle": "2021-06-26T07:10:38.267848Z",
     "shell.execute_reply": "2021-06-26T07:10:38.268411Z",
     "shell.execute_reply.started": "2021-06-26T04:29:18.647149Z"
    },
    "papermill": {
     "duration": 2659.450243,
     "end_time": "2021-06-26T07:10:38.268616",
     "exception": false,
     "start_time": "2021-06-26T06:26:18.818373",
     "status": "completed"
    },
    "tags": []
   },
   "outputs": [
    {
     "name": "stdout",
     "output_type": "stream",
     "text": [
      "Epoch 1/20\n",
      "282/282 [==============================] - 134s 473ms/step - loss: 1.4151 - accuracy: 0.5643 - val_loss: 0.2674 - val_accuracy: 0.9178\n",
      "Epoch 2/20\n",
      "282/282 [==============================] - 135s 478ms/step - loss: 0.2008 - accuracy: 0.9321 - val_loss: 0.2230 - val_accuracy: 0.9271\n",
      "Epoch 3/20\n",
      "282/282 [==============================] - 133s 471ms/step - loss: 0.1018 - accuracy: 0.9689 - val_loss: 0.1494 - val_accuracy: 0.9609\n",
      "Epoch 4/20\n",
      "282/282 [==============================] - 136s 482ms/step - loss: 0.0425 - accuracy: 0.9876 - val_loss: 0.1958 - val_accuracy: 0.9502\n",
      "Epoch 5/20\n",
      "282/282 [==============================] - 134s 475ms/step - loss: 0.0292 - accuracy: 0.9909 - val_loss: 0.2002 - val_accuracy: 0.9507\n",
      "Epoch 6/20\n",
      "282/282 [==============================] - 134s 474ms/step - loss: 0.0242 - accuracy: 0.9924 - val_loss: 0.1865 - val_accuracy: 0.9560\n",
      "Epoch 7/20\n",
      "282/282 [==============================] - 132s 469ms/step - loss: 0.0295 - accuracy: 0.9924 - val_loss: 0.2164 - val_accuracy: 0.9551\n",
      "Epoch 8/20\n",
      "282/282 [==============================] - 133s 471ms/step - loss: 0.0415 - accuracy: 0.9871 - val_loss: 0.1556 - val_accuracy: 0.9671\n",
      "Epoch 9/20\n",
      "282/282 [==============================] - 132s 470ms/step - loss: 0.0142 - accuracy: 0.9956 - val_loss: 0.2502 - val_accuracy: 0.9533\n",
      "Epoch 10/20\n",
      "282/282 [==============================] - 132s 467ms/step - loss: 0.0176 - accuracy: 0.9953 - val_loss: 0.1633 - val_accuracy: 0.9653\n",
      "Epoch 11/20\n",
      "282/282 [==============================] - 130s 461ms/step - loss: 0.0031 - accuracy: 0.9995 - val_loss: 0.1590 - val_accuracy: 0.9716\n",
      "Epoch 12/20\n",
      "282/282 [==============================] - 132s 467ms/step - loss: 0.0053 - accuracy: 0.9985 - val_loss: 0.1686 - val_accuracy: 0.9702\n",
      "Epoch 13/20\n",
      "282/282 [==============================] - 133s 470ms/step - loss: 0.0021 - accuracy: 0.9992 - val_loss: 0.1550 - val_accuracy: 0.9742\n",
      "Epoch 14/20\n",
      "282/282 [==============================] - 133s 473ms/step - loss: 7.1768e-04 - accuracy: 0.9999 - val_loss: 0.1518 - val_accuracy: 0.9747\n",
      "Epoch 15/20\n",
      "282/282 [==============================] - 132s 469ms/step - loss: 2.9956e-04 - accuracy: 1.0000 - val_loss: 0.1567 - val_accuracy: 0.9733\n",
      "Epoch 16/20\n",
      "282/282 [==============================] - 132s 467ms/step - loss: 1.2638e-04 - accuracy: 1.0000 - val_loss: 0.1619 - val_accuracy: 0.9738\n",
      "Epoch 17/20\n",
      "282/282 [==============================] - 132s 470ms/step - loss: 8.6258e-05 - accuracy: 1.0000 - val_loss: 0.1645 - val_accuracy: 0.9738\n",
      "Epoch 18/20\n",
      "282/282 [==============================] - 132s 469ms/step - loss: 6.4014e-05 - accuracy: 1.0000 - val_loss: 0.1686 - val_accuracy: 0.9738\n",
      "Epoch 19/20\n",
      "282/282 [==============================] - 132s 468ms/step - loss: 5.2636e-05 - accuracy: 1.0000 - val_loss: 0.1716 - val_accuracy: 0.9742\n",
      "Epoch 20/20\n",
      "282/282 [==============================] - 134s 474ms/step - loss: 4.3818e-05 - accuracy: 1.0000 - val_loss: 0.1750 - val_accuracy: 0.9738\n"
     ]
    }
   ],
   "source": [
    "history = model.fit(trainx,trainy,validation_data=(testx,testy),epochs=20)"
   ]
  },
  {
   "cell_type": "code",
   "execution_count": 26,
   "id": "approved-machinery",
   "metadata": {
    "execution": {
     "iopub.execute_input": "2021-06-26T07:10:48.758139Z",
     "iopub.status.busy": "2021-06-26T07:10:48.757506Z",
     "iopub.status.idle": "2021-06-26T07:10:57.323239Z",
     "shell.execute_reply": "2021-06-26T07:10:57.323645Z",
     "shell.execute_reply.started": "2021-06-26T04:37:23.55209Z"
    },
    "papermill": {
     "duration": 13.775784,
     "end_time": "2021-06-26T07:10:57.323802",
     "exception": false,
     "start_time": "2021-06-26T07:10:43.548018",
     "status": "completed"
    },
    "tags": []
   },
   "outputs": [
    {
     "name": "stdout",
     "output_type": "stream",
     "text": [
      "              precision    recall  f1-score   support\n",
      "\n",
      "           0       0.97      0.99      0.98       147\n",
      "           1       0.99      1.00      1.00       165\n",
      "           2       0.95      0.97      0.96       138\n",
      "           3       0.98      0.96      0.97       162\n",
      "           4       0.98      0.98      0.98       154\n",
      "           5       0.96      0.99      0.98       139\n",
      "           6       0.98      0.98      0.98       133\n",
      "           7       0.99      0.95      0.97       152\n",
      "           8       0.99      0.99      0.99       147\n",
      "           9       0.96      0.97      0.96       157\n",
      "          10       0.97      0.97      0.97       150\n",
      "          11       0.98      0.94      0.96       138\n",
      "          12       0.99      0.96      0.97       169\n",
      "          13       0.96      0.96      0.96       163\n",
      "          14       0.96      0.98      0.97       136\n",
      "\n",
      "    accuracy                           0.97      2250\n",
      "   macro avg       0.97      0.97      0.97      2250\n",
      "weighted avg       0.97      0.97      0.97      2250\n",
      "\n"
     ]
    }
   ],
   "source": [
    "y_pred=model.predict(testx)\n",
    "pred=np.argmax(y_pred,axis=1)\n",
    "ground = np.argmax(testy,axis=1)\n",
    "print(classification_report(ground,pred))"
   ]
  },
  {
   "cell_type": "code",
   "execution_count": null,
   "id": "leading-draft",
   "metadata": {
    "papermill": {
     "duration": 5.218269,
     "end_time": "2021-06-26T07:11:07.829671",
     "exception": false,
     "start_time": "2021-06-26T07:11:02.611402",
     "status": "completed"
    },
    "tags": []
   },
   "outputs": [],
   "source": []
  }
 ],
 "metadata": {
  "kernelspec": {
   "display_name": "Python 3",
   "language": "python",
   "name": "python3"
  },
  "language_info": {
   "codemirror_mode": {
    "name": "ipython",
    "version": 3
   },
   "file_extension": ".py",
   "mimetype": "text/x-python",
   "name": "python",
   "nbconvert_exporter": "python",
   "pygments_lexer": "ipython3",
   "version": "3.7.10"
  },
  "papermill": {
   "default_parameters": {},
   "duration": 7612.141548,
   "end_time": "2021-06-26T07:11:15.226243",
   "environment_variables": {},
   "exception": null,
   "input_path": "__notebook__.ipynb",
   "output_path": "__notebook__.ipynb",
   "parameters": {},
   "start_time": "2021-06-26T05:04:23.084695",
   "version": "2.3.3"
  }
 },
 "nbformat": 4,
 "nbformat_minor": 5
}
