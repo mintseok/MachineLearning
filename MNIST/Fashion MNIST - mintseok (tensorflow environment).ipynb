{
 "cells": [
  {
   "cell_type": "code",
   "execution_count": 48,
   "metadata": {},
   "outputs": [],
   "source": [
    "import tensorflow as tf\n",
    "from tensorflow import keras"
   ]
  },
  {
   "cell_type": "code",
   "execution_count": 49,
   "metadata": {},
   "outputs": [],
   "source": [
    "import sys, os\n",
    "sys.path.append(os.pardir)\n",
    "import numpy as np\n",
    "import matplotlib.pyplot as plt\n",
    "from dataset.mnist import load_mnist\n",
    "from two_layer_net import TwoLayerNet"
   ]
  },
  {
   "cell_type": "code",
   "execution_count": 50,
   "metadata": {},
   "outputs": [],
   "source": [
    "# 1. Fashion MNIST 데이터셋 불러오기\n",
    "fashion_mnist = tf.keras.datasets.fashion_mnist\n",
    "(train_images, train_labels), (test_images, test_labels) = fashion_mnist.load_data()"
   ]
  },
  {
   "cell_type": "code",
   "execution_count": 51,
   "metadata": {},
   "outputs": [
    {
     "name": "stdout",
     "output_type": "stream",
     "text": [
      "(60000, 28, 28)\n",
      "(60000,)\n",
      "(10000, 28, 28)\n",
      "(10000,)\n"
     ]
    }
   ],
   "source": [
    "print(train_images.shape)\n",
    "print(train_labels.shape)\n",
    "print(test_images.shape)\n",
    "print(test_labels.shape)"
   ]
  },
  {
   "cell_type": "code",
   "execution_count": 52,
   "metadata": {},
   "outputs": [
    {
     "data": {
      "text/plain": [
       "9"
      ]
     },
     "execution_count": 52,
     "metadata": {},
     "output_type": "execute_result"
    }
   ],
   "source": [
    "train_labels[0] # label은 0~9 사이의 숫자로 정의되어 있음"
   ]
  },
  {
   "cell_type": "code",
   "execution_count": 53,
   "metadata": {},
   "outputs": [
    {
     "data": {
      "text/plain": [
       "dtype('uint8')"
      ]
     },
     "execution_count": 53,
     "metadata": {},
     "output_type": "execute_result"
    }
   ],
   "source": [
    "train_labels.dtype"
   ]
  },
  {
   "cell_type": "code",
   "execution_count": 54,
   "metadata": {},
   "outputs": [
    {
     "data": {
      "image/png": "[encoded data removed]",
      "text/plain": [
       "<Figure size 432x288 with 2 Axes>"
      ]
     },
     "metadata": {
      "needs_background": "light"
     },
     "output_type": "display_data"
    }
   ],
   "source": [
    "plt.figure()\n",
    "plt.imshow(train_images[0])\n",
    "plt.colorbar()\n",
    "plt.grid(False)\n",
    "plt.show()"
   ]
  },
  {
   "cell_type": "code",
   "execution_count": 55,
   "metadata": {},
   "outputs": [],
   "source": [
    "# 2. 데이터 전처리 - 0에서 255 사이의 값을 갖는 훈련/테스트 데이터들을 0.0~1.0 사이의 값을 갖도록 변환\n",
    "train_images, test_images = train_images / 255.0, test_images / 255.0"
   ]
  },
  {
   "cell_type": "code",
   "execution_count": 56,
   "metadata": {
    "scrolled": true
   },
   "outputs": [],
   "source": [
    "# 3. One-hot encoding\n",
    "train_num = np.unique(train_labels, axis=0)\n",
    "train_num = train_num.shape[0]\n",
    "test_num = np.unique(test_labels, axis=0)\n",
    "test_num = test_num.shape[0]\n",
    "\n",
    "train_labels.astype('int32') # dtype을 통해 data type을 확인할 수 있음\n",
    "test_labels.astype('int32')\n",
    "\n",
    "train_labels = np.eye(train_num)[train_labels]\n",
    "test_labels = np.eye(test_num)[test_labels]"
   ]
  },
  {
   "cell_type": "code",
   "execution_count": 57,
   "metadata": {},
   "outputs": [
    {
     "data": {
      "text/plain": [
       "array([[0., 0., 0., ..., 0., 0., 1.],\n",
       "       [1., 0., 0., ..., 0., 0., 0.],\n",
       "       [1., 0., 0., ..., 0., 0., 0.],\n",
       "       ...,\n",
       "       [0., 0., 0., ..., 0., 0., 0.],\n",
       "       [1., 0., 0., ..., 0., 0., 0.],\n",
       "       [0., 0., 0., ..., 0., 0., 0.]])"
      ]
     },
     "execution_count": 57,
     "metadata": {},
     "output_type": "execute_result"
    }
   ],
   "source": [
    "train_labels"
   ]
  },
  {
   "cell_type": "code",
   "execution_count": 59,
   "metadata": {},
   "outputs": [
    {
     "name": "stdout",
     "output_type": "stream",
     "text": [
      "W1:8.742514710631237e-10\n",
      "b1:2.4549757456261572e-09\n",
      "W2:5.597581968656081e-09\n",
      "b2:1.595658544864542e-07\n"
     ]
    }
   ],
   "source": [
    "network = TwoLayerNet(input_size=784, hidden_size=50, output_size = 10)\n",
    "\n",
    "image_batch = train_images[:3] #배치 사이즈 선정 0,1,2의 데이터만 불러오겠다\n",
    "label_batch = train_labels[:3]\n",
    "grad_numerical = network.numerical_gradient(image_batch, label_batch) # 수치 미분의 기울기\n",
    "grad_backprop = network.gradient(image_batch, label_batch) # 오차역전파 기울기\n",
    "\n",
    "# 각 가중치의 절대 오차의 평균을 구한다.\n",
    "for key in grad_numerical.keys():\n",
    "    # 가중치 매개변수의 차이의 절댓값\n",
    "    diff = np.average(np.abs(grad_backprop[key] - grad_numerical[key]))\n",
    "    print(key+ \":\" + str(diff))"
   ]
  },
  {
   "cell_type": "code",
   "execution_count": 60,
   "metadata": {},
   "outputs": [
    {
     "name": "stdout",
     "output_type": "stream",
     "text": [
      "60000\n"
     ]
    }
   ],
   "source": [
    "# 하이퍼 파라미터\n",
    "iters_num = 10000 # 반복 횟수\n",
    "train_size = train_images.shape[0]\n",
    "print(train_size)\n",
    "batch_size = 100\n",
    "learning_rate = 0.1\n",
    "\n",
    "train_loss_list = []\n",
    "train_acc_list = []\n",
    "test_acc_list = []"
   ]
  },
  {
   "cell_type": "code",
   "execution_count": 61,
   "metadata": {},
   "outputs": [
    {
     "name": "stdout",
     "output_type": "stream",
     "text": [
      "i :    0\tTrain acc: 0.13028\tTest acc: 0.12690\tLoss: 2.301363\n",
      "i :  600\tTrain acc: 0.81067\tTest acc: 0.79900\tLoss: 0.492536\n",
      "i : 1200\tTrain acc: 0.83327\tTest acc: 0.82370\tLoss: 0.428941\n",
      "i : 1800\tTrain acc: 0.85008\tTest acc: 0.83430\tLoss: 0.361228\n",
      "i : 2400\tTrain acc: 0.85543\tTest acc: 0.83630\tLoss: 0.384644\n",
      "i : 3000\tTrain acc: 0.86365\tTest acc: 0.84610\tLoss: 0.270148\n",
      "i : 3600\tTrain acc: 0.87100\tTest acc: 0.84790\tLoss: 0.283686\n",
      "i : 4200\tTrain acc: 0.87448\tTest acc: 0.85860\tLoss: 0.335708\n",
      "i : 4800\tTrain acc: 0.88098\tTest acc: 0.86210\tLoss: 0.181433\n",
      "i : 5400\tTrain acc: 0.88155\tTest acc: 0.86110\tLoss: 0.245409\n",
      "i : 6000\tTrain acc: 0.87990\tTest acc: 0.85650\tLoss: 0.355185\n",
      "i : 6600\tTrain acc: 0.88298\tTest acc: 0.85930\tLoss: 0.351612\n",
      "i : 7200\tTrain acc: 0.88207\tTest acc: 0.86270\tLoss: 0.280504\n",
      "i : 7800\tTrain acc: 0.88673\tTest acc: 0.86210\tLoss: 0.354827\n",
      "i : 8400\tTrain acc: 0.89510\tTest acc: 0.87020\tLoss: 0.220108\n",
      "i : 9000\tTrain acc: 0.89573\tTest acc: 0.87170\tLoss: 0.275324\n",
      "i : 9600\tTrain acc: 0.89478\tTest acc: 0.86700\tLoss: 0.309462\n"
     ]
    }
   ],
   "source": [
    "# 에포크 설정\n",
    "iter_per_epoch = max(train_size / batch_size, 1)\n",
    "\n",
    "for i in range(iters_num):\n",
    "    batch_mask = np.random.choice(train_size, batch_size)\n",
    "    image_batch = train_images[batch_mask]\n",
    "    label_batch = train_labels[batch_mask]\n",
    "    \n",
    "    # 기울기를 계산\n",
    "    \n",
    "    grad = network.gradient(image_batch, label_batch) # 오차역전파법 방식 (훨씬 빠르다)\n",
    "    \n",
    "    # 갱신\n",
    "    for key in ('W1', 'b1', 'W2', 'b2'):\n",
    "        network.params[key] -= learning_rate * grad[key]\n",
    "        \n",
    "    loss = network.loss(image_batch, label_batch)\n",
    "    train_loss_list.append(loss)\n",
    "    \n",
    "    if i% iter_per_epoch == 0:\n",
    "        train_acc = network.accuracy(train_images, train_labels)\n",
    "        test_acc = network.accuracy(test_images, test_labels)\n",
    "        train_acc_list.append(train_acc)\n",
    "        test_acc_list.append(test_acc)\n",
    "        print(\"i : {:4d}\\tTrain acc: {:.5f}\\tTest acc: {:.5f}\\tLoss: {:f}\".format(i, train_acc, test_acc, loss))"
   ]
  },
  {
   "cell_type": "code",
   "execution_count": null,
   "metadata": {},
   "outputs": [],
   "source": []
  }
 ],
 "metadata": {
  "kernelspec": {
   "display_name": "Python 3",
   "language": "python",
   "name": "python3"
  },
  "language_info": {
   "codemirror_mode": {
    "name": "ipython",
    "version": 3
   },
   "file_extension": ".py",
   "mimetype": "text/x-python",
   "name": "python",
   "nbconvert_exporter": "python",
   "pygments_lexer": "ipython3",
   "version": "3.8.10"
  }
 },
 "nbformat": 4,
 "nbformat_minor": 4
}
