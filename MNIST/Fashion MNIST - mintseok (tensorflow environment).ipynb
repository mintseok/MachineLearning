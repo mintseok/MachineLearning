{
 "cells": [
  {
   "cell_type": "code",
   "execution_count": 1,
   "metadata": {},
   "outputs": [],
   "source": [
    "import tensorflow as tf\n",
    "from tensorflow import keras"
   ]
  },
  {
   "cell_type": "code",
   "execution_count": 2,
   "metadata": {},
   "outputs": [],
   "source": [
    "import sys, os\n",
    "sys.path.append(os.pardir)\n",
    "import numpy as np\n",
    "import matplotlib.pyplot as plt\n",
    "from dataset.mnist import load_mnist\n",
    "from two_layer_net import TwoLayerNet\n",
    "from common.util import smooth_curve\n",
    "from common.multi_layer_net import MultiLayerNet\n",
    "from common.optimizer import *"
   ]
  },
  {
   "cell_type": "code",
   "execution_count": 3,
   "metadata": {},
   "outputs": [],
   "source": [
    "# 1. Fashion MNIST 데이터셋 불러오기\n",
    "fashion_mnist = tf.keras.datasets.fashion_mnist\n",
    "(train_images, train_labels), (test_images, test_labels) = fashion_mnist.load_data()"
   ]
  },
  {
   "cell_type": "code",
   "execution_count": 4,
   "metadata": {},
   "outputs": [
    {
     "name": "stdout",
     "output_type": "stream",
     "text": [
      "(60000, 28, 28)\n",
      "(60000,)\n",
      "(10000, 28, 28)\n",
      "(10000,)\n"
     ]
    }
   ],
   "source": [
    "print(train_images.shape)\n",
    "print(train_labels.shape)\n",
    "print(test_images.shape)\n",
    "print(test_labels.shape)"
   ]
  },
  {
   "cell_type": "code",
   "execution_count": 5,
   "metadata": {},
   "outputs": [
    {
     "data": {
      "text/plain": [
       "9"
      ]
     },
     "execution_count": 5,
     "metadata": {},
     "output_type": "execute_result"
    }
   ],
   "source": [
    "train_labels[0] # label은 0~9 사이의 숫자로 정의되어 있음"
   ]
  },
  {
   "cell_type": "code",
   "execution_count": 6,
   "metadata": {},
   "outputs": [
    {
     "data": {
      "text/plain": [
       "dtype('uint8')"
      ]
     },
     "execution_count": 6,
     "metadata": {},
     "output_type": "execute_result"
    }
   ],
   "source": [
    "train_labels.dtype"
   ]
  },
  {
   "cell_type": "code",
   "execution_count": 7,
   "metadata": {},
   "outputs": [
    {
     "data": {
      "image/png": "[encoded data removed]",
      "text/plain": [
       "<Figure size 432x288 with 2 Axes>"
      ]
     },
     "metadata": {
      "needs_background": "light"
     },
     "output_type": "display_data"
    }
   ],
   "source": [
    "plt.figure()\n",
    "plt.imshow(train_images[0])\n",
    "plt.colorbar()\n",
    "plt.grid(False)\n",
    "plt.show()"
   ]
  },
  {
   "cell_type": "code",
   "execution_count": 8,
   "metadata": {},
   "outputs": [],
   "source": [
    "# 2. 데이터 전처리 - 0에서 255 사이의 값을 갖는 훈련/테스트 데이터들을 0.0~1.0 사이의 값을 갖도록 변환\n",
    "train_images, test_images = train_images / 255.0, test_images / 255.0"
   ]
  },
  {
   "cell_type": "code",
   "execution_count": 9,
   "metadata": {
    "scrolled": true
   },
   "outputs": [],
   "source": [
    "# 3. One-hot encoding\n",
    "train_num = np.unique(train_labels, axis=0)\n",
    "train_num = train_num.shape[0]\n",
    "test_num = np.unique(test_labels, axis=0)\n",
    "test_num = test_num.shape[0]\n",
    "\n",
    "train_labels.astype('int32') # dtype을 통해 data type을 확인할 수 있음\n",
    "test_labels.astype('int32')\n",
    "\n",
    "train_labels = np.eye(train_num)[train_labels]\n",
    "test_labels = np.eye(test_num)[test_labels]"
   ]
  },
  {
   "cell_type": "code",
   "execution_count": 10,
   "metadata": {},
   "outputs": [
    {
     "data": {
      "text/plain": [
       "array([[0., 0., 0., ..., 0., 0., 1.],\n",
       "       [1., 0., 0., ..., 0., 0., 0.],\n",
       "       [1., 0., 0., ..., 0., 0., 0.],\n",
       "       ...,\n",
       "       [0., 0., 0., ..., 0., 0., 0.],\n",
       "       [1., 0., 0., ..., 0., 0., 0.],\n",
       "       [0., 0., 0., ..., 0., 0., 0.]])"
      ]
     },
     "execution_count": 10,
     "metadata": {},
     "output_type": "execute_result"
    }
   ],
   "source": [
    "train_labels"
   ]
  },
  {
   "cell_type": "code",
   "execution_count": 11,
   "metadata": {},
   "outputs": [
    {
     "name": "stdout",
     "output_type": "stream",
     "text": [
      "W1:1.0866923323843561e-09\n",
      "b1:2.831853630369421e-09\n",
      "W2:9.750782533579811e-09\n",
      "b2:1.591573505391186e-07\n"
     ]
    }
   ],
   "source": [
    "network = TwoLayerNet(input_size=784, hidden_size=50, output_size = 10)\n",
    "\n",
    "image_batch = train_images[:3] #배치 사이즈 선정 0,1,2의 데이터만 불러오겠다\n",
    "label_batch = train_labels[:3]\n",
    "grad_numerical = network.numerical_gradient(image_batch, label_batch) # 수치 미분의 기울기\n",
    "grad_backprop = network.gradient(image_batch, label_batch) # 오차역전파 기울기\n",
    "\n",
    "# 각 가중치의 절대 오차의 평균을 구한다.\n",
    "for key in grad_numerical.keys():\n",
    "    # 가중치 매개변수의 차이의 절댓값\n",
    "    diff = np.average(np.abs(grad_backprop[key] - grad_numerical[key]))\n",
    "    print(key+ \":\" + str(diff))"
   ]
  },
  {
   "cell_type": "code",
   "execution_count": 25,
   "metadata": {},
   "outputs": [
    {
     "name": "stdout",
     "output_type": "stream",
     "text": [
      "60000\n"
     ]
    }
   ],
   "source": [
    "# 하이퍼 파라미터\n",
    "iters_num = 2000 # 반복 횟수\n",
    "train_size = train_images.shape[0]\n",
    "print(train_size)\n",
    "batch_size = 100\n",
    "learning_rate = 0.1\n",
    "\n",
    "train_loss_list = []\n",
    "train_acc_list = []\n",
    "test_acc_list = []"
   ]
  },
  {
   "cell_type": "code",
   "execution_count": 26,
   "metadata": {},
   "outputs": [
    {
     "name": "stdout",
     "output_type": "stream",
     "text": [
      "i :    0\tTrain acc: 0.11810\tTest acc: 0.11110\tLoss: 2.290444\n",
      "i :  600\tTrain acc: 0.81753\tTest acc: 0.80590\tLoss: 0.370220\n",
      "i : 1200\tTrain acc: 0.84277\tTest acc: 0.83110\tLoss: 0.383250\n",
      "i : 1800\tTrain acc: 0.85257\tTest acc: 0.83840\tLoss: 0.353286\n"
     ]
    }
   ],
   "source": [
    "# 에포크 설정\n",
    "iter_per_epoch = max(train_size / batch_size, 1)\n",
    "\n",
    "for i in range(iters_num):\n",
    "    batch_mask = np.random.choice(train_size, batch_size)\n",
    "    image_batch = train_images[batch_mask]\n",
    "    label_batch = train_labels[batch_mask]\n",
    "    \n",
    "    # 기울기를 계산    \n",
    "    grad = network.gradient(image_batch, label_batch) # 오차역전파법 방식 (훨씬 빠르다)\n",
    "    \n",
    "    # 갱신\n",
    "    for key in ('W1', 'b1', 'W2', 'b2'):\n",
    "        network.params[key] -= learning_rate * grad[key]\n",
    "        \n",
    "    loss = network.loss(image_batch, label_batch)\n",
    "    train_loss_list.append(loss)\n",
    "    \n",
    "    if i% iter_per_epoch == 0:\n",
    "        train_acc = network.accuracy(train_images, train_labels)\n",
    "        test_acc = network.accuracy(test_images, test_labels)\n",
    "        train_acc_list.append(train_acc)\n",
    "        test_acc_list.append(test_acc)\n",
    "        print(\"i : {:4d}\\tTrain acc: {:.5f}\\tTest acc: {:.5f}\\tLoss: {:f}\".format(i, train_acc, test_acc, loss))"
   ]
  },
  {
   "cell_type": "code",
   "execution_count": 40,
   "metadata": {},
   "outputs": [
    {
     "name": "stdout",
     "output_type": "stream",
     "text": [
      "===========iteration:0===========\n",
      "SGD loss:2.342800626055038\n",
      "Momentum loss:2.3276467382652823\n",
      "AdaGrad loss:3.3658987509780873\n",
      "Adam loss:2.060516956984996\n",
      "===========iteration:100===========\n",
      "SGD loss:0.9817580762562913\n",
      "Momentum loss:0.4829655228320488\n",
      "AdaGrad loss:0.4563378559350103\n",
      "Adam loss:0.40340339647727624\n",
      "===========iteration:200===========\n",
      "SGD loss:0.7573490814843079\n",
      "Momentum loss:0.41925170173137893\n",
      "AdaGrad loss:0.3644170727962522\n",
      "Adam loss:0.424619102021037\n",
      "===========iteration:300===========\n",
      "SGD loss:0.7297076609103536\n",
      "Momentum loss:0.5731266583679082\n",
      "AdaGrad loss:0.5108326929395907\n",
      "Adam loss:0.5618441170293004\n",
      "===========iteration:400===========\n",
      "SGD loss:0.47524856958087874\n",
      "Momentum loss:0.38739299805584726\n",
      "AdaGrad loss:0.2958855249884112\n",
      "Adam loss:0.3051968759296676\n",
      "===========iteration:500===========\n",
      "SGD loss:0.7445890118476995\n",
      "Momentum loss:0.5506630481063283\n",
      "AdaGrad loss:0.4969901634984105\n",
      "Adam loss:0.5237483344996506\n",
      "===========iteration:600===========\n",
      "SGD loss:0.5664705272905776\n",
      "Momentum loss:0.43441561457523376\n",
      "AdaGrad loss:0.41042271012543247\n",
      "Adam loss:0.4061454546673926\n",
      "===========iteration:700===========\n",
      "SGD loss:0.5421491730085607\n",
      "Momentum loss:0.4529334276012546\n",
      "AdaGrad loss:0.4323417129927597\n",
      "Adam loss:0.4666957463405142\n",
      "===========iteration:800===========\n",
      "SGD loss:0.4812318583475978\n",
      "Momentum loss:0.4350629894720357\n",
      "AdaGrad loss:0.2958782765999121\n",
      "Adam loss:0.3581929704694434\n",
      "===========iteration:900===========\n",
      "SGD loss:0.4020700037360968\n",
      "Momentum loss:0.27838367393701996\n",
      "AdaGrad loss:0.27178201744561137\n",
      "Adam loss:0.27379587151727613\n",
      "===========iteration:1000===========\n",
      "SGD loss:0.422765108117227\n",
      "Momentum loss:0.2426170588431062\n",
      "AdaGrad loss:0.22141225350967292\n",
      "Adam loss:0.2423810524202268\n",
      "===========iteration:1100===========\n",
      "SGD loss:0.5170694932079735\n",
      "Momentum loss:0.35980212491497093\n",
      "AdaGrad loss:0.38941886682676435\n",
      "Adam loss:0.40316269244321773\n",
      "===========iteration:1200===========\n",
      "SGD loss:0.48766689844590566\n",
      "Momentum loss:0.3737603614352905\n",
      "AdaGrad loss:0.3549926219204972\n",
      "Adam loss:0.3505211730261389\n",
      "===========iteration:1300===========\n",
      "SGD loss:0.7101468736569863\n",
      "Momentum loss:0.5118413756082026\n",
      "AdaGrad loss:0.5180863106585872\n",
      "Adam loss:0.46182568946747693\n",
      "===========iteration:1400===========\n",
      "SGD loss:0.3422748016543394\n",
      "Momentum loss:0.23198431248387297\n",
      "AdaGrad loss:0.21641769632066818\n",
      "Adam loss:0.1849520833229451\n",
      "===========iteration:1500===========\n",
      "SGD loss:0.43967931655173303\n",
      "Momentum loss:0.3311574434392779\n",
      "AdaGrad loss:0.3155794428040184\n",
      "Adam loss:0.3001533125550321\n",
      "===========iteration:1600===========\n",
      "SGD loss:0.44115052720155945\n",
      "Momentum loss:0.33786347735515837\n",
      "AdaGrad loss:0.30801263433667053\n",
      "Adam loss:0.31964476985773305\n",
      "===========iteration:1700===========\n",
      "SGD loss:0.4405775623366195\n",
      "Momentum loss:0.3871496900709188\n",
      "AdaGrad loss:0.3710359597434848\n",
      "Adam loss:0.32236119276581165\n",
      "===========iteration:1800===========\n",
      "SGD loss:0.32657505966373734\n",
      "Momentum loss:0.29303177170259825\n",
      "AdaGrad loss:0.21638177584914278\n",
      "Adam loss:0.21927335486000746\n",
      "===========iteration:1900===========\n",
      "SGD loss:0.4144327287624124\n",
      "Momentum loss:0.4096298992531372\n",
      "AdaGrad loss:0.3363674654969872\n",
      "Adam loss:0.40776811883173836\n"
     ]
    },
    {
     "data": {
      "image/png": "[encoded data removed]",
      "text/plain": [
       "<Figure size 432x288 with 1 Axes>"
      ]
     },
     "metadata": {
      "needs_background": "light"
     },
     "output_type": "display_data"
    }
   ],
   "source": [
    "# 다양한 optimizer로 fashion mnist 실행해보기\n",
    "optimizers = {}\n",
    "optimizers['SGD'] = SGD()\n",
    "optimizers['Momentum'] = Momentum()\n",
    "optimizers['AdaGrad'] = AdaGrad()\n",
    "optimizers['Adam'] = Adam()\n",
    "#optimizers['RMSprop'] = RMSprop()\n",
    "\n",
    "networks = {}\n",
    "train_loss = {}\n",
    "#t_acc = {}\n",
    "for key in optimizers.keys():\n",
    "    networks[key] = MultiLayerNet(\n",
    "        input_size=784, hidden_size_list=[100, 100, 100, 100],\n",
    "        output_size=10)\n",
    "    train_loss[key] = []\n",
    "    #t_acc[key] = []\n",
    "    \n",
    "# 훈련 진행하기\n",
    "for i in range(iters_num):\n",
    "    batch_mask = np.random.choice(train_size, batch_size)\n",
    "    image_batch = train_images[batch_mask]\n",
    "    label_batch = train_labels[batch_mask]\n",
    "    \n",
    "    for key in optimizers.keys():\n",
    "        grads = networks[key].gradient(image_batch, label_batch)\n",
    "        optimizers[key].update(networks[key].params, grads)\n",
    "    \n",
    "        loss = networks[key].loss(image_batch, label_batch)      \n",
    "        #acc = networks[key].accuracy(train_images, train_labels)     \n",
    "        train_loss[key].append(loss)     \n",
    "        #t_acc[key].append(acc)\n",
    "    \n",
    "    if i% 100 == 0:\n",
    "        print( \"===========\" + \"iteration:\" + str(i) + \"===========\")\n",
    "        for key in optimizers.keys():\n",
    "            train_acc = networks[key].accuracy(train_images, train_labels)\n",
    "            test_acc = networks[key].accuracy(test_images, test_labels)\n",
    "            loss = networks[key].loss(image_batch, label_batch)\n",
    "            print(key + \" loss:\" + str(loss))\n",
    "            #print(key + \" acc:\" + str(train_acc) + \"\\n\")\n",
    "\n",
    "\n",
    "# 그래프 그리기==========\n",
    "markers = {\"SGD\": \"o\", \"Momentum\": \"x\", \"AdaGrad\": \"s\", \"Adam\": \"D\"}\n",
    "x = np.arange(iters_num)\n",
    "for key in optimizers.keys():\n",
    "    plt.plot(x, smooth_curve(train_loss[key]), marker=markers[key], markevery=100, label=key)\n",
    "plt.xlabel(\"iterations\")\n",
    "plt.ylabel(\"train accuracy\")\n",
    "plt.legend()\n",
    "plt.show()"
   ]
  },
  {
   "cell_type": "code",
   "execution_count": null,
   "metadata": {},
   "outputs": [],
   "source": []
  }
 ],
 "metadata": {
  "kernelspec": {
   "display_name": "Python 3",
   "language": "python",
   "name": "python3"
  },
  "language_info": {
   "codemirror_mode": {
    "name": "ipython",
    "version": 3
   },
   "file_extension": ".py",
   "mimetype": "text/x-python",
   "name": "python",
   "nbconvert_exporter": "python",
   "pygments_lexer": "ipython3",
   "version": "3.8.10"
  }
 },
 "nbformat": 4,
 "nbformat_minor": 4
}
